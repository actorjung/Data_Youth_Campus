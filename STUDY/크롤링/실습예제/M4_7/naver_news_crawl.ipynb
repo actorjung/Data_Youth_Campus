{
 "cells": [
  {
   "cell_type": "code",
   "execution_count": 1,
   "metadata": {},
   "outputs": [],
   "source": [
    "# 리퀘스트 이용, html 데이터 가져오기\n",
    "\n",
    "\n",
    "# 뷰티풀수프 이용, html 데이터 파싱\n",
    "\n",
    "\n",
    "# 판다스 이용, csv로 저장\n",
    "import requests\n",
    "import pandas as pd\n",
    "from bs4 import BeautifulSoup"
   ]
  },
  {
   "cell_type": "code",
   "execution_count": 2,
   "metadata": {},
   "outputs": [
    {
     "data": {
      "text/html": [
       "<div>\n",
       "<style scoped>\n",
       "    .dataframe tbody tr th:only-of-type {\n",
       "        vertical-align: middle;\n",
       "    }\n",
       "\n",
       "    .dataframe tbody tr th {\n",
       "        vertical-align: top;\n",
       "    }\n",
       "\n",
       "    .dataframe thead th {\n",
       "        text-align: right;\n",
       "    }\n",
       "</style>\n",
       "<table border=\"1\" class=\"dataframe\">\n",
       "  <thead>\n",
       "    <tr style=\"text-align: right;\">\n",
       "      <th></th>\n",
       "    </tr>\n",
       "  </thead>\n",
       "  <tbody>\n",
       "  </tbody>\n",
       "</table>\n",
       "</div>"
      ],
      "text/plain": [
       "Empty DataFrame\n",
       "Columns: []\n",
       "Index: []"
      ]
     },
     "metadata": {},
     "output_type": "display_data"
    }
   ],
   "source": [
    "# 리퀘스트 이용, html 데이터 가져오기\n",
    "\n",
    "\n",
    "keyword = \"짜장면\"\n",
    "\n",
    "# url = \"https://search.naver.com/search.naver?where=news&sm=tab_jum&query=\" + keyword\n",
    "\n",
    "page = 10\n",
    "\n",
    "list_final = []\n",
    "\n",
    "for i in range(1,page+1) : \n",
    "    url_new = \"https://search.naver.com/search.naver?&where=news&query=\" + keyword + \"&sm=tab_pge&sort=0&photo=0&field=0&reporter_article=&pd=0&ds=&de=&docid=&nso=so:r,p:all,a:all&mynews=0&cluster_rank=90&start=\" + str(page-1)  + \"1&refresh_start=0\"\n",
    "    res = requests.get(url_new)\n",
    "    html_raw = res.text\n",
    "\n",
    "    # 뷰티풀 수프 이용, html 데이터 파싱\n",
    "\n",
    "    soup = BeautifulSoup(html_raw, 'html.parser')\n",
    "    articles = soup.select(\"ul.type01 > li\")\n",
    "    for article in articles :\n",
    "        result = {\n",
    "            'title' : article.select(\"a._sp_each_title\")[0]['title'],\n",
    "            'link' : article.select(\"a._sp_each_title\")[0]['href'],\n",
    "            'media' : article.select(\"span._sp_each_source\")[0].text,\n",
    "            'description' : article.select(\"dl > dd\")[1].text,\n",
    "        }\n",
    "        list_final.append(result)\n",
    "\n",
    "    \n",
    "# 판다스 이용, csv로 저장\n",
    "df = pd.DataFrame(list_final)\n",
    "\n",
    "display(df)\n",
    "df.to_csv(keyword + \"naver_news_100.csv\",encoding='utf-8-sig')\n",
    "\n",
    "\n"
   ]
  },
  {
   "cell_type": "code",
   "execution_count": null,
   "metadata": {
    "scrolled": false
   },
   "outputs": [],
   "source": [
    "\n",
    "\n"
   ]
  }
 ],
 "metadata": {
  "kernelspec": {
   "display_name": "Python 3",
   "language": "python",
   "name": "python3"
  },
  "language_info": {
   "codemirror_mode": {
    "name": "ipython",
    "version": 3
   },
   "file_extension": ".py",
   "mimetype": "text/x-python",
   "name": "python",
   "nbconvert_exporter": "python",
   "pygments_lexer": "ipython3",
   "version": "3.10.4"
  }
 },
 "nbformat": 4,
 "nbformat_minor": 2
}
