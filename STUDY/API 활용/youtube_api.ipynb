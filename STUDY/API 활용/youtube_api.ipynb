{
 "cells": [
  {
   "cell_type": "code",
   "execution_count": 1,
   "metadata": {},
   "outputs": [],
   "source": [
    "import pandas as pd\n",
    "import requests"
   ]
  },
  {
   "cell_type": "code",
   "execution_count": 2,
   "metadata": {},
   "outputs": [],
   "source": [
    "api_key = ''"
   ]
  },
  {
   "cell_type": "code",
   "execution_count": 3,
   "metadata": {},
   "outputs": [],
   "source": [
    "headers = {'Accept' : 'application/json'}"
   ]
  },
  {
   "cell_type": "code",
   "execution_count": 5,
   "metadata": {},
   "outputs": [],
   "source": [
    "channel_name = 'FSCKorea'\n",
    "params = {\n",
    "    'key' : api_key,\n",
    "    'part' : 'id,snippet',\n",
    "    'forUsername': channel_name\n",
    "}"
   ]
  },
  {
   "cell_type": "code",
   "execution_count": 7,
   "metadata": {},
   "outputs": [],
   "source": [
    "url = 'https://www.googleapis.com/youtube/v3/channels'\n",
    "res = requests.get(url, headers=headers, params=params)"
   ]
  },
  {
   "cell_type": "code",
   "execution_count": 8,
   "metadata": {},
   "outputs": [
    {
     "data": {
      "text/plain": [
       "'{\\n  \"kind\": \"youtube#channelListResponse\",\\n  \"etag\": \"I6_8MZQnzfB1CEKPRyn8lgGfPck\",\\n  \"pageInfo\": {\\n    \"totalResults\": 1,\\n    \"resultsPerPage\": 5\\n  },\\n  \"items\": [\\n    {\\n      \"kind\": \"youtube#channel\",\\n      \"etag\": \"zOe4Qh-1vauSWqxYOPLumAcBfJI\",\\n      \"id\": \"UCuJz-PXNMdWQr6TNM4htENw\",\\n      \"snippet\": {\\n        \"title\": \"금융위원회\",\\n        \"description\": \"금융산업의 선진화와 금융시장의 안정을 꾀하고, 건전한 신용질서 확립을 위하여 설립되었습니다.\",\\n        \"customUrl\": \"@fsckorea\",\\n        \"publishedAt\": \"2010-01-12T07:07:04Z\",\\n        \"thumbnails\": {\\n          \"default\": {\\n            \"url\": \"https://yt3.ggpht.com/J2oHgGRKBqq63bL0OKWf0u1P2JnqlEuKnM7x9WqpkQfe4gvVy2mrIWlfbMV6XbkDmeyyAxrauA=s88-c-k-c0x00ffffff-no-rj\",\\n            \"width\": 88,\\n            \"height\": 88\\n          },\\n          \"medium\": {\\n            \"url\": \"https://yt3.ggpht.com/J2oHgGRKBqq63bL0OKWf0u1P2JnqlEuKnM7x9WqpkQfe4gvVy2mrIWlfbMV6XbkDmeyyAxrauA=s240-c-k-c0x00ffffff-no-rj\",\\n            \"width\": 240,\\n            \"height\": 240\\n          },\\n          \"high\": {\\n            \"url\": \"https://yt3.ggpht.com/J2oHgGRKBqq63bL0OKWf0u1P2JnqlEuKnM7x9WqpkQfe4gvVy2mrIWlfbMV6XbkDmeyyAxrauA=s800-c-k-c0x00ffffff-no-rj\",\\n            \"width\": 800,\\n            \"height\": 800\\n          }\\n        },\\n        \"localized\": {\\n          \"title\": \"금융위원회\",\\n          \"description\": \"금융산업의 선진화와 금융시장의 안정을 꾀하고, 건전한 신용질서 확립을 위하여 설립되었습니다.\"\\n        },\\n        \"country\": \"KR\"\\n      }\\n    }\\n  ]\\n}\\n'"
      ]
     },
     "execution_count": 8,
     "metadata": {},
     "output_type": "execute_result"
    }
   ],
   "source": [
    "res.text"
   ]
  },
  {
   "cell_type": "code",
   "execution_count": 9,
   "metadata": {},
   "outputs": [],
   "source": [
    "channel_id = \"UCuJz-PXNMdWQr6TNM4htENw\"\n",
    "params = {\n",
    "    'part' : 'id,snippet,statistics',\n",
    "    'key':api_key,\n",
    "    'id':channel_id\n",
    "}"
   ]
  },
  {
   "cell_type": "code",
   "execution_count": 10,
   "metadata": {},
   "outputs": [],
   "source": [
    "url = 'https://www.googleapis.com/youtube/v3/channels'\n",
    "res = requests.get(url, headers=headers, params=params)"
   ]
  },
  {
   "cell_type": "code",
   "execution_count": 11,
   "metadata": {},
   "outputs": [
    {
     "data": {
      "text/plain": [
       "'{\\n  \"kind\": \"youtube#channelListResponse\",\\n  \"etag\": \"DQT4FlW-k7B6ev77eKr_eiPibxo\",\\n  \"pageInfo\": {\\n    \"totalResults\": 1,\\n    \"resultsPerPage\": 5\\n  },\\n  \"items\": [\\n    {\\n      \"kind\": \"youtube#channel\",\\n      \"etag\": \"T-BSZjArzsdgHpvn4-Seh1QNubA\",\\n      \"id\": \"UCuJz-PXNMdWQr6TNM4htENw\",\\n      \"snippet\": {\\n        \"title\": \"금융위원회\",\\n        \"description\": \"금융산업의 선진화와 금융시장의 안정을 꾀하고, 건전한 신용질서 확립을 위하여 설립되었습니다.\",\\n        \"customUrl\": \"@fsckorea\",\\n        \"publishedAt\": \"2010-01-12T07:07:04Z\",\\n        \"thumbnails\": {\\n          \"default\": {\\n            \"url\": \"https://yt3.ggpht.com/J2oHgGRKBqq63bL0OKWf0u1P2JnqlEuKnM7x9WqpkQfe4gvVy2mrIWlfbMV6XbkDmeyyAxrauA=s88-c-k-c0x00ffffff-no-rj\",\\n            \"width\": 88,\\n            \"height\": 88\\n          },\\n          \"medium\": {\\n            \"url\": \"https://yt3.ggpht.com/J2oHgGRKBqq63bL0OKWf0u1P2JnqlEuKnM7x9WqpkQfe4gvVy2mrIWlfbMV6XbkDmeyyAxrauA=s240-c-k-c0x00ffffff-no-rj\",\\n            \"width\": 240,\\n            \"height\": 240\\n          },\\n          \"high\": {\\n            \"url\": \"https://yt3.ggpht.com/J2oHgGRKBqq63bL0OKWf0u1P2JnqlEuKnM7x9WqpkQfe4gvVy2mrIWlfbMV6XbkDmeyyAxrauA=s800-c-k-c0x00ffffff-no-rj\",\\n            \"width\": 800,\\n            \"height\": 800\\n          }\\n        },\\n        \"localized\": {\\n          \"title\": \"금융위원회\",\\n          \"description\": \"금융산업의 선진화와 금융시장의 안정을 꾀하고, 건전한 신용질서 확립을 위하여 설립되었습니다.\"\\n        },\\n        \"country\": \"KR\"\\n      },\\n      \"statistics\": {\\n        \"viewCount\": \"13440576\",\\n        \"subscriberCount\": \"21700\",\\n        \"hiddenSubscriberCount\": false,\\n        \"videoCount\": \"1389\"\\n      }\\n    }\\n  ]\\n}\\n'"
      ]
     },
     "execution_count": 11,
     "metadata": {},
     "output_type": "execute_result"
    }
   ],
   "source": [
    "res.text"
   ]
  },
  {
   "cell_type": "code",
   "execution_count": 12,
   "metadata": {},
   "outputs": [
    {
     "data": {
      "text/plain": [
       "{'kind': 'youtube#channelListResponse',\n",
       " 'etag': 'DQT4FlW-k7B6ev77eKr_eiPibxo',\n",
       " 'pageInfo': {'totalResults': 1, 'resultsPerPage': 5},\n",
       " 'items': [{'kind': 'youtube#channel',\n",
       "   'etag': 'T-BSZjArzsdgHpvn4-Seh1QNubA',\n",
       "   'id': 'UCuJz-PXNMdWQr6TNM4htENw',\n",
       "   'snippet': {'title': '금융위원회',\n",
       "    'description': '금융산업의 선진화와 금융시장의 안정을 꾀하고, 건전한 신용질서 확립을 위하여 설립되었습니다.',\n",
       "    'customUrl': '@fsckorea',\n",
       "    'publishedAt': '2010-01-12T07:07:04Z',\n",
       "    'thumbnails': {'default': {'url': 'https://yt3.ggpht.com/J2oHgGRKBqq63bL0OKWf0u1P2JnqlEuKnM7x9WqpkQfe4gvVy2mrIWlfbMV6XbkDmeyyAxrauA=s88-c-k-c0x00ffffff-no-rj',\n",
       "      'width': 88,\n",
       "      'height': 88},\n",
       "     'medium': {'url': 'https://yt3.ggpht.com/J2oHgGRKBqq63bL0OKWf0u1P2JnqlEuKnM7x9WqpkQfe4gvVy2mrIWlfbMV6XbkDmeyyAxrauA=s240-c-k-c0x00ffffff-no-rj',\n",
       "      'width': 240,\n",
       "      'height': 240},\n",
       "     'high': {'url': 'https://yt3.ggpht.com/J2oHgGRKBqq63bL0OKWf0u1P2JnqlEuKnM7x9WqpkQfe4gvVy2mrIWlfbMV6XbkDmeyyAxrauA=s800-c-k-c0x00ffffff-no-rj',\n",
       "      'width': 800,\n",
       "      'height': 800}},\n",
       "    'localized': {'title': '금융위원회',\n",
       "     'description': '금융산업의 선진화와 금융시장의 안정을 꾀하고, 건전한 신용질서 확립을 위하여 설립되었습니다.'},\n",
       "    'country': 'KR'},\n",
       "   'statistics': {'viewCount': '13440576',\n",
       "    'subscriberCount': '21700',\n",
       "    'hiddenSubscriberCount': False,\n",
       "    'videoCount': '1389'}}]}"
      ]
     },
     "execution_count": 12,
     "metadata": {},
     "output_type": "execute_result"
    }
   ],
   "source": [
    "res.json()"
   ]
  },
  {
   "cell_type": "code",
   "execution_count": 13,
   "metadata": {},
   "outputs": [],
   "source": [
    "# 채널의 활동을 파악하는 API = Activities\n",
    "channel_id = 'UCuJz-PXNMdWQr6TNM4htENw'\n",
    "params = {\n",
    "    'key':api_key,\n",
    "    'part' : 'id,contentDetails',\n",
    "    'channelId' : channel_id,\n",
    "    'maxResults' : 50\n",
    "}"
   ]
  },
  {
   "cell_type": "code",
   "execution_count": 14,
   "metadata": {},
   "outputs": [],
   "source": [
    "url = 'https://www.googleapis.com/youtube/v3/channels'\n",
    "res = requests.get(url, headers=headers, params=params)"
   ]
  },
  {
   "cell_type": "code",
   "execution_count": 15,
   "metadata": {},
   "outputs": [
    {
     "data": {
      "text/plain": [
       "{'error': {'code': 400,\n",
       "  'message': 'No filter selected. Expected one of: mySubscribers, id, categoryId, managedByMe, mine, forUsername',\n",
       "  'errors': [{'message': 'No filter selected. Expected one of: mySubscribers, id, categoryId, managedByMe, mine, forUsername',\n",
       "    'domain': 'youtube.parameter',\n",
       "    'reason': 'missingRequiredParameter',\n",
       "    'location': 'parameters.',\n",
       "    'locationType': 'other'}]}}"
      ]
     },
     "execution_count": 15,
     "metadata": {},
     "output_type": "execute_result"
    }
   ],
   "source": [
    "res.json()"
   ]
  },
  {
   "cell_type": "code",
   "execution_count": null,
   "metadata": {},
   "outputs": [],
   "source": []
  }
 ],
 "metadata": {
  "kernelspec": {
   "display_name": "Python 3",
   "language": "python",
   "name": "python3"
  },
  "language_info": {
   "codemirror_mode": {
    "name": "ipython",
    "version": 3
   },
   "file_extension": ".py",
   "mimetype": "text/x-python",
   "name": "python",
   "nbconvert_exporter": "python",
   "pygments_lexer": "ipython3",
   "version": "3.10.4"
  },
  "orig_nbformat": 4
 },
 "nbformat": 4,
 "nbformat_minor": 2
}
