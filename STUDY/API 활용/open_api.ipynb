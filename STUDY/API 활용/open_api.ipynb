{
 "cells": [
  {
   "cell_type": "code",
   "execution_count": 2,
   "metadata": {},
   "outputs": [],
   "source": [
    "import requests\n",
    "from urllib import parse\n",
    "import pandas as pd\n",
    "from bs4 import BeautifulSoup\n",
    "\n",
    "# XML\n",
    "import xml.etree.ElementTree as elmTree\n",
    "import xml.dom.minidom"
   ]
  },
  {
   "cell_type": "code",
   "execution_count": 3,
   "metadata": {},
   "outputs": [],
   "source": [
    "api_key = ''\n",
    "api_key = parse.unquote(api_key)"
   ]
  },
  {
   "cell_type": "code",
   "execution_count": 4,
   "metadata": {},
   "outputs": [
    {
     "data": {
      "text/plain": [
       "'G+Len/fIvuSnXcogDQf4qrBFzXk9dcZlT/61mwtzZLbxxBUBQny4Auomt6jJr+9fpyufYh1Mw4BEUM3sGunm7A=='"
      ]
     },
     "execution_count": 4,
     "metadata": {},
     "output_type": "execute_result"
    }
   ],
   "source": [
    "api_key"
   ]
  },
  {
   "cell_type": "code",
   "execution_count": 5,
   "metadata": {},
   "outputs": [],
   "source": [
    "# 금융회사 기본정보 : JSON\n",
    "api_url = 'http://apis.data.go.kr/1160100/service/GetFnCoBasiInfoService/getFnCoOutl'\n",
    "params = {\n",
    "    'serviceKey' : api_key,\n",
    "    'pageNo' : '1',\n",
    "    'numofRows': '1',\n",
    "    'resultType' : 'json',\n",
    "    'fncoNm' : '한화투자증권'\n",
    "}"
   ]
  },
  {
   "cell_type": "code",
   "execution_count": 6,
   "metadata": {},
   "outputs": [],
   "source": [
    "res = requests.get(api_url, params=params)"
   ]
  },
  {
   "cell_type": "code",
   "execution_count": 7,
   "metadata": {},
   "outputs": [
    {
     "name": "stdout",
     "output_type": "stream",
     "text": [
      "{'company_name': '한화투자증권(주)', 'established_date': '19620719', 'stac_m': '12', 'address': '서울특별시 영등포구  여의대로 56 한화증권빌딩 한화투자증권 주식회사', 'owner_name': '권희백'}\n"
     ]
    }
   ],
   "source": [
    "# 회사이름(fncoNm), 설립일자(fncoEstDt), 결산월(fncoStacMn), 주소(fncoAdr), 대표자 이름(fncoRprNm), 금융회사거래소상장일자(fncoXchgLstgDt)\n",
    "company_info = res.json()['response']['body']['items']['item'][0]\n",
    "save_params = {\n",
    "    'company_name' : company_info['fncoNm'],\n",
    "    'established_date' : company_info['fncoEstbDt'],\n",
    "    'stac_m' : company_info['fncoStacMm'],\n",
    "    'address' : company_info['fncoAdr'],\n",
    "    'owner_name' : company_info['fncoRprNm']\n",
    "}\n",
    "print(save_params)"
   ]
  },
  {
   "cell_type": "code",
   "execution_count": 8,
   "metadata": {},
   "outputs": [
    {
     "name": "stderr",
     "output_type": "stream",
     "text": [
      "C:\\Users\\morat\\AppData\\Local\\Temp\\ipykernel_30556\\287922567.py:20: FutureWarning: The frame.append method is deprecated and will be removed from pandas in a future version. Use pandas.concat instead.\n",
      "  df = df.append(save_params, ignore_index=True)\n",
      "C:\\Users\\morat\\AppData\\Local\\Temp\\ipykernel_30556\\287922567.py:20: FutureWarning: The frame.append method is deprecated and will be removed from pandas in a future version. Use pandas.concat instead.\n",
      "  df = df.append(save_params, ignore_index=True)\n",
      "C:\\Users\\morat\\AppData\\Local\\Temp\\ipykernel_30556\\287922567.py:20: FutureWarning: The frame.append method is deprecated and will be removed from pandas in a future version. Use pandas.concat instead.\n",
      "  df = df.append(save_params, ignore_index=True)\n"
     ]
    }
   ],
   "source": [
    "df = pd.DataFrame()\n",
    "for company in ['메리츠자산운용', '한화투자증권', '키움증권']:\n",
    "    api_url = 'http://apis.data.go.kr/1160100/service/GetFnCoBasiInfoService/getFnCoOutl'\n",
    "    params = {\n",
    "        'serviceKey' : api_key,\n",
    "        'pageNo' : '1',\n",
    "        'numofRows': '1',\n",
    "        'resultType' : 'json',\n",
    "        'fncoNm' : company\n",
    "    }\n",
    "    res = requests.get(api_url, params=params)\n",
    "    company_info = res.json()['response']['body']['items']['item'][0]\n",
    "    save_params = {\n",
    "        'company_name' : company_info['fncoNm'],\n",
    "        'established_date' : company_info['fncoEstbDt'],\n",
    "        'stac_m' : company_info['fncoStacMm'],\n",
    "        'address' : company_info['fncoAdr'],\n",
    "        'owner_name' : company_info['fncoRprNm']\n",
    "    }\n",
    "    df = df.append(save_params, ignore_index=True)"
   ]
  },
  {
   "cell_type": "code",
   "execution_count": 9,
   "metadata": {},
   "outputs": [
    {
     "data": {
      "text/html": [
       "<div>\n",
       "<style scoped>\n",
       "    .dataframe tbody tr th:only-of-type {\n",
       "        vertical-align: middle;\n",
       "    }\n",
       "\n",
       "    .dataframe tbody tr th {\n",
       "        vertical-align: top;\n",
       "    }\n",
       "\n",
       "    .dataframe thead th {\n",
       "        text-align: right;\n",
       "    }\n",
       "</style>\n",
       "<table border=\"1\" class=\"dataframe\">\n",
       "  <thead>\n",
       "    <tr style=\"text-align: right;\">\n",
       "      <th></th>\n",
       "      <th>company_name</th>\n",
       "      <th>established_date</th>\n",
       "      <th>stac_m</th>\n",
       "      <th>address</th>\n",
       "      <th>owner_name</th>\n",
       "    </tr>\n",
       "  </thead>\n",
       "  <tbody>\n",
       "    <tr>\n",
       "      <th>0</th>\n",
       "      <td>메리츠자산운용</td>\n",
       "      <td>20080506</td>\n",
       "      <td>12</td>\n",
       "      <td>서울특별시 종로구 북촌로 104 계동빌딩</td>\n",
       "      <td>John Lee(이정복)</td>\n",
       "    </tr>\n",
       "    <tr>\n",
       "      <th>1</th>\n",
       "      <td>한화투자증권(주)</td>\n",
       "      <td>19620719</td>\n",
       "      <td>12</td>\n",
       "      <td>서울특별시 영등포구  여의대로 56 한화증권빌딩 한화투자증권 주식회사</td>\n",
       "      <td>권희백</td>\n",
       "    </tr>\n",
       "    <tr>\n",
       "      <th>2</th>\n",
       "      <td>키움증권(주)</td>\n",
       "      <td>20000401</td>\n",
       "      <td>12</td>\n",
       "      <td>서울특별시 영등포구 여의나루로4길 18 여의도동,키움파이낸스스퀘어빌딩</td>\n",
       "      <td>이 현</td>\n",
       "    </tr>\n",
       "  </tbody>\n",
       "</table>\n",
       "</div>"
      ],
      "text/plain": [
       "  company_name established_date stac_m  \\\n",
       "0      메리츠자산운용         20080506     12   \n",
       "1    한화투자증권(주)         19620719     12   \n",
       "2      키움증권(주)         20000401     12   \n",
       "\n",
       "                                  address     owner_name  \n",
       "0                  서울특별시 종로구 북촌로 104 계동빌딩  John Lee(이정복)  \n",
       "1  서울특별시 영등포구  여의대로 56 한화증권빌딩 한화투자증권 주식회사            권희백  \n",
       "2  서울특별시 영등포구 여의나루로4길 18 여의도동,키움파이낸스스퀘어빌딩            이 현  "
      ]
     },
     "execution_count": 9,
     "metadata": {},
     "output_type": "execute_result"
    }
   ],
   "source": [
    "df"
   ]
  },
  {
   "cell_type": "code",
   "execution_count": 10,
   "metadata": {},
   "outputs": [],
   "source": [
    "url = 'http://apis.data.go.kr/1160100/service/GetShorTermSecuIssuInfoService/getShorTermCpBasiInfo'\n",
    "params = {\n",
    "    'serviceKey' : api_key,\n",
    "    'numOfRows' : '1',\n",
    "    'pageNo' : '1',\n",
    "    'resultType' : 'json',\n",
    "    'cpIssuCmpyNm' : '현대캐피탈'\n",
    "}"
   ]
  },
  {
   "cell_type": "code",
   "execution_count": 11,
   "metadata": {},
   "outputs": [],
   "source": [
    "res = requests.get(url, params)"
   ]
  },
  {
   "cell_type": "code",
   "execution_count": 14,
   "metadata": {},
   "outputs": [
    {
     "data": {
      "text/plain": [
       "<Response [200]>"
      ]
     },
     "execution_count": 14,
     "metadata": {},
     "output_type": "execute_result"
    }
   ],
   "source": [
    "res"
   ]
  },
  {
   "cell_type": "code",
   "execution_count": 15,
   "metadata": {},
   "outputs": [
    {
     "data": {
      "text/plain": [
       "'<OpenAPI_ServiceResponse>\\n\\t<cmmMsgHeader>\\n\\t\\t<errMsg>SERVICE ERROR</errMsg>\\n\\t\\t<returnAuthMsg>HTTP ROUTING ERROR</returnAuthMsg>\\n\\t\\t<returnReasonCode>04</returnReasonCode>\\n\\t</cmmMsgHeader>\\n</OpenAPI_ServiceResponse>'"
      ]
     },
     "execution_count": 15,
     "metadata": {},
     "output_type": "execute_result"
    }
   ],
   "source": [
    "res.text"
   ]
  }
 ],
 "metadata": {
  "kernelspec": {
   "display_name": "Python 3",
   "language": "python",
   "name": "python3"
  },
  "language_info": {
   "codemirror_mode": {
    "name": "ipython",
    "version": 3
   },
   "file_extension": ".py",
   "mimetype": "text/x-python",
   "name": "python",
   "nbconvert_exporter": "python",
   "pygments_lexer": "ipython3",
   "version": "3.10.4"
  },
  "orig_nbformat": 4
 },
 "nbformat": 4,
 "nbformat_minor": 2
}
