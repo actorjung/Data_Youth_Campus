{
  "cells": [
    {
      "cell_type": "markdown",
      "metadata": {
        "id": "view-in-github",
        "colab_type": "text"
      },
      "source": [
        "<a href=\"https://colab.research.google.com/github/morateng/2023_Data_Campus/blob/main/RNN_tutorials.ipynb\" target=\"_parent\"><img src=\"https://colab.research.google.com/assets/colab-badge.svg\" alt=\"Open In Colab\"/></a>"
      ]
    },
    {
      "cell_type": "markdown",
      "metadata": {
        "id": "bnQpp3yt0Iaa"
      },
      "source": [
        "# RNN 모델의 작동 방식"
      ]
    },
    {
      "cell_type": "markdown",
      "metadata": {
        "id": "5XdlEVmP0Iac"
      },
      "source": [
        "## RNN"
      ]
    },
    {
      "cell_type": "code",
      "execution_count": 1,
      "metadata": {
        "colab": {
          "base_uri": "https://localhost:8080/"
        },
        "id": "fuiuyzEJ0Iac",
        "outputId": "32fa4805-3af9-4313-f45c-a68adb0c4583"
      },
      "outputs": [
        {
          "output_type": "stream",
          "name": "stdout",
          "text": [
            "RNN output shape: torch.Size([1, 200, 20])\n",
            "RNN hn shape: torch.Size([1, 1, 20])\n"
          ]
        }
      ],
      "source": [
        "import torch\n",
        "from torch import nn\n",
        "\n",
        "# RNN 정의\n",
        "rnn = nn.RNN(input_size=10, hidden_size=20, batch_first=True)\n",
        "\n",
        "# 임의의 입력\n",
        "x = torch.randn(1, 200, 10)  # 배치 크기: 1, 시퀀스 길이: 200, 입력 차원: 10\n",
        "# t_1..t_200까지 순차적으로 10차원의 데이터가 들어가도록 만들겠다는 뜻.\n",
        "\n",
        "# 모델 실행\n",
        "output, hn = rnn(x)\n",
        "# output은 모든 time 에서 나오는 모든 h들을 모아놓은 것\n",
        "# hn은 200번에 해당하는 모든 데이터 포인트들을 다 지나간다음에 나오는 녀석\n",
        "\n",
        "print(f\"RNN output shape: {output.shape}\")\n",
        "print(f\"RNN hn shape: {hn.shape}\")\n"
      ]
    },
    {
      "cell_type": "code",
      "execution_count": 2,
      "metadata": {
        "colab": {
          "base_uri": "https://localhost:8080/"
        },
        "id": "nAxVClJQ0Iad",
        "outputId": "3b635bf5-1138-47c3-f3fc-c0adc5a81745"
      },
      "outputs": [
        {
          "output_type": "execute_result",
          "data": {
            "text/plain": [
              "tensor([ 0.4593, -0.4933, -0.1584, -0.6699,  0.1381, -0.4544,  0.0978, -0.3266,\n",
              "        -0.8231, -0.0574, -0.0603, -0.1604,  0.3378, -0.1260,  0.5273,  0.5271,\n",
              "         0.2569, -0.6673,  0.3928,  0.0876], grad_fn=<SliceBackward0>)"
            ]
          },
          "metadata": {},
          "execution_count": 2
        }
      ],
      "source": [
        "output[0,-1,:]"
      ]
    },
    {
      "cell_type": "code",
      "execution_count": 3,
      "metadata": {
        "colab": {
          "base_uri": "https://localhost:8080/"
        },
        "id": "HSoFx2zN0Iae",
        "outputId": "ee2f5137-d6e5-452f-edad-9fa88ddeef1b"
      },
      "outputs": [
        {
          "output_type": "execute_result",
          "data": {
            "text/plain": [
              "tensor([ 0.4593, -0.4933, -0.1584, -0.6699,  0.1381, -0.4544,  0.0978, -0.3266,\n",
              "        -0.8231, -0.0574, -0.0603, -0.1604,  0.3378, -0.1260,  0.5273,  0.5271,\n",
              "         0.2569, -0.6673,  0.3928,  0.0876], grad_fn=<SliceBackward0>)"
            ]
          },
          "metadata": {},
          "execution_count": 3
        }
      ],
      "source": [
        "hn[0,0,:]"
      ]
    },
    {
      "cell_type": "markdown",
      "metadata": {
        "id": "nKJI3PX70Iae"
      },
      "source": [
        "## LSTM"
      ]
    },
    {
      "cell_type": "code",
      "execution_count": 4,
      "metadata": {
        "colab": {
          "base_uri": "https://localhost:8080/"
        },
        "id": "Bhqi_CB70Iae",
        "outputId": "7eecc736-06a5-4f6f-85f5-16c15ec829e7"
      },
      "outputs": [
        {
          "output_type": "stream",
          "name": "stdout",
          "text": [
            "LSTM output shape: torch.Size([1, 200, 20])\n",
            "LSTM hn shape: torch.Size([1, 1, 20])\n",
            "LSTM cn shape: torch.Size([1, 1, 20])\n"
          ]
        }
      ],
      "source": [
        "# LSTM 정의\n",
        "lstm = nn.LSTM(input_size=10, hidden_size=20, batch_first=True)\n",
        "\n",
        "# 임의의 입력\n",
        "x = torch.randn(1, 200, 10)  # 배치 크기: 1, 시퀀스 길이: 3, 입력 차원: 10\n",
        "# t_1..t_200까지 순차적으로 10차원의 데이터가 들어가도록 만들겠다는 뜻.\n",
        "\n",
        "# 모델 실행\n",
        "output, (hn, cn) = lstm(x)\n",
        "# 마찬가지로 output은 모든 time 에서 나오는 모든 h들을 모아놓은 것\n",
        "# LSTM의 경우는 hidden state 에 더해서 channel state 도 있음에 유의\n",
        "\n",
        "print(f\"LSTM output shape: {output.shape}\")\n",
        "print(f\"LSTM hn shape: {hn.shape}\")\n",
        "print(f\"LSTM cn shape: {cn.shape}\")\n"
      ]
    },
    {
      "cell_type": "code",
      "execution_count": 5,
      "metadata": {
        "colab": {
          "base_uri": "https://localhost:8080/"
        },
        "id": "wPXlOWUf0Iae",
        "outputId": "61b10758-e7a7-473a-e89e-16f47ed37dbe"
      },
      "outputs": [
        {
          "output_type": "execute_result",
          "data": {
            "text/plain": [
              "tensor([-0.1415, -0.1507, -0.0020, -0.2938,  0.0313,  0.1831, -0.0834, -0.1988,\n",
              "         0.1282, -0.0762, -0.0612, -0.0076, -0.1574, -0.0889, -0.1391,  0.0403,\n",
              "         0.1260,  0.1037,  0.0073, -0.0924], grad_fn=<SliceBackward0>)"
            ]
          },
          "metadata": {},
          "execution_count": 5
        }
      ],
      "source": [
        "output[0,-1,:]"
      ]
    },
    {
      "cell_type": "code",
      "execution_count": 6,
      "metadata": {
        "colab": {
          "base_uri": "https://localhost:8080/"
        },
        "id": "leIYmQ_H0Iae",
        "outputId": "df875e46-50b9-4b6f-e9bd-d0c04b5b99cf"
      },
      "outputs": [
        {
          "output_type": "execute_result",
          "data": {
            "text/plain": [
              "tensor([-0.1415, -0.1507, -0.0020, -0.2938,  0.0313,  0.1831, -0.0834, -0.1988,\n",
              "         0.1282, -0.0762, -0.0612, -0.0076, -0.1574, -0.0889, -0.1391,  0.0403,\n",
              "         0.1260,  0.1037,  0.0073, -0.0924], grad_fn=<SliceBackward0>)"
            ]
          },
          "metadata": {},
          "execution_count": 6
        }
      ],
      "source": [
        "hn[0,0,:]"
      ]
    },
    {
      "cell_type": "code",
      "execution_count": 7,
      "metadata": {
        "colab": {
          "base_uri": "https://localhost:8080/"
        },
        "id": "mxk2gMYd0Iae",
        "outputId": "24250a6d-dbb3-40d5-ea67-456ffba2892b"
      },
      "outputs": [
        {
          "output_type": "execute_result",
          "data": {
            "text/plain": [
              "tensor([-0.3115, -0.2406, -0.0057, -0.6301,  0.0650,  0.3072, -0.1491, -0.3143,\n",
              "         0.3115, -0.1903, -0.1063, -0.0211, -0.2080, -0.2123, -0.3064,  0.0740,\n",
              "         0.2889,  0.2111,  0.0120, -0.2008], grad_fn=<SliceBackward0>)"
            ]
          },
          "metadata": {},
          "execution_count": 7
        }
      ],
      "source": [
        "cn[0,0,:]"
      ]
    },
    {
      "cell_type": "markdown",
      "metadata": {
        "id": "FxrL90C-0Iaf"
      },
      "source": [
        "## 일반적인 모델의 형태"
      ]
    },
    {
      "cell_type": "code",
      "execution_count": 8,
      "metadata": {
        "id": "Z5AVOcfy0Iaf"
      },
      "outputs": [],
      "source": [
        "class Model(nn.Module):\n",
        "    def __init__(self, input_size, hid_size, output_size):\n",
        "        super(Model, self).__init__()\n",
        "        self.LSTM = nn.LSTM(input_size = input_size, hidden_size = hid_size, num_layers=2,\n",
        "                            batch_first=True)\n",
        "        self.fc1 = nn.Linear(self.hid_size, self.hid_size)\n",
        "        self.fc2 = nn.Linear(self.hid_size, output_size)\n",
        "\n",
        "    def forward(self, x):\n",
        "        \"\"\"\n",
        "        input : [bs, maxlen]\n",
        "        output: [bs, 2]\n",
        "        \"\"\"\n",
        "        x = self.Embedding(x)  # [bs, ml, emb_size]\n",
        "        x, (h,c) = self.LSTM(x)  # [bs, ml, hid_size]\n",
        "        x = F.relu(self.fc1(x[:,-1,:]))   # [bs, ml, hid_size]\n",
        "        # x = F.relu(self.fc1(h))   # [bs, ml, hid_size]\n",
        "        out = self.fc2(x)\n",
        "        return out  # [bs, output_size]"
      ]
    },
    {
      "cell_type": "markdown",
      "metadata": {
        "id": "qIDTnf750Iaf"
      },
      "source": [
        "# RNN모델을 통한 주가 예측 (regression)"
      ]
    },
    {
      "cell_type": "code",
      "execution_count": 9,
      "metadata": {
        "colab": {
          "base_uri": "https://localhost:8080/"
        },
        "id": "rmlfCbSF0Iaf",
        "outputId": "a50f4019-cd69-467c-8f33-d936c3d38755"
      },
      "outputs": [
        {
          "output_type": "stream",
          "name": "stdout",
          "text": [
            "Requirement already satisfied: yfinance in /usr/local/lib/python3.10/dist-packages (0.2.22)\n",
            "Requirement already satisfied: scikit-learn in /usr/local/lib/python3.10/dist-packages (1.2.2)\n",
            "Requirement already satisfied: pandas>=1.3.0 in /usr/local/lib/python3.10/dist-packages (from yfinance) (1.5.3)\n",
            "Requirement already satisfied: numpy>=1.16.5 in /usr/local/lib/python3.10/dist-packages (from yfinance) (1.22.4)\n",
            "Requirement already satisfied: requests>=2.26 in /usr/local/lib/python3.10/dist-packages (from yfinance) (2.27.1)\n",
            "Requirement already satisfied: multitasking>=0.0.7 in /usr/local/lib/python3.10/dist-packages (from yfinance) (0.0.11)\n",
            "Requirement already satisfied: lxml>=4.9.1 in /usr/local/lib/python3.10/dist-packages (from yfinance) (4.9.3)\n",
            "Requirement already satisfied: appdirs>=1.4.4 in /usr/local/lib/python3.10/dist-packages (from yfinance) (1.4.4)\n",
            "Requirement already satisfied: pytz>=2022.5 in /usr/local/lib/python3.10/dist-packages (from yfinance) (2022.7.1)\n",
            "Requirement already satisfied: frozendict>=2.3.4 in /usr/local/lib/python3.10/dist-packages (from yfinance) (2.3.8)\n",
            "Requirement already satisfied: beautifulsoup4>=4.11.1 in /usr/local/lib/python3.10/dist-packages (from yfinance) (4.11.2)\n",
            "Requirement already satisfied: html5lib>=1.1 in /usr/local/lib/python3.10/dist-packages (from yfinance) (1.1)\n",
            "Requirement already satisfied: scipy>=1.3.2 in /usr/local/lib/python3.10/dist-packages (from scikit-learn) (1.10.1)\n",
            "Requirement already satisfied: joblib>=1.1.1 in /usr/local/lib/python3.10/dist-packages (from scikit-learn) (1.3.1)\n",
            "Requirement already satisfied: threadpoolctl>=2.0.0 in /usr/local/lib/python3.10/dist-packages (from scikit-learn) (3.1.0)\n",
            "Requirement already satisfied: soupsieve>1.2 in /usr/local/lib/python3.10/dist-packages (from beautifulsoup4>=4.11.1->yfinance) (2.4.1)\n",
            "Requirement already satisfied: six>=1.9 in /usr/local/lib/python3.10/dist-packages (from html5lib>=1.1->yfinance) (1.16.0)\n",
            "Requirement already satisfied: webencodings in /usr/local/lib/python3.10/dist-packages (from html5lib>=1.1->yfinance) (0.5.1)\n",
            "Requirement already satisfied: python-dateutil>=2.8.1 in /usr/local/lib/python3.10/dist-packages (from pandas>=1.3.0->yfinance) (2.8.2)\n",
            "Requirement already satisfied: urllib3<1.27,>=1.21.1 in /usr/local/lib/python3.10/dist-packages (from requests>=2.26->yfinance) (1.26.16)\n",
            "Requirement already satisfied: certifi>=2017.4.17 in /usr/local/lib/python3.10/dist-packages (from requests>=2.26->yfinance) (2023.5.7)\n",
            "Requirement already satisfied: charset-normalizer~=2.0.0 in /usr/local/lib/python3.10/dist-packages (from requests>=2.26->yfinance) (2.0.12)\n",
            "Requirement already satisfied: idna<4,>=2.5 in /usr/local/lib/python3.10/dist-packages (from requests>=2.26->yfinance) (3.4)\n"
          ]
        }
      ],
      "source": [
        "!pip install yfinance scikit-learn"
      ]
    },
    {
      "cell_type": "code",
      "execution_count": null,
      "metadata": {
        "ExecuteTime": {
          "end_time": "2023-07-17T21:18:57.273311Z",
          "start_time": "2023-07-17T21:18:54.265725Z"
        },
        "scrolled": true,
        "colab": {
          "base_uri": "https://localhost:8080/"
        },
        "id": "QfOb_E3j0Iaf",
        "outputId": "9dacf185-2e25-44b3-c686-be84cf2e4597"
      },
      "outputs": [
        {
          "output_type": "stream",
          "name": "stdout",
          "text": [
            "\r[*********************100%***********************]  1 of 1 completed\n",
            "Epoch  0 MSE:  0.018504375591874123\n"
          ]
        }
      ],
      "source": [
        "import torch\n",
        "import torch.nn as nn\n",
        "import yfinance as yf\n",
        "import numpy as np\n",
        "import matplotlib.pyplot as plt\n",
        "from sklearn.preprocessing import MinMaxScaler\n",
        "\n",
        "# 데이터 불러오기\n",
        "data = yf.download('AAPL', '2000-01-01', '2023-07-01')\n",
        "data = data['Close'].values\n",
        "\n",
        "# 데이터 정규화\n",
        "scaler = MinMaxScaler()\n",
        "data = scaler.fit_transform(data.reshape(-1, 1)).reshape(-1)\n",
        "\n",
        "# 설정값 정의\n",
        "seq_length = 2000\n",
        "pred_length = 200\n",
        "hidden_dim = 50\n",
        "n_features = 1\n",
        "\n",
        "# 학습 데이터 생성\n",
        "def create_sequences(data, seq_length, pred_length):\n",
        "    xs = []\n",
        "    ys = []\n",
        "\n",
        "    for i in range(len(data)-seq_length-pred_length):\n",
        "        x = data[i:(i+seq_length)]\n",
        "        y = data[(i+seq_length):(i+seq_length+pred_length)]\n",
        "        xs.append(x)\n",
        "        ys.append(y)\n",
        "\n",
        "    return np.array(xs), np.array(ys)\n",
        "\n",
        "x, y = create_sequences(data, seq_length, pred_length)\n",
        "x = torch.tensor(x).float().view(-1, seq_length, n_features)\n",
        "y = torch.tensor(y).float()\n",
        "\n",
        "train_x = x[:len(x)//2]\n",
        "test_x = x[len(x)//2:]\n",
        "train_y = y[:len(y)//2]\n",
        "test_y = y[len(y)//2:]\n",
        "\n",
        "# 모델 정의\n",
        "class StockPredictor(nn.Module):\n",
        "    def __init__(self, n_features, hidden_dim, seq_length, pred_length):\n",
        "        super(StockPredictor, self).__init__()\n",
        "        self.n_features = n_features\n",
        "        self.hidden_dim = hidden_dim\n",
        "        self.seq_len = seq_length\n",
        "        self.pred_len = pred_length\n",
        "        self.lstm = nn.LSTM(input_size=n_features, hidden_size=hidden_dim)\n",
        "        self.linear = nn.Linear(in_features=hidden_dim, out_features=pred_length)\n",
        "\n",
        "    def forward(self, sequences):\n",
        "        lstm_out, _ = self.lstm(sequences.view(len(sequences), self.seq_len, -1))\n",
        "        last_time_step = lstm_out.view(self.seq_len, len(sequences), self.hidden_dim)[-1]\n",
        "        y_pred = self.linear(last_time_step)\n",
        "        return y_pred\n",
        "\n",
        "model = StockPredictor(n_features, hidden_dim, seq_length, pred_length)\n",
        "criterion = nn.MSELoss()\n",
        "optimizer = torch.optim.Adam(model.parameters(), lr=1e-3)\n",
        "\n",
        "# 학습\n",
        "model.train()\n",
        "for epoch in range(50):  # 50번의 epoch 동안 학습\n",
        "    model.zero_grad()\n",
        "    y_pred = model(train_x)\n",
        "    loss = criterion(y_pred.float(), train_y)\n",
        "    print(\"Epoch \", epoch, \"MSE: \", loss.item())\n",
        "    loss.backward()\n",
        "    optimizer.step()\n",
        "\n",
        "# 평가\n",
        "model.eval()\n",
        "test_preds = model(test_x)\n"
      ]
    },
    {
      "cell_type": "code",
      "execution_count": null,
      "metadata": {
        "id": "Bf9xLXvI0Iag"
      },
      "outputs": [],
      "source": [
        "%matplotlib inline\n",
        "\n",
        "plt.figure(figsize=(16,6))\n",
        "\n",
        "range_future = len(test_y)\n",
        "\n",
        "plt.plot(np.arange(200), test_y[0,:].numpy(), label='True Future')\n",
        "plt.plot(np.arange(200), test_preds[0,:].detach().numpy(), label='Predicted Future')\n",
        "\n",
        "plt.title('True Future vs Predicted Future')\n",
        "plt.xlabel('Time Steps')\n",
        "plt.ylabel('Normalized Stock Price')\n",
        "plt.legend()\n"
      ]
    },
    {
      "cell_type": "markdown",
      "metadata": {
        "id": "Dr262U0b0Iag"
      },
      "source": [
        "# RNN을 이용한 문서의 분류 (classification)"
      ]
    },
    {
      "cell_type": "code",
      "execution_count": null,
      "metadata": {
        "scrolled": true,
        "id": "4J4vqp7u0Iag"
      },
      "outputs": [],
      "source": [
        "!pip install tensorflow"
      ]
    },
    {
      "cell_type": "code",
      "execution_count": null,
      "metadata": {
        "id": "Nh0wsO1J0Iag"
      },
      "outputs": [],
      "source": [
        "from __future__ import unicode_literals, print_function, division\n",
        "from io import open\n",
        "import unicodedata\n",
        "import re\n",
        "import random\n",
        "\n",
        "import torch\n",
        "import torch.nn as nn\n",
        "from torch import optim\n",
        "import torch.nn.functional as F\n",
        "\n",
        "import numpy as np\n",
        "from torch.utils.data import TensorDataset, DataLoader, RandomSampler\n",
        "\n",
        "device = torch.device(\"cuda\" if torch.cuda.is_available() else \"cpu\")"
      ]
    },
    {
      "cell_type": "code",
      "execution_count": null,
      "metadata": {
        "id": "zDFt4QP40Iag"
      },
      "outputs": [],
      "source": [
        "SOS_token = 0\n",
        "EOS_token = 1\n",
        "\n",
        "class Lang:\n",
        "    def __init__(self, name):\n",
        "        self.name = name\n",
        "        self.word2index = {}\n",
        "        self.word2count = {}\n",
        "        self.index2word = {0: \"SOS\", 1: \"EOS\"}\n",
        "        self.n_words = 2  # Count SOS and EOS\n",
        "\n",
        "    def addSentence(self, sentence):\n",
        "        for word in sentence.split(' '):\n",
        "            self.addWord(word)\n",
        "\n",
        "    def addWord(self, word):\n",
        "        if word not in self.word2index:\n",
        "            self.word2index[word] = self.n_words\n",
        "            self.word2count[word] = 1\n",
        "            self.index2word[self.n_words] = word\n",
        "            self.n_words += 1\n",
        "        else:\n",
        "            self.word2count[word] += 1"
      ]
    },
    {
      "cell_type": "code",
      "execution_count": null,
      "metadata": {
        "id": "ixdsAs2y0Iag"
      },
      "outputs": [],
      "source": [
        "import torch\n",
        "import torch.nn as nn\n",
        "import torch.optim as optim\n",
        "import torch.nn.functional as F\n",
        "from torch.utils.data import *\n",
        "from tensorflow.keras.preprocessing.sequence import pad_sequences\n",
        "from tensorflow.keras.datasets import imdb"
      ]
    },
    {
      "cell_type": "code",
      "execution_count": null,
      "metadata": {
        "id": "1oyrV7KO0Iah"
      },
      "outputs": [],
      "source": [
        "DEVICE = torch.device(\"cuda\" if torch.cuda.is_available() else \"cpu\")\n",
        "\n",
        "(x_train, y_train), (x_test, y_test) = imdb.load_data(num_words=MAX_WORDS)\n",
        "x_train = pad_sequences(x_train, maxlen=MAX_LEN, padding=\"post\", truncating=\"post\")\n",
        "x_test = pad_sequences(x_test, maxlen=MAX_LEN, padding=\"post\", truncating=\"post\")\n",
        "print(x_train.shape, x_test.shape)"
      ]
    },
    {
      "cell_type": "code",
      "execution_count": null,
      "metadata": {
        "id": "N8EtMdFa0Iah"
      },
      "outputs": [],
      "source": [
        "train_data = TensorDataset(torch.LongTensor(x_train), torch.LongTensor(y_train))\n",
        "test_data = TensorDataset(torch.LongTensor(x_test), torch.LongTensor(y_test))\n",
        "\n",
        "train_sampler = RandomSampler(train_data)\n",
        "train_loader = DataLoader(train_data, sampler=train_sampler, batch_size=BATCH_SIZE)\n",
        "\n",
        "test_sampler = SequentialSampler(test_data)\n",
        "test_loader = DataLoader(test_data, sampler=test_sampler, batch_size=BATCH_SIZE)"
      ]
    },
    {
      "cell_type": "code",
      "execution_count": null,
      "metadata": {
        "id": "fHtdBBKB0Iah"
      },
      "outputs": [],
      "source": [
        "class Model(nn.Module):\n",
        "    def __init__(self, max_words, emb_size, hid_size):\n",
        "        super(Model, self).__init__()\n",
        "        self.max_words = max_words\n",
        "        self.emb_size = emb_size\n",
        "        self.hid_size = hid_size\n",
        "        self.Embedding = nn.Embedding(self.max_words, self.emb_size)\n",
        "        self.LSTM = nn.LSTM(self.emb_size, self.hid_size, num_layers=2,\n",
        "                            batch_first=True)\n",
        "        self.fc1 = nn.Linear(self.hid_size, self.hid_size)\n",
        "        self.fc2 = nn.Linear(self.hid_size, 2)\n",
        "\n",
        "    def forward(self, x):\n",
        "        \"\"\"\n",
        "        input : [bs, maxlen]\n",
        "        output: [bs, 2]\n",
        "        \"\"\"\n",
        "        x = self.Embedding(x)  # [bs, ml, emb_size]\n",
        "        x, (h,c) = self.LSTM(x)  # [bs, ml, hid_size]\n",
        "        x = F.relu(self.fc1(x[:,-1,:]))   # [bs, ml, hid_size]\n",
        "        out = self.fc2(x)\n",
        "        return out  # [bs, 2]"
      ]
    },
    {
      "cell_type": "code",
      "execution_count": null,
      "metadata": {
        "id": "PkNf-smj0Iah"
      },
      "outputs": [],
      "source": [
        "def train(model, device, train_loader, optimizer, epoch):\n",
        "    model.train()\n",
        "    criterion = nn.CrossEntropyLoss()\n",
        "    for batch_idx, (x, y) in enumerate(train_loader):\n",
        "        x, y = x.to(DEVICE), y.to(DEVICE)\n",
        "\n",
        "        optimizer.zero_grad()\n",
        "        y_ = model(x)\n",
        "        loss = criterion(y_, y)  # loss\n",
        "        loss.backward()\n",
        "        optimizer.step()\n",
        "        print('Train Epoch: {} [{}/{} ({:.0f}%)]\\tLoss: {:.6f}'.format(\n",
        "            epoch, batch_idx * len(x), len(train_loader.dataset),\n",
        "            100. * batch_idx / len(train_loader), loss.item()))"
      ]
    },
    {
      "cell_type": "code",
      "execution_count": null,
      "metadata": {
        "id": "F7aZNpoi0Iah"
      },
      "outputs": [],
      "source": [
        "def test(model, device, test_loader):\n",
        "    model.eval()\n",
        "    criterion = nn.CrossEntropyLoss(reduction='sum')\n",
        "    test_loss = 0.0\n",
        "    acc = 0\n",
        "    for batch_idx, (x, y) in enumerate(test_loader):\n",
        "        x, y = x.to(DEVICE), y.to(DEVICE)\n",
        "        with torch.no_grad():\n",
        "            y_ = model(x)\n",
        "        test_loss += criterion(y_, y)\n",
        "        pred = y_.max(-1, keepdim=True)[1]\n",
        "        acc += pred.eq(y.view_as(pred)).sum().item()\n",
        "    test_loss /= len(test_loader.dataset)\n",
        "    print('\\nTest set: Average loss: {:.4f}, Accuracy: {}/{} ({:.0f}%)'.format(\n",
        "        test_loss, acc, len(test_loader.dataset),\n",
        "        100. * acc / len(test_loader.dataset)))\n",
        "    return acc / len(test_loader.dataset)"
      ]
    },
    {
      "cell_type": "code",
      "execution_count": null,
      "metadata": {
        "id": "ikhCwVoE0Iah"
      },
      "outputs": [],
      "source": [
        "MAX_WORDS = 10000  # imdb’s vocab_size\n",
        "MAX_LEN = 200      # max length\n",
        "BATCH_SIZE = 256\n",
        "EMB_SIZE = 128   # embedding size\n",
        "HID_SIZE = 128   # lstm hidden size\n",
        "\n",
        "\n",
        "model = Model(MAX_WORDS, EMB_SIZE, HID_SIZE).to(DEVICE)\n",
        "print(model)\n",
        "optimizer = optim.Adam(model.parameters())\n",
        "\n",
        "best_acc = 0.0\n",
        "PATH = 'imdb model/model.pth'  #\n",
        "\n",
        "for epoch in range(10):\n",
        "    train(model, DEVICE, train_loader, optimizer, epoch)\n",
        "    acc = test(model, DEVICE, test_loader)\n",
        "    if best_acc < acc:\n",
        "        best_acc = acc\n",
        "        torch.save(model.state_dict(), PATH)\n",
        "    print(\"acc is: {:.4f}, best acc is {:.4f}\\n\".format(acc, best_acc))"
      ]
    },
    {
      "cell_type": "code",
      "execution_count": null,
      "metadata": {
        "id": "QdoQHRnC0Iai"
      },
      "outputs": [],
      "source": []
    }
  ],
  "metadata": {
    "kernelspec": {
      "display_name": "Python 3",
      "name": "python3"
    },
    "language_info": {
      "codemirror_mode": {
        "name": "ipython",
        "version": 3
      },
      "file_extension": ".py",
      "mimetype": "text/x-python",
      "name": "python",
      "nbconvert_exporter": "python",
      "pygments_lexer": "ipython3",
      "version": "3.10.10"
    },
    "toc": {
      "base_numbering": 1,
      "nav_menu": {},
      "number_sections": true,
      "sideBar": true,
      "skip_h1_title": false,
      "title_cell": "Table of Contents",
      "title_sidebar": "Contents",
      "toc_cell": false,
      "toc_position": {},
      "toc_section_display": true,
      "toc_window_display": false
    },
    "colab": {
      "provenance": [],
      "toc_visible": true,
      "gpuType": "T4",
      "include_colab_link": true
    }
  },
  "nbformat": 4,
  "nbformat_minor": 0
}