{
  "cells": [
    {
      "cell_type": "markdown",
      "metadata": {
        "id": "view-in-github",
        "colab_type": "text"
      },
      "source": [
        "<a href=\"https://colab.research.google.com/github/morateng/2023_Data_Campus/blob/main/2)%EC%A3%BC%EC%9A%94_%EB%9D%BC%EC%9D%B4%EB%B8%8C%EB%9F%AC%EB%A6%AC02_pandas_series.ipynb\" target=\"_parent\"><img src=\"https://colab.research.google.com/assets/colab-badge.svg\" alt=\"Open In Colab\"/></a>"
      ]
    },
    {
      "cell_type": "markdown",
      "metadata": {
        "id": "5ot2Tmr7qsPi"
      },
      "source": [
        "## Pandas"
      ]
    },
    {
      "cell_type": "code",
      "execution_count": 1,
      "metadata": {
        "id": "pZffKJzfqsPn"
      },
      "outputs": [],
      "source": [
        "import pandas as pd"
      ]
    },
    {
      "cell_type": "markdown",
      "metadata": {
        "id": "FrKdZ82uqsPo"
      },
      "source": [
        "### Series"
      ]
    },
    {
      "cell_type": "markdown",
      "metadata": {
        "id": "2upbXpr6qsPp"
      },
      "source": [
        "### Series 생성\n",
        "- #### Series() 함수"
      ]
    },
    {
      "cell_type": "code",
      "execution_count": 4,
      "metadata": {
        "id": "snyj_8zVqsPp",
        "colab": {
          "base_uri": "https://localhost:8080/"
        },
        "outputId": "921c9034-ad2c-4c1c-ecd5-3af7f868e2bf"
      },
      "outputs": [
        {
          "output_type": "execute_result",
          "data": {
            "text/plain": [
              "0    1\n",
              "1    2\n",
              "2    3\n",
              "dtype: int64"
            ]
          },
          "metadata": {},
          "execution_count": 4
        }
      ],
      "source": [
        "s1 = pd.Series([1, 2, 3])\n",
        "type(s1)\n",
        "s1"
      ]
    },
    {
      "cell_type": "markdown",
      "metadata": {
        "id": "EIwLWGcMqsPq"
      },
      "source": [
        "- #### ndarray 이용"
      ]
    },
    {
      "cell_type": "code",
      "execution_count": 5,
      "metadata": {
        "id": "h-r2oiJcqsPq",
        "colab": {
          "base_uri": "https://localhost:8080/"
        },
        "outputId": "e3198e69-5b95-4056-9669-f1ee74c47550"
      },
      "outputs": [
        {
          "output_type": "execute_result",
          "data": {
            "text/plain": [
              "0        0\n",
              "1        1\n",
              "2        2\n",
              "3        3\n",
              "4        4\n",
              "      ... \n",
              "195    195\n",
              "196    196\n",
              "197    197\n",
              "198    198\n",
              "199    199\n",
              "Length: 200, dtype: int64"
            ]
          },
          "metadata": {},
          "execution_count": 5
        }
      ],
      "source": [
        "import numpy as np\n",
        "\n",
        "s2 = pd.Series(np.arange(200))\n",
        "s2"
      ]
    },
    {
      "cell_type": "markdown",
      "metadata": {
        "id": "vllxkAXlqsPr"
      },
      "source": [
        "- #### data 와 index 함께 생성"
      ]
    },
    {
      "cell_type": "code",
      "execution_count": 6,
      "metadata": {
        "id": "lwBBhuUgqsPr",
        "colab": {
          "base_uri": "https://localhost:8080/"
        },
        "outputId": "4adc20de-b4ec-482b-a61e-c24d37c2a652"
      },
      "outputs": [
        {
          "output_type": "execute_result",
          "data": {
            "text/plain": [
              "100    1\n",
              "200    2\n",
              "300    3\n",
              "dtype: int64"
            ]
          },
          "metadata": {},
          "execution_count": 6
        }
      ],
      "source": [
        "s1 = pd.Series([1, 2, 3], [100, 200, 300])\n",
        "s1"
      ]
    },
    {
      "cell_type": "code",
      "source": [
        "fruit = pd.Series([2500, 3800, 1200], index=['apple', 'banana', 'lemon'])\n",
        "print(fruit)"
      ],
      "metadata": {
        "colab": {
          "base_uri": "https://localhost:8080/"
        },
        "id": "KksVCugLIcJy",
        "outputId": "94405154-0e7d-4fbd-e648-965141d098b0"
      },
      "execution_count": 7,
      "outputs": [
        {
          "output_type": "stream",
          "name": "stdout",
          "text": [
            "apple     2500\n",
            "banana    3800\n",
            "lemon     1200\n",
            "dtype: int64\n"
          ]
        }
      ]
    },
    {
      "cell_type": "code",
      "source": [
        "fruit.index"
      ],
      "metadata": {
        "colab": {
          "base_uri": "https://localhost:8080/"
        },
        "id": "IDXEACgQIm21",
        "outputId": "6f9e3433-6b6b-4046-c5ba-2d83c2dd8633"
      },
      "execution_count": 8,
      "outputs": [
        {
          "output_type": "execute_result",
          "data": {
            "text/plain": [
              "Index(['apple', 'banana', 'lemon'], dtype='object')"
            ]
          },
          "metadata": {},
          "execution_count": 8
        }
      ]
    },
    {
      "cell_type": "code",
      "source": [
        "fruit.values"
      ],
      "metadata": {
        "colab": {
          "base_uri": "https://localhost:8080/"
        },
        "id": "NrsfZ7QiIpCO",
        "outputId": "d5db1e13-e8b4-47a5-eb5d-172dc53bec90"
      },
      "execution_count": 9,
      "outputs": [
        {
          "output_type": "execute_result",
          "data": {
            "text/plain": [
              "array([2500, 3800, 1200])"
            ]
          },
          "metadata": {},
          "execution_count": 9
        }
      ]
    },
    {
      "cell_type": "code",
      "source": [
        "fruit['apple']"
      ],
      "metadata": {
        "colab": {
          "base_uri": "https://localhost:8080/"
        },
        "id": "YHUrItdaIq_b",
        "outputId": "043c8295-3511-442b-c796-d9b9b86400c8"
      },
      "execution_count": 10,
      "outputs": [
        {
          "output_type": "execute_result",
          "data": {
            "text/plain": [
              "2500"
            ]
          },
          "metadata": {},
          "execution_count": 10
        }
      ]
    },
    {
      "cell_type": "code",
      "source": [
        "fruit['apple'] = 1500\n",
        "fruit"
      ],
      "metadata": {
        "colab": {
          "base_uri": "https://localhost:8080/"
        },
        "id": "kxDnxt_dItIx",
        "outputId": "f6fd34f8-6ebe-4030-83d6-f937f49cfd16"
      },
      "execution_count": 11,
      "outputs": [
        {
          "output_type": "execute_result",
          "data": {
            "text/plain": [
              "apple     1500\n",
              "banana    3800\n",
              "lemon     1200\n",
              "dtype: int64"
            ]
          },
          "metadata": {},
          "execution_count": 11
        }
      ]
    },
    {
      "cell_type": "markdown",
      "metadata": {
        "id": "_rK1PZ2gqsPt"
      },
      "source": [
        "- ### Series 분석"
      ]
    },
    {
      "cell_type": "code",
      "execution_count": 12,
      "metadata": {
        "id": "0BVm-9q9qsPt",
        "colab": {
          "base_uri": "https://localhost:8080/"
        },
        "outputId": "bd10b1df-a958-4378-9928-b758c911d700"
      },
      "outputs": [
        {
          "output_type": "execute_result",
          "data": {
            "text/plain": [
              "0    1.0\n",
              "1    0.0\n",
              "2    3.0\n",
              "3    1.0\n",
              "4    0.0\n",
              "5    2.0\n",
              "6    5.0\n",
              "7    4.0\n",
              "8    3.0\n",
              "9    NaN\n",
              "dtype: float64"
            ]
          },
          "metadata": {},
          "execution_count": 12
        }
      ],
      "source": [
        "s = pd.Series([1, 0, 3, 1, 0 ,2, 5, 4, 3, np.NaN])\n",
        "s"
      ]
    },
    {
      "cell_type": "code",
      "source": [
        "s.size"
      ],
      "metadata": {
        "colab": {
          "base_uri": "https://localhost:8080/"
        },
        "id": "g3s86c2hI4tY",
        "outputId": "86ad9d7e-9300-4f10-e189-c8df11fb7fbe"
      },
      "execution_count": 13,
      "outputs": [
        {
          "output_type": "execute_result",
          "data": {
            "text/plain": [
              "10"
            ]
          },
          "metadata": {},
          "execution_count": 13
        }
      ]
    },
    {
      "cell_type": "markdown",
      "metadata": {
        "id": "VUsaeczmqsPt"
      },
      "source": [
        "- #### size"
      ]
    },
    {
      "cell_type": "code",
      "execution_count": 14,
      "metadata": {
        "id": "Pq-5VaBUqsPu",
        "colab": {
          "base_uri": "https://localhost:8080/"
        },
        "outputId": "a059dde8-db54-459f-a0a6-15bc5c790fc9"
      },
      "outputs": [
        {
          "output_type": "execute_result",
          "data": {
            "text/plain": [
              "10"
            ]
          },
          "metadata": {},
          "execution_count": 14
        }
      ],
      "source": [
        "s.size"
      ]
    },
    {
      "cell_type": "markdown",
      "metadata": {
        "id": "2VtdY_fzqsPu"
      },
      "source": [
        "- #### shape"
      ]
    },
    {
      "cell_type": "code",
      "execution_count": 16,
      "metadata": {
        "id": "C9oRH0RhqsPu",
        "colab": {
          "base_uri": "https://localhost:8080/"
        },
        "outputId": "0cc76fa1-1080-45d5-815d-6742c18f2bf3"
      },
      "outputs": [
        {
          "output_type": "execute_result",
          "data": {
            "text/plain": [
              "(10,)"
            ]
          },
          "metadata": {},
          "execution_count": 16
        }
      ],
      "source": [
        "s.shape"
      ]
    },
    {
      "cell_type": "markdown",
      "metadata": {
        "id": "woFp0p7dqsPu"
      },
      "source": [
        "- #### unique() 함수"
      ]
    },
    {
      "cell_type": "code",
      "execution_count": 17,
      "metadata": {
        "id": "AjUzMb-oqsPv",
        "colab": {
          "base_uri": "https://localhost:8080/"
        },
        "outputId": "3b71ec98-8579-49fd-c3c5-c6e2c623b70a"
      },
      "outputs": [
        {
          "output_type": "execute_result",
          "data": {
            "text/plain": [
              "array([ 1.,  0.,  3.,  2.,  5.,  4., nan])"
            ]
          },
          "metadata": {},
          "execution_count": 17
        }
      ],
      "source": [
        "s.unique()"
      ]
    },
    {
      "cell_type": "markdown",
      "metadata": {
        "id": "MG-fUdzrqsPv"
      },
      "source": [
        "- #### count() 함수"
      ]
    },
    {
      "cell_type": "code",
      "execution_count": 18,
      "metadata": {
        "id": "he2v3GrfqsPv",
        "colab": {
          "base_uri": "https://localhost:8080/"
        },
        "outputId": "bea4adb9-d02b-4ca9-fbdf-5e5db196be13"
      },
      "outputs": [
        {
          "output_type": "execute_result",
          "data": {
            "text/plain": [
              "9"
            ]
          },
          "metadata": {},
          "execution_count": 18
        }
      ],
      "source": [
        "s.count()"
      ]
    },
    {
      "cell_type": "markdown",
      "metadata": {
        "id": "3IxPCEukqsPw"
      },
      "source": [
        "- #### mean() 함수"
      ]
    },
    {
      "cell_type": "code",
      "execution_count": 19,
      "metadata": {
        "id": "IQABfPRcqsPw",
        "colab": {
          "base_uri": "https://localhost:8080/"
        },
        "outputId": "d7aef546-da79-4d40-e601-84bc73b28106"
      },
      "outputs": [
        {
          "output_type": "execute_result",
          "data": {
            "text/plain": [
              "2.111111111111111"
            ]
          },
          "metadata": {},
          "execution_count": 19
        }
      ],
      "source": [
        "s.mean()"
      ]
    },
    {
      "cell_type": "markdown",
      "metadata": {
        "id": "wXD4T0lmqsPx"
      },
      "source": [
        "- #### value_counts() 함수"
      ]
    },
    {
      "cell_type": "code",
      "execution_count": 20,
      "metadata": {
        "id": "5Z1f9qx0qsPx",
        "colab": {
          "base_uri": "https://localhost:8080/"
        },
        "outputId": "716f89ce-5fa3-42ac-bed1-41adc79375f4"
      },
      "outputs": [
        {
          "output_type": "execute_result",
          "data": {
            "text/plain": [
              "1.0    2\n",
              "0.0    2\n",
              "3.0    2\n",
              "2.0    1\n",
              "5.0    1\n",
              "4.0    1\n",
              "dtype: int64"
            ]
          },
          "metadata": {},
          "execution_count": 20
        }
      ],
      "source": [
        "s.value_counts()"
      ]
    },
    {
      "cell_type": "markdown",
      "metadata": {
        "id": "8NSxzej7qsPy"
      },
      "source": [
        "- #### head(), tail() 함수"
      ]
    },
    {
      "cell_type": "code",
      "execution_count": 21,
      "metadata": {
        "id": "ZZf7tWSDqsPy",
        "colab": {
          "base_uri": "https://localhost:8080/"
        },
        "outputId": "d8ff8204-6a8c-45e9-f653-8f2832863e62"
      },
      "outputs": [
        {
          "output_type": "execute_result",
          "data": {
            "text/plain": [
              "0    1.0\n",
              "1    0.0\n",
              "2    3.0\n",
              "3    1.0\n",
              "4    0.0\n",
              "dtype: float64"
            ]
          },
          "metadata": {},
          "execution_count": 21
        }
      ],
      "source": [
        "s.head()"
      ]
    },
    {
      "cell_type": "code",
      "source": [
        "s.tail()"
      ],
      "metadata": {
        "colab": {
          "base_uri": "https://localhost:8080/"
        },
        "id": "JVZS0yTSJglJ",
        "outputId": "6b91159c-7a59-4e45-af2b-5315e3839cd1"
      },
      "execution_count": 22,
      "outputs": [
        {
          "output_type": "execute_result",
          "data": {
            "text/plain": [
              "5    2.0\n",
              "6    5.0\n",
              "7    4.0\n",
              "8    3.0\n",
              "9    NaN\n",
              "dtype: float64"
            ]
          },
          "metadata": {},
          "execution_count": 22
        }
      ]
    },
    {
      "cell_type": "markdown",
      "metadata": {
        "id": "8Ljez6cmqsPz"
      },
      "source": [
        "## Series 연산"
      ]
    },
    {
      "cell_type": "markdown",
      "metadata": {
        "id": "wNCIwdXxqsPz"
      },
      "source": [
        "- #### index 기준으로 연산"
      ]
    },
    {
      "cell_type": "code",
      "execution_count": 23,
      "metadata": {
        "id": "JtDYKDWFqsP0",
        "colab": {
          "base_uri": "https://localhost:8080/"
        },
        "outputId": "ca120a77-4032-4d7d-e6f3-808d1d3d11e8"
      },
      "outputs": [
        {
          "output_type": "stream",
          "name": "stdout",
          "text": [
            "a    1\n",
            "b    2\n",
            "c    3\n",
            "d    4\n",
            "x    5\n",
            "dtype: int64\n",
            "d    9\n",
            "c    6\n",
            "b    3\n",
            "a    2\n",
            "y    1\n",
            "dtype: int64\n"
          ]
        }
      ],
      "source": [
        "s1 = pd.Series([1, 2, 3, 4, 5], ['a', 'b', 'c', 'd', 'x'])\n",
        "s2 = pd.Series([9, 6, 3, 2, 1], ['d','c', 'b', 'a', 'y'])\n",
        "print(s1)\n",
        "print(s2)"
      ]
    },
    {
      "cell_type": "code",
      "source": [
        "s1 * 2"
      ],
      "metadata": {
        "colab": {
          "base_uri": "https://localhost:8080/"
        },
        "id": "YvdT7W_xKB7D",
        "outputId": "9a212c0b-0108-4747-c656-67dedcd5a655"
      },
      "execution_count": 24,
      "outputs": [
        {
          "output_type": "execute_result",
          "data": {
            "text/plain": [
              "a     2\n",
              "b     4\n",
              "c     6\n",
              "d     8\n",
              "x    10\n",
              "dtype: int64"
            ]
          },
          "metadata": {},
          "execution_count": 24
        }
      ]
    },
    {
      "cell_type": "code",
      "source": [
        "s1 + s2"
      ],
      "metadata": {
        "colab": {
          "base_uri": "https://localhost:8080/"
        },
        "id": "Rlsr76LlKDk6",
        "outputId": "48b22ff5-362f-451d-a528-e74e8eba2ede"
      },
      "execution_count": 25,
      "outputs": [
        {
          "output_type": "execute_result",
          "data": {
            "text/plain": [
              "a     3.0\n",
              "b     5.0\n",
              "c     9.0\n",
              "d    13.0\n",
              "x     NaN\n",
              "y     NaN\n",
              "dtype: float64"
            ]
          },
          "metadata": {},
          "execution_count": 25
        }
      ]
    },
    {
      "cell_type": "code",
      "source": [
        "s1 * s2"
      ],
      "metadata": {
        "colab": {
          "base_uri": "https://localhost:8080/"
        },
        "id": "bkSHf1fVKGPO",
        "outputId": "e5ec64b2-2733-4854-8306-27cbbd9b7bd7"
      },
      "execution_count": 26,
      "outputs": [
        {
          "output_type": "execute_result",
          "data": {
            "text/plain": [
              "a     2.0\n",
              "b     6.0\n",
              "c    18.0\n",
              "d    36.0\n",
              "x     NaN\n",
              "y     NaN\n",
              "dtype: float64"
            ]
          },
          "metadata": {},
          "execution_count": 26
        }
      ]
    },
    {
      "cell_type": "code",
      "source": [
        "s1 ** s2"
      ],
      "metadata": {
        "colab": {
          "base_uri": "https://localhost:8080/"
        },
        "id": "y4JtI-SnKNLn",
        "outputId": "bf99b65f-ba70-479b-be5b-4809b5ba7f45"
      },
      "execution_count": 27,
      "outputs": [
        {
          "output_type": "execute_result",
          "data": {
            "text/plain": [
              "a         1.0\n",
              "b         8.0\n",
              "c       729.0\n",
              "d    262144.0\n",
              "x         NaN\n",
              "y         NaN\n",
              "dtype: float64"
            ]
          },
          "metadata": {},
          "execution_count": 27
        }
      ]
    },
    {
      "cell_type": "markdown",
      "metadata": {
        "id": "QGZSz31wqsQM"
      },
      "source": [
        "- #### 논리값을 이용한 Series 인덱싱"
      ]
    },
    {
      "cell_type": "code",
      "execution_count": 29,
      "metadata": {
        "id": "mYU-QK86qsQM",
        "colab": {
          "base_uri": "https://localhost:8080/"
        },
        "outputId": "c8bf8e34-dec0-41a4-f176-a09b57a70da0"
      },
      "outputs": [
        {
          "output_type": "execute_result",
          "data": {
            "text/plain": [
              "0    1.0\n",
              "1    0.0\n",
              "2    3.0\n",
              "3    1.0\n",
              "4    0.0\n",
              "5    2.0\n",
              "6    5.0\n",
              "7    4.0\n",
              "8    3.0\n",
              "9    NaN\n",
              "dtype: float64"
            ]
          },
          "metadata": {},
          "execution_count": 29
        }
      ],
      "source": [
        "s = pd.Series([1, 0, 3, 1, 0, 2, 5, 4, 3, np.NaN])\n",
        "s"
      ]
    },
    {
      "cell_type": "code",
      "source": [
        "s > 3"
      ],
      "metadata": {
        "colab": {
          "base_uri": "https://localhost:8080/"
        },
        "id": "mZiugCarKYJX",
        "outputId": "0c09de3c-c3ba-451b-aca9-30a8daaa364b"
      },
      "execution_count": 31,
      "outputs": [
        {
          "output_type": "execute_result",
          "data": {
            "text/plain": [
              "0    False\n",
              "1    False\n",
              "2    False\n",
              "3    False\n",
              "4    False\n",
              "5    False\n",
              "6     True\n",
              "7     True\n",
              "8    False\n",
              "9    False\n",
              "dtype: bool"
            ]
          },
          "metadata": {},
          "execution_count": 31
        }
      ]
    },
    {
      "cell_type": "code",
      "source": [
        "s[s > 3]"
      ],
      "metadata": {
        "colab": {
          "base_uri": "https://localhost:8080/"
        },
        "id": "7ULZKHWdKyBi",
        "outputId": "888b1935-faea-4e31-fb09-5bb72aaaebdb"
      },
      "execution_count": 32,
      "outputs": [
        {
          "output_type": "execute_result",
          "data": {
            "text/plain": [
              "6    5.0\n",
              "7    4.0\n",
              "dtype: float64"
            ]
          },
          "metadata": {},
          "execution_count": 32
        }
      ]
    },
    {
      "cell_type": "code",
      "source": [
        "s[s % 2 == 0]"
      ],
      "metadata": {
        "colab": {
          "base_uri": "https://localhost:8080/"
        },
        "id": "gQJfuFfUK0FJ",
        "outputId": "32c46fbf-5c5a-4301-b951-1c8e1df26ed8"
      },
      "execution_count": 33,
      "outputs": [
        {
          "output_type": "execute_result",
          "data": {
            "text/plain": [
              "1    0.0\n",
              "4    0.0\n",
              "5    2.0\n",
              "7    4.0\n",
              "dtype: float64"
            ]
          },
          "metadata": {},
          "execution_count": 33
        }
      ]
    },
    {
      "cell_type": "code",
      "source": [
        "s.index > 5"
      ],
      "metadata": {
        "colab": {
          "base_uri": "https://localhost:8080/"
        },
        "id": "Vgk4GWWoK3Gw",
        "outputId": "1d6a909d-bf2b-475a-834e-078e64653e95"
      },
      "execution_count": 34,
      "outputs": [
        {
          "output_type": "execute_result",
          "data": {
            "text/plain": [
              "array([False, False, False, False, False, False,  True,  True,  True,\n",
              "        True])"
            ]
          },
          "metadata": {},
          "execution_count": 34
        }
      ]
    },
    {
      "cell_type": "code",
      "source": [
        "s[s.index > 5]"
      ],
      "metadata": {
        "colab": {
          "base_uri": "https://localhost:8080/"
        },
        "id": "8apLBx6fK6Ca",
        "outputId": "b46c6e5d-88b3-4691-d27a-400a7cc30cb6"
      },
      "execution_count": 35,
      "outputs": [
        {
          "output_type": "execute_result",
          "data": {
            "text/plain": [
              "6    5.0\n",
              "7    4.0\n",
              "8    3.0\n",
              "9    NaN\n",
              "dtype: float64"
            ]
          },
          "metadata": {},
          "execution_count": 35
        }
      ]
    },
    {
      "cell_type": "code",
      "source": [
        "s[(s > 3) & (s <5)]"
      ],
      "metadata": {
        "colab": {
          "base_uri": "https://localhost:8080/"
        },
        "id": "ysXsodCfK8Sg",
        "outputId": "68d42c2e-f710-4c47-f490-b33d67db43cb"
      },
      "execution_count": 36,
      "outputs": [
        {
          "output_type": "execute_result",
          "data": {
            "text/plain": [
              "7    4.0\n",
              "dtype: float64"
            ]
          },
          "metadata": {},
          "execution_count": 36
        }
      ]
    },
    {
      "cell_type": "code",
      "source": [
        "(s >= 3).sum()"
      ],
      "metadata": {
        "colab": {
          "base_uri": "https://localhost:8080/"
        },
        "id": "ycBPISmELCaY",
        "outputId": "aee89868-0733-4ec5-b7e0-3a14204afe4a"
      },
      "execution_count": 37,
      "outputs": [
        {
          "output_type": "execute_result",
          "data": {
            "text/plain": [
              "4"
            ]
          },
          "metadata": {},
          "execution_count": 37
        }
      ]
    },
    {
      "cell_type": "code",
      "source": [
        "(s[s>=3]).sum()"
      ],
      "metadata": {
        "colab": {
          "base_uri": "https://localhost:8080/"
        },
        "id": "_Z1bx--HLF05",
        "outputId": "fb017dc4-1587-44b8-8a69-8049e5f43a8f"
      },
      "execution_count": 38,
      "outputs": [
        {
          "output_type": "execute_result",
          "data": {
            "text/plain": [
              "15.0"
            ]
          },
          "metadata": {},
          "execution_count": 38
        }
      ]
    },
    {
      "cell_type": "markdown",
      "metadata": {
        "id": "N2B8_dapqsQP"
      },
      "source": [
        "### Series 변경과 슬라이싱"
      ]
    },
    {
      "cell_type": "code",
      "execution_count": 40,
      "metadata": {
        "id": "Xx2InvnyqsQP",
        "colab": {
          "base_uri": "https://localhost:8080/"
        },
        "outputId": "19fdda47-bf84-4378-8339-5a2b9b9c1fd8"
      },
      "outputs": [
        {
          "output_type": "execute_result",
          "data": {
            "text/plain": [
              "a    10\n",
              "b    12\n",
              "c    14\n",
              "d    16\n",
              "e    18\n",
              "dtype: int64"
            ]
          },
          "metadata": {},
          "execution_count": 40
        }
      ],
      "source": [
        "s = pd.Series(np.arange(10, 20, 2), ['a', 'b', 'c', 'd', 'e'])\n",
        "s"
      ]
    },
    {
      "cell_type": "markdown",
      "metadata": {
        "id": "bfeMj7G6qsQR"
      },
      "source": [
        "- #### 데이터 변경\n",
        "    - #### index, drop() 함수 이용"
      ]
    },
    {
      "cell_type": "code",
      "execution_count": 41,
      "metadata": {
        "id": "-uljOhHRqsQS",
        "colab": {
          "base_uri": "https://localhost:8080/"
        },
        "outputId": "dd5f21cc-45ac-4ed7-8b37-52625d921247"
      },
      "outputs": [
        {
          "output_type": "execute_result",
          "data": {
            "text/plain": [
              "a    20\n",
              "b    12\n",
              "c    14\n",
              "d    16\n",
              "e    18\n",
              "dtype: int64"
            ]
          },
          "metadata": {},
          "execution_count": 41
        }
      ],
      "source": [
        "s['a'] = 20\n",
        "s"
      ]
    },
    {
      "cell_type": "code",
      "source": [
        "s['x'] = 30\n",
        "s"
      ],
      "metadata": {
        "colab": {
          "base_uri": "https://localhost:8080/"
        },
        "id": "h-IAGfZ8LqSM",
        "outputId": "7d58d35c-6d96-430b-a3c1-3c5f7a50661a"
      },
      "execution_count": 42,
      "outputs": [
        {
          "output_type": "execute_result",
          "data": {
            "text/plain": [
              "a    20\n",
              "b    12\n",
              "c    14\n",
              "d    16\n",
              "e    18\n",
              "x    30\n",
              "dtype: int64"
            ]
          },
          "metadata": {},
          "execution_count": 42
        }
      ]
    },
    {
      "cell_type": "code",
      "source": [
        "s[['a', 'b']] = [100, 100]\n",
        "s"
      ],
      "metadata": {
        "colab": {
          "base_uri": "https://localhost:8080/"
        },
        "id": "zhayiDOfLtkw",
        "outputId": "d4d48327-80df-4134-a994-493744b89f01"
      },
      "execution_count": 44,
      "outputs": [
        {
          "output_type": "execute_result",
          "data": {
            "text/plain": [
              "a    100\n",
              "b    100\n",
              "c     14\n",
              "d     16\n",
              "e     18\n",
              "x     30\n",
              "dtype: int64"
            ]
          },
          "metadata": {},
          "execution_count": 44
        }
      ]
    },
    {
      "cell_type": "code",
      "source": [
        "s.drop('a')"
      ],
      "metadata": {
        "colab": {
          "base_uri": "https://localhost:8080/"
        },
        "id": "aJXUeoF7L1dM",
        "outputId": "49acae15-9d97-492a-c4cf-fd66661a3206"
      },
      "execution_count": 45,
      "outputs": [
        {
          "output_type": "execute_result",
          "data": {
            "text/plain": [
              "b    100\n",
              "c     14\n",
              "d     16\n",
              "e     18\n",
              "x     30\n",
              "dtype: int64"
            ]
          },
          "metadata": {},
          "execution_count": 45
        }
      ]
    },
    {
      "cell_type": "markdown",
      "metadata": {
        "id": "-4zqd0XPqsQV"
      },
      "source": [
        "- #### 슬라이싱"
      ]
    },
    {
      "cell_type": "code",
      "execution_count": 47,
      "metadata": {
        "id": "XppDB7_KqsQW",
        "colab": {
          "base_uri": "https://localhost:8080/"
        },
        "outputId": "77850b8c-d4d0-47b5-b6fb-4aef154820f7"
      },
      "outputs": [
        {
          "output_type": "execute_result",
          "data": {
            "text/plain": [
              "b    100\n",
              "c     14\n",
              "dtype: int64"
            ]
          },
          "metadata": {},
          "execution_count": 47
        }
      ],
      "source": [
        "s[1:3]"
      ]
    },
    {
      "cell_type": "code",
      "source": [
        "s['c':'d']"
      ],
      "metadata": {
        "colab": {
          "base_uri": "https://localhost:8080/"
        },
        "id": "CWA7A84QL_v5",
        "outputId": "309d8ab5-2577-4a4b-8f65-2734c34259ce"
      },
      "execution_count": 48,
      "outputs": [
        {
          "output_type": "execute_result",
          "data": {
            "text/plain": [
              "c    14\n",
              "d    16\n",
              "dtype: int64"
            ]
          },
          "metadata": {},
          "execution_count": 48
        }
      ]
    }
  ],
  "metadata": {
    "kernelspec": {
      "display_name": "Python 3",
      "language": "python",
      "name": "python3"
    },
    "language_info": {
      "codemirror_mode": {
        "name": "ipython",
        "version": 3
      },
      "file_extension": ".py",
      "mimetype": "text/x-python",
      "name": "python",
      "nbconvert_exporter": "python",
      "pygments_lexer": "ipython3",
      "version": "3.7.6"
    },
    "colab": {
      "provenance": [],
      "toc_visible": true,
      "include_colab_link": true
    }
  },
  "nbformat": 4,
  "nbformat_minor": 0
}