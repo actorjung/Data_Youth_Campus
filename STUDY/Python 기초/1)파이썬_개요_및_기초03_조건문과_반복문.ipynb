{
  "cells": [
    {
      "cell_type": "markdown",
      "metadata": {
        "id": "view-in-github",
        "colab_type": "text"
      },
      "source": [
        "<a href=\"https://colab.research.google.com/github/morateng/2023_Data_Campus/blob/main/1)%ED%8C%8C%EC%9D%B4%EC%8D%AC_%EA%B0%9C%EC%9A%94_%EB%B0%8F_%EA%B8%B0%EC%B4%8803_%EC%A1%B0%EA%B1%B4%EB%AC%B8%EA%B3%BC_%EB%B0%98%EB%B3%B5%EB%AC%B8.ipynb\" target=\"_parent\"><img src=\"https://colab.research.google.com/assets/colab-badge.svg\" alt=\"Open In Colab\"/></a>"
      ]
    },
    {
      "cell_type": "markdown",
      "metadata": {
        "id": "tuUdWum8lZD2"
      },
      "source": [
        "## 조건문과 반복문"
      ]
    },
    {
      "cell_type": "markdown",
      "source": [
        "### 논리 연산\n",
        "  - and : 두 개의 값이 모두 True인 경우에만 결과 값으로 True 반환, 나머지는 모두 False 반환\n",
        "  - or : 두 개의 값이 모두 False인 경우에만 결과 값으로 False 반환, 나머지는 모두 True 반환\n",
        "  - not : 한 개의 값이 False면 결과 값으로 True 반환, True이면 결과 값으로 False 반환"
      ],
      "metadata": {
        "id": "-CNgoPXlldea"
      }
    },
    {
      "cell_type": "code",
      "metadata": {
        "id": "4CR-oOMvGwPM",
        "colab": {
          "base_uri": "https://localhost:8080/"
        },
        "outputId": "7c35515e-e6f1-4c48-83a9-3ed4860adc9e"
      },
      "source": [
        "# and (논리 곱)\n",
        "print(True and True)\n",
        "print(True and False)\n",
        "print(False and False)"
      ],
      "execution_count": 1,
      "outputs": [
        {
          "output_type": "stream",
          "name": "stdout",
          "text": [
            "True\n",
            "False\n",
            "False\n"
          ]
        }
      ]
    },
    {
      "cell_type": "code",
      "metadata": {
        "id": "NpazijdwLBdW",
        "colab": {
          "base_uri": "https://localhost:8080/"
        },
        "outputId": "a50996c1-6579-4cda-d52b-3a91eb1bac95"
      },
      "source": [
        "# or (논리 합)\n",
        "print(True or True)\n",
        "print(True or False)\n",
        "print(False or False)"
      ],
      "execution_count": 2,
      "outputs": [
        {
          "output_type": "stream",
          "name": "stdout",
          "text": [
            "True\n",
            "True\n",
            "False\n"
          ]
        }
      ]
    },
    {
      "cell_type": "code",
      "metadata": {
        "id": "hDy7wkG9LEJr",
        "colab": {
          "base_uri": "https://localhost:8080/"
        },
        "outputId": "d1a0c6f4-9a56-4f6c-af2c-22b0caa63246"
      },
      "source": [
        "# not (논리 부정)\n",
        "print(not True)\n",
        "print(not False)"
      ],
      "execution_count": 3,
      "outputs": [
        {
          "output_type": "stream",
          "name": "stdout",
          "text": [
            "False\n",
            "True\n"
          ]
        }
      ]
    },
    {
      "cell_type": "markdown",
      "metadata": {
        "id": "uYXB64bElZD8"
      },
      "source": [
        "### 조건문"
      ]
    },
    {
      "cell_type": "markdown",
      "metadata": {
        "id": "ACmIobnMlZD9"
      },
      "source": [
        "- #### if\n",
        "  - 조건이 참일 경우 실행\n",
        "  - 조건이 거짓일 경우 패스"
      ]
    },
    {
      "cell_type": "code",
      "execution_count": 4,
      "metadata": {
        "id": "hsClZIsWlZD_",
        "colab": {
          "base_uri": "https://localhost:8080/"
        },
        "outputId": "f80c701e-6086-40c1-93bd-9c8ecfe649ba"
      },
      "outputs": [
        {
          "output_type": "stream",
          "name": "stdout",
          "text": [
            "true\n",
            "condition\n"
          ]
        }
      ],
      "source": [
        "if 5 >= 3:\n",
        "    print('true')\n",
        "\n",
        "print('condition')"
      ]
    },
    {
      "cell_type": "code",
      "execution_count": 5,
      "metadata": {
        "id": "zaxllR5JlZEC"
      },
      "outputs": [],
      "source": [
        "# 논리 연산\n",
        "# 변수 선언\n",
        "a = 1\n",
        "b = 3\n",
        "c = 5"
      ]
    },
    {
      "cell_type": "code",
      "execution_count": 6,
      "metadata": {
        "id": "FIh9qAywlZEC"
      },
      "outputs": [],
      "source": [
        "# and\n",
        "if a == 1 and b == 2:\n",
        "    print('true')"
      ]
    },
    {
      "cell_type": "code",
      "execution_count": 7,
      "metadata": {
        "id": "ERTN08k5lZED",
        "colab": {
          "base_uri": "https://localhost:8080/"
        },
        "outputId": "5916ef19-3db3-4496-b0c5-8bdba990ce6d"
      },
      "outputs": [
        {
          "output_type": "stream",
          "name": "stdout",
          "text": [
            "true\n"
          ]
        }
      ],
      "source": [
        "# or\n",
        "if a == 1 or b == 2:\n",
        "    print('true')"
      ]
    },
    {
      "cell_type": "code",
      "execution_count": 8,
      "metadata": {
        "id": "mlQhgPG2lZEF",
        "colab": {
          "base_uri": "https://localhost:8080/"
        },
        "outputId": "2af66e1c-617f-4ca6-a096-17b16991babd"
      },
      "outputs": [
        {
          "output_type": "stream",
          "name": "stdout",
          "text": [
            "true\n"
          ]
        }
      ],
      "source": [
        "# not\n",
        "if not a == 10:\n",
        "    print('true')"
      ]
    },
    {
      "cell_type": "code",
      "execution_count": 9,
      "metadata": {
        "id": "j8uiVhtmlZEE",
        "colab": {
          "base_uri": "https://localhost:8080/"
        },
        "outputId": "ede4b15b-3a50-44d4-e7a8-bfd676361148"
      },
      "outputs": [
        {
          "output_type": "stream",
          "name": "stdout",
          "text": [
            "true\n"
          ]
        }
      ],
      "source": [
        "# != (관계 연산)\n",
        "if a != 10:\n",
        "    print('true')"
      ]
    },
    {
      "cell_type": "code",
      "source": [
        "# \"카페인이 첨가된 종류는 아메리카노, 카페라떼, 콜드브루가 있다.\"\n",
        "# 위의 문장을 파이썬 조건문으로 표현\n",
        "caffeine = True\n",
        "\n",
        "if caffeine:\n",
        "    print('americano')\n",
        "    print('cage latte')\n",
        "    print('cold brew')"
      ],
      "metadata": {
        "id": "c35qZk_7twD0",
        "colab": {
          "base_uri": "https://localhost:8080/"
        },
        "outputId": "255f7bfd-a16e-4738-b901-b8d3a69101d6"
      },
      "execution_count": 10,
      "outputs": [
        {
          "output_type": "stream",
          "name": "stdout",
          "text": [
            "americano\n",
            "cage latte\n",
            "cold brew\n"
          ]
        }
      ]
    },
    {
      "cell_type": "markdown",
      "metadata": {
        "id": "xsc5kTKJlZEG"
      },
      "source": [
        "- #### if - else\n",
        "  - else 문은 if 문 뒤에 사용하며, if 문 조건이 거짓일 때 실행되는 부분"
      ]
    },
    {
      "cell_type": "code",
      "execution_count": 11,
      "metadata": {
        "id": "Dtem3U8ZlZEG",
        "colab": {
          "base_uri": "https://localhost:8080/"
        },
        "outputId": "81b718e1-5760-43b7-ff70-ca65254361c2"
      },
      "outputs": [
        {
          "output_type": "stream",
          "name": "stdout",
          "text": [
            "max:  3\n"
          ]
        }
      ],
      "source": [
        "a = 1\n",
        "b = 3\n",
        "\n",
        "if a > b:\n",
        "    print('max: ', a)\n",
        "else:\n",
        "    print('max: ', b)"
      ]
    },
    {
      "cell_type": "code",
      "source": [
        "# \"카페인이 첨가된 종류는 아메리카노, 카페라떼, 콜드브루가 있고, 카페인이 첨가되지 않은 종류는 우유, 오렌지 주스, 루이보스차가 있다.\"\n",
        "# 위의 문장을 파이썬 조건문으로 표현\n",
        "caffeine = True\n",
        "\n",
        "if caffeine:\n",
        "    print('americano')\n",
        "    print('cage latte')\n",
        "    print('cold brew')\n",
        "else:\n",
        "    print('mile')\n",
        "    print('orange juice')\n",
        "    print('rooibos tea')"
      ],
      "metadata": {
        "id": "RFPM48Q_uNVg",
        "colab": {
          "base_uri": "https://localhost:8080/"
        },
        "outputId": "65eb91f6-524a-4706-ef16-b61b3769023f"
      },
      "execution_count": 12,
      "outputs": [
        {
          "output_type": "stream",
          "name": "stdout",
          "text": [
            "americano\n",
            "cage latte\n",
            "cold brew\n"
          ]
        }
      ]
    },
    {
      "cell_type": "markdown",
      "metadata": {
        "id": "HLC4aAVAlZEH"
      },
      "source": [
        "- #### if - elif - else\n",
        "  - 조건이 여러 개인 경우, 다음 조건을 elif 블록에 명시 가능"
      ]
    },
    {
      "cell_type": "code",
      "execution_count": 13,
      "metadata": {
        "id": "iKYWOFCElZEI",
        "colab": {
          "base_uri": "https://localhost:8080/"
        },
        "outputId": "63b28278-7a6e-4740-841d-1abe327898a9"
      },
      "outputs": [
        {
          "output_type": "stream",
          "name": "stdout",
          "text": [
            "a % 4 is 2\n"
          ]
        }
      ],
      "source": [
        "a = 10\n",
        "\n",
        "if a % 4 == 0:\n",
        "    print('a % 4 is 0')\n",
        "elif a % 4 == 1:\n",
        "    print('a % 4 is 1')\n",
        "elif a % 4 == 2:\n",
        "    print('a % 4 is 2')\n",
        "else:\n",
        "    print('a % 4 is 3')"
      ]
    },
    {
      "cell_type": "markdown",
      "metadata": {
        "id": "4ZkEsxeelZEI"
      },
      "source": [
        "- #### 중첩 조건문\n",
        "  - 조건문의 경우 중첩하여 작성 가능\n",
        "  - 중첩에 제한은 없음"
      ]
    },
    {
      "cell_type": "code",
      "execution_count": 15,
      "metadata": {
        "id": "NS6hWSiDlZEJ",
        "colab": {
          "base_uri": "https://localhost:8080/"
        },
        "outputId": "fcdca0eb-671b-46f3-f9e9-79fb722abe7c"
      },
      "outputs": [
        {
          "output_type": "stream",
          "name": "stdout",
          "text": [
            "true, false\n"
          ]
        }
      ],
      "source": [
        "a = 5\n",
        "b = 5\n",
        "\n",
        "if a == 5:\n",
        "    if b == 4:\n",
        "        print('true, true')\n",
        "    else:\n",
        "        print('true, false')"
      ]
    },
    {
      "cell_type": "markdown",
      "source": [
        "- #### in / not in\n",
        "  - 데이터 안에 찾고자 하는 것이 있는지 없는지 확인하는 연산"
      ],
      "metadata": {
        "id": "-prLwb3Rx8LW"
      }
    },
    {
      "cell_type": "code",
      "source": [
        "# python 문자열에 k가 포함되어 있지 않다면 True, 포함 되어 있다면 False 출력\n",
        "if 'k' not in 'python':\n",
        "    print(True)\n",
        "else:\n",
        "    print(False)"
      ],
      "metadata": {
        "id": "45l3esC5yNjn",
        "colab": {
          "base_uri": "https://localhost:8080/"
        },
        "outputId": "d4610ffa-4096-47f7-bdf7-57f91b8688ba"
      },
      "execution_count": 17,
      "outputs": [
        {
          "output_type": "stream",
          "name": "stdout",
          "text": [
            "True\n"
          ]
        }
      ]
    },
    {
      "cell_type": "markdown",
      "source": [
        "- #### pass\n",
        "  - 조건은 만족하지만 아무 일도 수행하고 싶지 않을 때 사용"
      ],
      "metadata": {
        "id": "KUfAOmfsyEr5"
      }
    },
    {
      "cell_type": "code",
      "source": [
        "# 바구니에 딸기가 없다면 pass\n",
        "basket = ['사과', '바나나']\n",
        "\n",
        "if '딸기' not in basket:\n",
        "    pass"
      ],
      "metadata": {
        "id": "1ATaqKO1yN7f"
      },
      "execution_count": 18,
      "outputs": []
    },
    {
      "cell_type": "markdown",
      "source": [
        "### 조건문 연습문제"
      ],
      "metadata": {
        "id": "ANJo-mjCU9_L"
      }
    },
    {
      "cell_type": "markdown",
      "source": [
        "- #### 연습문제 1"
      ],
      "metadata": {
        "id": "QJgj0h_7zwmJ"
      }
    },
    {
      "cell_type": "code",
      "source": [
        "# 중첩 조건문 구현 문제 : 조건문 안에 조건문 구현\n",
        "# 배달 음식을 주문할 때 배달 거리에 따라 다른 배달비를 출력하는 조건문 완성하기\n",
        "# 초기 설정 값 1) 음식을 배달로 시키는 경우, delivery 변수에 True 값 삽입\n",
        "#                 음식을 포장으로 시키는 경우, delivery 변수에 False 값 삽입\n",
        "# 초기 설정 값 2) 배달 거리는 사용자에게 실수로 입력받아 distance 변수에 입력\n",
        "# 초기 설정 값 3) 배달 거리에 따른 배달비로 deliveryFee 변수에 0 입력\n",
        "\n",
        "# 1) 첫 번째 조건문\n",
        "#    1-1) 음식을 배달로 시키는 경우, 두 번째 조건문 실행\n",
        "#    1-2) 음식을 포장으로 시키는 경우, deliveryFee는 0\n",
        "\n",
        "# 2) 두 번째 조건문 (delivery == True일 때 실행할 조건문)\n",
        "#    2-1) distance 값이 0.5km 미만 : deliveryFee는 1000\n",
        "#    2-2) distance 값이 0.5km 이상 1km 미만 : deliveryFee는 1500\n",
        "#    2-3) distance 값이 1km 이상 2km 미만 : deliveryFee는 2000\n",
        "#    2-4) distance 값이 2km 이상 : deliveryFee는 2500\n",
        "\n",
        "# 3) 배달 거리와 배달비를 출력\n",
        "\n",
        "delivery =\n",
        "distance =\n",
        "deliveryFee =\n",
        "\n"
      ],
      "metadata": {
        "id": "qxlXRlQJU-1l",
        "colab": {
          "base_uri": "https://localhost:8080/",
          "height": 137
        },
        "outputId": "0f735e66-5d03-4949-ccc2-3b5eb9e24076"
      },
      "execution_count": null,
      "outputs": [
        {
          "output_type": "error",
          "ename": "SyntaxError",
          "evalue": "ignored",
          "traceback": [
            "\u001b[0;36m  File \u001b[0;32m\"<ipython-input-22-6875b40869c8>\"\u001b[0;36m, line \u001b[0;32m20\u001b[0m\n\u001b[0;31m    delivery =\u001b[0m\n\u001b[0m               ^\u001b[0m\n\u001b[0;31mSyntaxError\u001b[0m\u001b[0;31m:\u001b[0m invalid syntax\n"
          ]
        }
      ]
    },
    {
      "cell_type": "markdown",
      "source": [
        "- #### 연습문제 2\n",
        "\n",
        "* in / not in 연산자\n",
        "\n"
      ],
      "metadata": {
        "id": "K5WVoe3HVD-p"
      }
    },
    {
      "cell_type": "code",
      "source": [
        "# 1) 'bigdata analysis' 문자열에 'd'가 포함되어 있다면 True, 포함 되어 있지 않다면 False 출력하는 조건문 구현\n"
      ],
      "metadata": {
        "id": "IcHqnGPKVEsZ"
      },
      "execution_count": null,
      "outputs": []
    },
    {
      "cell_type": "markdown",
      "source": [
        "- #### 연습문제 3\n",
        "\n",
        "* pass 키워드\n",
        "\n"
      ],
      "metadata": {
        "id": "Tqyu6-1FVHEJ"
      }
    },
    {
      "cell_type": "code",
      "source": [
        "# 1) 'basket' 리스트는 apple, orange, lemon 으로 이루어져 있음\n",
        "# 2) 'basket' 리스트에 melon 이 없다면 pass 키워드 설정하는 조건문 구현\n"
      ],
      "metadata": {
        "id": "vhuEgkvBVIAV"
      },
      "execution_count": null,
      "outputs": []
    },
    {
      "cell_type": "markdown",
      "metadata": {
        "id": "Jn-BgvE6lZEK"
      },
      "source": [
        "### 반복문_while"
      ]
    },
    {
      "cell_type": "markdown",
      "metadata": {
        "id": "57LBF0NNlZEK"
      },
      "source": [
        "- #### while"
      ]
    },
    {
      "cell_type": "code",
      "source": [
        "# count 변수가 5가 될 때까지 반복하여 count 출력\n",
        "count = 0\n",
        "\n",
        "while count < 5:\n",
        "    print('count: ', count)\n",
        "    count += 1"
      ],
      "metadata": {
        "id": "EAgzL9WIWjpL",
        "colab": {
          "base_uri": "https://localhost:8080/"
        },
        "outputId": "46e241a3-349d-4e4d-f602-6ed278e4ccab"
      },
      "execution_count": 19,
      "outputs": [
        {
          "output_type": "stream",
          "name": "stdout",
          "text": [
            "count:  0\n",
            "count:  1\n",
            "count:  2\n",
            "count:  3\n",
            "count:  4\n"
          ]
        }
      ]
    },
    {
      "cell_type": "code",
      "execution_count": 20,
      "metadata": {
        "id": "FaSo9UK6lZEL",
        "colab": {
          "base_uri": "https://localhost:8080/"
        },
        "outputId": "fc53d558-7087-492d-d71d-f67fcc3e51c8"
      },
      "outputs": [
        {
          "output_type": "stream",
          "name": "stdout",
          "text": [
            "index:  0 \t value:  1\n",
            "index:  1 \t value:  3\n",
            "index:  2 \t value:  9\n",
            "index:  3 \t value:  5\n"
          ]
        }
      ],
      "source": [
        "# 리스트 요소를 차례대로 출력\n",
        "# i를 0으로 초기화하여 리스트의 인덱스로 사용\n",
        "# 리스트 요소의 개수를 len() 함수로 구해 반복문의 조건에 사용\n",
        "a = [1, 3, 9, 5]\n",
        "\n",
        "\n",
        "i = 0\n",
        "while i < len(a):\n",
        "    print('index: ', i, '\\t value: ', a[i])\n",
        "    i += 1"
      ]
    },
    {
      "cell_type": "code",
      "execution_count": 21,
      "metadata": {
        "id": "wcpNw63xlZEU",
        "colab": {
          "base_uri": "https://localhost:8080/"
        },
        "outputId": "acc84ec4-e675-47a6-e7a2-991271f47343"
      },
      "outputs": [
        {
          "output_type": "stream",
          "name": "stdout",
          "text": [
            "4\n"
          ]
        }
      ],
      "source": [
        "# len()\n",
        "a = [1, 3, 9, 5]\n",
        "\n",
        "print(len(a))"
      ]
    },
    {
      "cell_type": "code",
      "execution_count": 22,
      "metadata": {
        "id": "Qd2vd222lZEL",
        "colab": {
          "base_uri": "https://localhost:8080/"
        },
        "outputId": "f0ffbaf2-0eec-4f82-b53d-e5f917ddb3d0"
      },
      "outputs": [
        {
          "output_type": "stream",
          "name": "stdout",
          "text": [
            "9\n"
          ]
        }
      ],
      "source": [
        "# 리스트 요소 중 5 초과인 값을 출력\n",
        "# i를 0으로 초기화하여 리스트의 인덱스로 사용\n",
        "# 리스트 요소의 개수를 len() 함수로 구해 반복문의 조건에 사용\n",
        "a = [1, 3, 9, 5]\n",
        "\n",
        "i = 0\n",
        "while i < len(a):\n",
        "    if a[i] > 5:\n",
        "        print(a[i])\n",
        "    i += 1"
      ]
    },
    {
      "cell_type": "markdown",
      "metadata": {
        "id": "8ZsJlHBflZEM"
      },
      "source": [
        "- #### 무한루프"
      ]
    },
    {
      "cell_type": "code",
      "execution_count": null,
      "metadata": {
        "id": "y64A8g9tlZEN"
      },
      "outputs": [],
      "source": [
        "# 반복문의 조건이 True 로 항상 참으로 무한 반복\n",
        "while True:\n",
        "    print('end')"
      ]
    },
    {
      "cell_type": "code",
      "source": [
        "# i를 0으로 초기 값을 부여하여 반복문의 조건은 항상 참이 나옴\n",
        "# 그래서 무한 반복문이 됨\n",
        "a = [1, 3, 5, 7]\n",
        "\n",
        "i = 0\n",
        "while i < len(a):\n",
        "    print(a[i])\n",
        "print('end')"
      ],
      "metadata": {
        "id": "O7kwxjd9XGkH"
      },
      "execution_count": null,
      "outputs": []
    },
    {
      "cell_type": "markdown",
      "metadata": {
        "id": "zkCW3L7XlZEN"
      },
      "source": [
        "- #### break"
      ]
    },
    {
      "cell_type": "code",
      "execution_count": 25,
      "metadata": {
        "id": "PM3QkgWHlZEO",
        "colab": {
          "base_uri": "https://localhost:8080/"
        },
        "outputId": "8e878737-1a04-4423-ed87-6feeb2cd22a3"
      },
      "outputs": [
        {
          "output_type": "stream",
          "name": "stdout",
          "text": [
            "index:  0 value:  1\n",
            "index:  1 value:  3\n"
          ]
        }
      ],
      "source": [
        "# 리스트 요소를 차례대로 출력\n",
        "# i를 0으로 초기 값을 부여하여 반복문의 조건은 항상 참이 나옴\n",
        "# 그래서 무한 반복문이 됨\n",
        "# break 키워드를 통해 '리스트 요소 중 5 초과이면 반복을 멈춰'를 실행하여 빠져나옴\n",
        "a = [1, 3, 9, 5]\n",
        "\n",
        "i = 0\n",
        "while i < len(a):\n",
        "    if a[i] > 5:\n",
        "        break\n",
        "    print('index: ', i, 'value: ', a[i])\n",
        "    i += 1"
      ]
    },
    {
      "cell_type": "code",
      "source": [
        "# 반복문 조건은 'a가 3보다 클 때 반복을 시켜줘'\n",
        "# a를 10으로 초기 값을 부여하여 반복문의 조건은 항상 참이 나옴\n",
        "# 그래서 무한 반복문이 됨\n",
        "# break 키워드를 통해 'count가 20보다 클 때 반복을 멈춰' 실행하여 무한 반복문을 빠져나옴\n",
        "a = 10\n",
        "count = 0\n",
        "\n",
        "while a > 3:\n",
        "    count = count + 1\n",
        "    a = a + 1\n",
        "    if count > 20:\n",
        "        break\n",
        "    print(a, count)"
      ],
      "metadata": {
        "id": "WZW20ceOXh_r",
        "colab": {
          "base_uri": "https://localhost:8080/"
        },
        "outputId": "aa374de1-32eb-46f6-fec2-e687e73d76e3"
      },
      "execution_count": 27,
      "outputs": [
        {
          "output_type": "stream",
          "name": "stdout",
          "text": [
            "11 1\n",
            "12 2\n",
            "13 3\n",
            "14 4\n",
            "15 5\n",
            "16 6\n",
            "17 7\n",
            "18 8\n",
            "19 9\n",
            "20 10\n",
            "21 11\n",
            "22 12\n",
            "23 13\n",
            "24 14\n",
            "25 15\n",
            "26 16\n",
            "27 17\n",
            "28 18\n",
            "29 19\n",
            "30 20\n"
          ]
        }
      ]
    },
    {
      "cell_type": "markdown",
      "source": [
        "- #### continue"
      ],
      "metadata": {
        "id": "AyHXIXB9X2tq"
      }
    },
    {
      "cell_type": "code",
      "source": [
        "# 반복문 조건은 'num이 10보다 작을 때 반복을 시켜줘'\n",
        "# num이 5 이하일 때 continue 키워드를 사용하여\n",
        "# 현재 반복을 생략하고 다음 반복으로 넘어가서 print가 안 됨\n",
        "# num이 5 초과일 때 print 됨\n",
        "num = 0\n",
        "\n",
        "while num < 10:\n",
        "    num += 1\n",
        "    if num <= 5:\n",
        "        continue\n",
        "    print(num)"
      ],
      "metadata": {
        "id": "5b7omY23X144",
        "colab": {
          "base_uri": "https://localhost:8080/"
        },
        "outputId": "e4a445f2-55da-4c26-8233-5bc963d227c8"
      },
      "execution_count": 28,
      "outputs": [
        {
          "output_type": "stream",
          "name": "stdout",
          "text": [
            "6\n",
            "7\n",
            "8\n",
            "9\n",
            "10\n"
          ]
        }
      ]
    },
    {
      "cell_type": "markdown",
      "metadata": {
        "id": "rAffElgilZEO"
      },
      "source": [
        "### 반복문_for"
      ]
    },
    {
      "cell_type": "markdown",
      "metadata": {
        "id": "0GjhlHs9lZEP"
      },
      "source": [
        "- #### for"
      ]
    },
    {
      "cell_type": "code",
      "source": [
        "# print(\"데이터 청년 캠퍼스\") 코드를 5번 반복하고 싶을 때\n",
        "# range() 함수를 사용하여 0부터 5미만까지 5번 반복\n",
        "for i in range(5):\n",
        "    print('데이터 청년 캠퍼스')"
      ],
      "metadata": {
        "id": "HZNwC4qqdlL_",
        "colab": {
          "base_uri": "https://localhost:8080/"
        },
        "outputId": "cd9be954-ae7f-4e45-c953-b788500765de"
      },
      "execution_count": 29,
      "outputs": [
        {
          "output_type": "stream",
          "name": "stdout",
          "text": [
            "데이터 청년 캠퍼스\n",
            "데이터 청년 캠퍼스\n",
            "데이터 청년 캠퍼스\n",
            "데이터 청년 캠퍼스\n",
            "데이터 청년 캠퍼스\n"
          ]
        }
      ]
    },
    {
      "cell_type": "markdown",
      "source": [
        "- #### 리스트 반복\n",
        "  - 리스트는 여러 가지 자료를 저장할 수 있는 자료형\n",
        "  - 요소(element)는 리스트 안에 있는 각각의 내용을 의미\n",
        "  - 인덱스(index)는 리스트 안에 있는 값의 위치를 의미\n",
        "  - 리스트를 이용한 for문은 요소 하나하나가 변수에 들어가며, 차례차례 반복"
      ],
      "metadata": {
        "id": "P8zhB5RkfNYp"
      }
    },
    {
      "cell_type": "code",
      "execution_count": 30,
      "metadata": {
        "id": "zVPD573YlZEP",
        "colab": {
          "base_uri": "https://localhost:8080/"
        },
        "outputId": "82ea3014-816d-4a8d-c074-a299d8cdac35"
      },
      "outputs": [
        {
          "output_type": "stream",
          "name": "stdout",
          "text": [
            "1\n",
            "3\n",
            "9\n",
            "5\n",
            "end\n"
          ]
        }
      ],
      "source": [
        "# 리스트를 반복해서 출력\n",
        "# a 리스트의 첫번째 요소부터 마지막 요소까지 차례로 i변수에 대입해 명령어 print() 실행\n",
        "a = [1, 3, 9, 5]\n",
        "\n",
        "for i in a:\n",
        "    print(i)\n",
        "\n",
        "print('end')"
      ]
    },
    {
      "cell_type": "code",
      "source": [
        "# myList 변수에 국가명이 담긴 리스트를 넣고 반복문으로 출력\n",
        "myList = ['Korea', 'USA', 'Japan']\n",
        "for i in myList:\n",
        "    print(i)"
      ],
      "metadata": {
        "id": "uyBq5_nXfjcx",
        "colab": {
          "base_uri": "https://localhost:8080/"
        },
        "outputId": "265c0364-45e3-42d6-884b-613fb7f3dd9d"
      },
      "execution_count": 31,
      "outputs": [
        {
          "output_type": "stream",
          "name": "stdout",
          "text": [
            "Korea\n",
            "USA\n",
            "Japan\n"
          ]
        }
      ]
    },
    {
      "cell_type": "code",
      "execution_count": 33,
      "metadata": {
        "id": "pjeHvWKflZEQ",
        "colab": {
          "base_uri": "https://localhost:8080/"
        },
        "outputId": "827a6d96-e888-47aa-dfb7-ef2bdfd2c968"
      },
      "outputs": [
        {
          "output_type": "stream",
          "name": "stdout",
          "text": [
            "index: 0 num: 1\n",
            "index: 1 num: 3\n",
            "index: 2 num: 9\n",
            "index: 3 num: 5\n",
            "end\n"
          ]
        }
      ],
      "source": [
        "# 리스트를 반복해서 출력\n",
        "# enumerate() : 요소의 인덱스와 값을 반환\n",
        "# a 리스트의 첫번째 요소부터 마지막 요소까지 인덱스와 값을 각각 차례로 index와 num변수에 대입해 명령어 print() 실행\n",
        "a = [1, 3, 9, 5]\n",
        "\n",
        "for index, num in enumerate(a):\n",
        "    print('index:', index,'num:', num)\n",
        "\n",
        "print('end')"
      ]
    },
    {
      "cell_type": "markdown",
      "source": [
        "- #### 딕셔너리 출력\n",
        "  - 딕셔너리는 키를 기반으로 여러 자료를 저장하는 자료형\n",
        "  - 키(key)는 딕셔너리 안에서 값을 접근할 때 사용하는 것\n",
        "  - 값(value)은 딕셔너리 안에서 각각의 내용을 의미\n",
        "  - 딕셔너리를 이용한 for문은 딕셔너리 안에 있는 키(key)가 변수에 들어감"
      ],
      "metadata": {
        "id": "i4oc6e96fuWL"
      }
    },
    {
      "cell_type": "code",
      "execution_count": 34,
      "metadata": {
        "id": "KF7HQwnFlZER"
      },
      "outputs": [],
      "source": [
        "# 딕셔너리를 반복해서 출력\n",
        "# basket 딕셔너리 생성\n",
        "basket = {\n",
        "    'A':'apple',\n",
        "    'B':'banan',\n",
        "    'C':'carrot'\n",
        "}"
      ]
    },
    {
      "cell_type": "code",
      "source": [
        "# 딕셔너리를 이용한 for 문은 key 가 변수에 들어감\n",
        "for key in basket:\n",
        "    print(key)"
      ],
      "metadata": {
        "id": "-0pOeECKgtyw",
        "colab": {
          "base_uri": "https://localhost:8080/"
        },
        "outputId": "80f5da8d-c5d6-48f3-8889-6cb1ff6977a7"
      },
      "execution_count": 35,
      "outputs": [
        {
          "output_type": "stream",
          "name": "stdout",
          "text": [
            "A\n",
            "B\n",
            "C\n"
          ]
        }
      ]
    },
    {
      "cell_type": "code",
      "source": [
        "# keys() : key 값을 반환\n",
        "for key in basket.keys():\n",
        "    print(key)"
      ],
      "metadata": {
        "id": "batZ3nzkgZJV",
        "colab": {
          "base_uri": "https://localhost:8080/"
        },
        "outputId": "eefc1e48-b1a6-4680-ab73-2e07d072d484"
      },
      "execution_count": 36,
      "outputs": [
        {
          "output_type": "stream",
          "name": "stdout",
          "text": [
            "A\n",
            "B\n",
            "C\n"
          ]
        }
      ]
    },
    {
      "cell_type": "code",
      "source": [
        "# values() : value 값을 반환\n",
        "for value in basket.values():\n",
        "    print(value)"
      ],
      "metadata": {
        "id": "fSzlUg0GgZZg",
        "colab": {
          "base_uri": "https://localhost:8080/"
        },
        "outputId": "23e3e1d8-a0e7-4a46-9ba6-ada15a0a4237"
      },
      "execution_count": 37,
      "outputs": [
        {
          "output_type": "stream",
          "name": "stdout",
          "text": [
            "apple\n",
            "banan\n",
            "carrot\n"
          ]
        }
      ]
    },
    {
      "cell_type": "code",
      "source": [
        "# items() : key, value값 반환\n",
        "for key, value in basket.items():\n",
        "    print(key, value)"
      ],
      "metadata": {
        "id": "E0hnHTm6gM7F",
        "colab": {
          "base_uri": "https://localhost:8080/"
        },
        "outputId": "44068b77-1b27-4c9f-c601-ad9e27e8ea07"
      },
      "execution_count": 38,
      "outputs": [
        {
          "output_type": "stream",
          "name": "stdout",
          "text": [
            "A apple\n",
            "B banan\n",
            "C carrot\n"
          ]
        }
      ]
    },
    {
      "cell_type": "markdown",
      "source": [
        "- #### 범위 출력\n",
        "  - range() : 범위를 생성\n",
        "    - range(A) : 매개변수로 숫자 한 개 입력\n",
        "      - 0부터 A-1까지의 정수로 범위 생성\n",
        "    - range(A, B) : 매개변수로 숫자 두 개 입력\n",
        "      - A부터 B-1까지의 정수로 범위 생성\n",
        "    - range(A, B, C) : 매개변수로 숫자 세 개 입력\n",
        "      - A부터 B-1까지의 정수로 범위 생성하는데 앞 뒤 숫자가 C만큼의 차이를 가짐\n",
        "\n",
        "  - list() : 범위를 리스트로 변경하면 범위 안에 어떤 값이 있는지 확인 가능\n"
      ],
      "metadata": {
        "id": "afPZjcRViJAl"
      }
    },
    {
      "cell_type": "code",
      "metadata": {
        "id": "z90KWdu2i4O2",
        "colab": {
          "base_uri": "https://localhost:8080/"
        },
        "outputId": "3a1282cc-9fae-40a5-d4a4-219335a7c1de"
      },
      "source": [
        "# range() 함수로 바로 출력하면 range(0, 11)로 출력됨\n",
        "print(range(11))"
      ],
      "execution_count": 39,
      "outputs": [
        {
          "output_type": "stream",
          "name": "stdout",
          "text": [
            "range(0, 11)\n"
          ]
        }
      ]
    },
    {
      "cell_type": "code",
      "metadata": {
        "id": "m--7xtF_h0lm",
        "colab": {
          "base_uri": "https://localhost:8080/"
        },
        "outputId": "b883e34b-dd14-46eb-975d-66d4984ff599"
      },
      "source": [
        "# list() 함수를 이용해 범위를 리스트로 변경하면 범위 내부에 어떤 값이 있는지 확인 가능\n",
        "# range() 함수의 매개변수 개수에 따른 결과 값 출력\n",
        "print(list(range(11)))\n",
        "print(list(range(1, 11)))\n",
        "print(list(range(1, 11, 3)))"
      ],
      "execution_count": 40,
      "outputs": [
        {
          "output_type": "stream",
          "name": "stdout",
          "text": [
            "[0, 1, 2, 3, 4, 5, 6, 7, 8, 9, 10]\n",
            "[1, 2, 3, 4, 5, 6, 7, 8, 9, 10]\n",
            "[1, 4, 7, 10]\n"
          ]
        }
      ]
    },
    {
      "cell_type": "code",
      "metadata": {
        "id": "eCd1In2V_3QD",
        "colab": {
          "base_uri": "https://localhost:8080/"
        },
        "outputId": "5a836cc3-ccd4-4c65-f4b5-5bde18ef8ef2"
      },
      "source": [
        "# range() 함수를 사용하여 5번 반복\n",
        "# 0부터 5미만까지 반복\n",
        "for i in range(5):\n",
        "    print(i)"
      ],
      "execution_count": 41,
      "outputs": [
        {
          "output_type": "stream",
          "name": "stdout",
          "text": [
            "0\n",
            "1\n",
            "2\n",
            "3\n",
            "4\n"
          ]
        }
      ]
    },
    {
      "cell_type": "code",
      "source": [
        "# print(\"데이터 청년 캠퍼스\") 코드를 5번 반복하고 싶을 때\n",
        "# range() 함수를 사용하여 0부터 5미만까지 5번 반복\n",
        "for i in range(5):\n",
        "    print('데이터 청년 캠퍼스')"
      ],
      "metadata": {
        "id": "89TYbabIj3Vh",
        "colab": {
          "base_uri": "https://localhost:8080/"
        },
        "outputId": "609f36fb-278a-4c5f-daf0-c8faedabbc00"
      },
      "execution_count": 42,
      "outputs": [
        {
          "output_type": "stream",
          "name": "stdout",
          "text": [
            "데이터 청년 캠퍼스\n",
            "데이터 청년 캠퍼스\n",
            "데이터 청년 캠퍼스\n",
            "데이터 청년 캠퍼스\n",
            "데이터 청년 캠퍼스\n"
          ]
        }
      ]
    },
    {
      "cell_type": "code",
      "metadata": {
        "id": "r8DmPRjt_7rv",
        "colab": {
          "base_uri": "https://localhost:8080/"
        },
        "outputId": "8b1f7e5d-138e-45e3-a26d-8f6e0610402d"
      },
      "source": [
        "# 3부터 시작해서, 20 미만의 수를 4간격으로\n",
        "for i in range(3, 20, 4):\n",
        "    print(i)"
      ],
      "execution_count": 43,
      "outputs": [
        {
          "output_type": "stream",
          "name": "stdout",
          "text": [
            "3\n",
            "7\n",
            "11\n",
            "15\n",
            "19\n"
          ]
        }
      ]
    },
    {
      "cell_type": "code",
      "source": [
        "# 3부터 시작해서, 20 미만의 수를 4간격으로\n",
        "# 5번 반복\n",
        "for i in range(3, 20, 4):\n",
        "    print('데이터 청년 캠퍼스')\n"
      ],
      "metadata": {
        "id": "xBVUQdSej-mn",
        "colab": {
          "base_uri": "https://localhost:8080/"
        },
        "outputId": "ee1e5021-8a49-48ac-bd26-a7695e753220"
      },
      "execution_count": 44,
      "outputs": [
        {
          "output_type": "stream",
          "name": "stdout",
          "text": [
            "데이터 청년 캠퍼스\n",
            "데이터 청년 캠퍼스\n",
            "데이터 청년 캠퍼스\n",
            "데이터 청년 캠퍼스\n",
            "데이터 청년 캠퍼스\n"
          ]
        }
      ]
    },
    {
      "cell_type": "markdown",
      "source": [
        "- #### 문자열 출력\n",
        "  - 문자열은 문자의 나열이며, 큰따옴표 혹은 작은따옴표로 입력\n",
        "  - 문자열을 이용한 for문은 문자 하나하나가 변수에 들어가며, 차례차례 반복"
      ],
      "metadata": {
        "id": "Xe8xDBqZlkTh"
      }
    },
    {
      "cell_type": "code",
      "source": [
        "# myList 변수에 \"python\" 문자열을 넣고 반복문으로 출력\n",
        "myList = 'python'\n",
        "\n",
        "for a in myList:\n",
        "    print(a)"
      ],
      "metadata": {
        "id": "lQWq_Zd4luCT",
        "colab": {
          "base_uri": "https://localhost:8080/"
        },
        "outputId": "3c596420-b38a-4f0d-f5e8-a248e20c2b47"
      },
      "execution_count": 45,
      "outputs": [
        {
          "output_type": "stream",
          "name": "stdout",
          "text": [
            "p\n",
            "y\n",
            "t\n",
            "h\n",
            "o\n",
            "n\n"
          ]
        }
      ]
    },
    {
      "cell_type": "markdown",
      "metadata": {
        "id": "W8hnnQ5dlZES"
      },
      "source": [
        "- #### 중첩\n",
        "  - 반복문 블록의 코드 안에 또 반복문의 코드를 작성가능\n",
        "  - 중첩은 무한히 사용 가능"
      ]
    },
    {
      "cell_type": "code",
      "execution_count": 46,
      "metadata": {
        "id": "YKUQoH8FlZET",
        "colab": {
          "base_uri": "https://localhost:8080/"
        },
        "outputId": "0522c362-c3f2-41b5-ac2d-2c35926bcd1d"
      },
      "outputs": [
        {
          "output_type": "stream",
          "name": "stdout",
          "text": [
            "i: 1, j:1\n",
            "i: 1, j:3\n",
            "i: 1, j:9\n",
            "i: 1, j:5\n",
            "==========\n",
            "i: 3, j:1\n",
            "i: 3, j:3\n",
            "i: 3, j:9\n",
            "i: 3, j:5\n",
            "==========\n",
            "i: 9, j:1\n",
            "i: 9, j:3\n",
            "i: 9, j:9\n",
            "i: 9, j:5\n",
            "==========\n",
            "i: 5, j:1\n",
            "i: 5, j:3\n",
            "i: 5, j:9\n",
            "i: 5, j:5\n",
            "==========\n",
            "end\n"
          ]
        }
      ],
      "source": [
        "# 반복문 1) a 리스트의 첫번째 요소부터 마지막 요소까지 차례로 i변수에 대입해 반복\n",
        "# 반복문 2) a 리스트의 첫번째 요소일 때, a 리스트의 첫번째 요소부터 마지막 요소까지 차례로 j변수에 대입해 명령어 print() 실행\n",
        "#           a 리스트의 두번째 요소일 때, a 리스트의 첫번째 요소부터 마지막 요소까지 차례로 j변수에 대입해 명령어 print() 실행\n",
        "#           .......\n",
        "#           a 리스트의 마지막 요소일 때, a 리스트의 첫번째 요소부터 마지막 요소까지 차례로 j변수에 대입해 명령어 print() 실행\n",
        "a = [1, 3, 9, 5]\n",
        "\n",
        "for i in a:\n",
        "    for j in a:\n",
        "        print(f'i: {i}, j:{j}')\n",
        "    print('='*10)\n",
        "print('end')"
      ]
    },
    {
      "cell_type": "markdown",
      "metadata": {
        "id": "uOXHyIHAlZEy"
      },
      "source": [
        "### 반복문 연습문제"
      ]
    },
    {
      "cell_type": "markdown",
      "metadata": {
        "id": "ud6MVWbHlZEz"
      },
      "source": [
        "- #### 연습문제 1"
      ]
    },
    {
      "cell_type": "code",
      "source": [
        "# myDict 변수에 아래와 같은 딕셔너리 선언\n",
        "# {'name': '자신의 이름', 'hobby': '자신의 취미'}\n"
      ],
      "metadata": {
        "id": "y9WL1wi7oTiZ"
      },
      "execution_count": null,
      "outputs": []
    },
    {
      "cell_type": "code",
      "source": [
        "# 2) 'myDic' 딕셔너리의 key를 변수로 하여 value를 반복문으로 출력\n",
        "# 딕셔너리 안에 있는 키(key)가 변수로 들어감\n",
        "# key 값과 myDictionary[key] 내용을 반복문으로 출력\n"
      ],
      "metadata": {
        "id": "rrBs8sHcqTli"
      },
      "execution_count": null,
      "outputs": []
    },
    {
      "cell_type": "markdown",
      "source": [
        "- #### 연습문제 2"
      ],
      "metadata": {
        "id": "HzdFNklfpriJ"
      }
    },
    {
      "cell_type": "code",
      "execution_count": null,
      "metadata": {
        "id": "HxbFAFMFlZEz"
      },
      "outputs": [],
      "source": [
        "# 구구단을 2-9단까지 출력\n",
        "# 1) for 문 이용\n"
      ]
    },
    {
      "cell_type": "code",
      "execution_count": null,
      "metadata": {
        "id": "GUpqF6yRlZE2"
      },
      "outputs": [],
      "source": [
        "# 2) while 문 이용\n"
      ]
    },
    {
      "cell_type": "markdown",
      "source": [
        "- #### 연습문제 3"
      ],
      "metadata": {
        "id": "dtnRLiAsqx_C"
      }
    },
    {
      "cell_type": "code",
      "source": [
        "# [a1, a2, a3, a4, a5, b1, b2, b3, b4, b5] 배열을 [a1, b1, a2, b2, a3, b3, a4, b4, a5, b5] 와 같은 형태로 바꾸기\n",
        "# [a1, a2, a3, a4, a5, b1, b2, b3, b4, b5]를 myList 변수에 입력\n",
        "# 결과를 저장할 result 변수에 리스트 선언\n",
        "# 반복문으로 인덱스를 이용해 a1과 b1을 result 리스트에 차례로 넣어주고,\n",
        "# a2와 b2를 result 리스트에 차례로 넣어주는 방법으로 a5, b5 까지 차례로 넣어줌\n"
      ],
      "metadata": {
        "id": "Qp4WHnnznw53"
      },
      "execution_count": null,
      "outputs": []
    },
    {
      "cell_type": "markdown",
      "source": [
        "- #### 연습문제 4"
      ],
      "metadata": {
        "id": "4w4RDNiNusy9"
      }
    },
    {
      "cell_type": "code",
      "source": [
        "# 반복문을 이용해 5번 반복하여 사용자에게 학생 이름과 점수를 입력받아 파일에 입력\n",
        "# 파일은 open() 함수로 쓰기 모드로 생성. 파일 이름은 grade.txt\n",
        "# student 변수에 리스트 선언\n",
        "# input() 함수를 이용해 학생 이름을 입력받아 name 변수에 저장. student 리스트에 저장\n",
        "# 학생 이름을 출력해 점수를 입력받아 score 변수에 저장\n",
        "# 파일에 \"학생이름의 점수 : 점수\"를 쓰고, 다음줄에 다음 입력받은 학생이름과 점수를 쓰도록 \\n 사용\n"
      ],
      "metadata": {
        "id": "J2o1cfXvrfuZ"
      },
      "execution_count": null,
      "outputs": []
    }
  ],
  "metadata": {
    "kernelspec": {
      "display_name": "Python 3",
      "language": "python",
      "name": "python3"
    },
    "language_info": {
      "codemirror_mode": {
        "name": "ipython",
        "version": 3
      },
      "file_extension": ".py",
      "mimetype": "text/x-python",
      "name": "python",
      "nbconvert_exporter": "python",
      "pygments_lexer": "ipython3",
      "version": "3.7.6"
    },
    "colab": {
      "provenance": [],
      "toc_visible": true,
      "include_colab_link": true
    }
  },
  "nbformat": 4,
  "nbformat_minor": 0
}