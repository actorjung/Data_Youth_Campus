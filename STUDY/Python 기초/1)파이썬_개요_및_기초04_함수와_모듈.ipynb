{
  "cells": [
    {
      "cell_type": "markdown",
      "metadata": {
        "id": "view-in-github",
        "colab_type": "text"
      },
      "source": [
        "<a href=\"https://colab.research.google.com/github/morateng/2023_Data_Campus/blob/main/1)%ED%8C%8C%EC%9D%B4%EC%8D%AC_%EA%B0%9C%EC%9A%94_%EB%B0%8F_%EA%B8%B0%EC%B4%8804_%ED%95%A8%EC%88%98%EC%99%80_%EB%AA%A8%EB%93%88.ipynb\" target=\"_parent\"><img src=\"https://colab.research.google.com/assets/colab-badge.svg\" alt=\"Open In Colab\"/></a>"
      ]
    },
    {
      "cell_type": "markdown",
      "source": [
        "## 함수와 모듈"
      ],
      "metadata": {
        "id": "lcxTabbIP3Mk"
      }
    },
    {
      "cell_type": "markdown",
      "metadata": {
        "id": "60e-fdauuZKF"
      },
      "source": [
        "### 함수\n",
        "  - 반복적으로 사용되는 기능을 함수로 사용\n",
        "  - 함수는 def 키워드 사용하여 생성\n"
      ]
    },
    {
      "cell_type": "markdown",
      "metadata": {
        "id": "-BFyvoIXuZKK"
      },
      "source": [
        "- #### 내장함수\n",
        "  - python 내부에 정의되어 있는 함수\n",
        "  - len, range, print, type 등 이미 사용했던 함수들이 여기에 속함"
      ]
    },
    {
      "cell_type": "code",
      "execution_count": 1,
      "metadata": {
        "id": "uMT-wDrTuZKK",
        "colab": {
          "base_uri": "https://localhost:8080/"
        },
        "outputId": "f9d943e4-1651-4c2e-eddf-1abf4120d327"
      },
      "outputs": [
        {
          "output_type": "stream",
          "name": "stdout",
          "text": [
            "5\n"
          ]
        }
      ],
      "source": [
        "# len() : 리스트, 튜플 등을 입력으로 전달하면 요소의 개수를 출력으로 전달\n",
        "a = [1, 2, 3, 4, 5]\n",
        "\n",
        "print(len(a))"
      ]
    },
    {
      "cell_type": "code",
      "execution_count": 2,
      "metadata": {
        "id": "QhxGUf7XuZKM",
        "colab": {
          "base_uri": "https://localhost:8080/"
        },
        "outputId": "85cd1bab-dfe8-4228-ac40-1508a04abad6"
      },
      "outputs": [
        {
          "output_type": "stream",
          "name": "stdout",
          "text": [
            "range(0, 5)\n",
            "[0, 1, 2, 3, 4]\n"
          ]
        }
      ],
      "source": [
        "# range() : 정수를 입력으로 전달하면 [0, 정수)로 이루어진 범위를 생성\n",
        "print(range(5))\n",
        "print(list(range(5)))"
      ]
    },
    {
      "cell_type": "markdown",
      "metadata": {
        "id": "sPSkBYDBuZKN"
      },
      "source": [
        "- #### def 키워드"
      ]
    },
    {
      "cell_type": "code",
      "execution_count": 3,
      "metadata": {
        "id": "fX3Yq6fguZKN"
      },
      "outputs": [],
      "source": [
        "# add 함수 정의\n",
        "# 매개변수 x와 y를 입력으로 받기\n",
        "# x + y 코드를 계산하여 result 변수에 결과를 저장해 출력\n",
        "def add(x, y):\n",
        "    result = x + y\n",
        "    return result"
      ]
    },
    {
      "cell_type": "code",
      "execution_count": 4,
      "metadata": {
        "id": "kvXut5VVuZKN",
        "colab": {
          "base_uri": "https://localhost:8080/"
        },
        "outputId": "823ae68c-6a08-4b00-8a7d-e09f99a6bcdc"
      },
      "outputs": [
        {
          "output_type": "stream",
          "name": "stdout",
          "text": [
            "8\n"
          ]
        }
      ],
      "source": [
        "# add 함수를 호출하여 인수로 3과 5 입력\n",
        "# z값에 함수의 결과를 출력하여 저장\n",
        "z = add(3, 5)\n",
        "\n",
        "print(z)"
      ]
    },
    {
      "cell_type": "code",
      "execution_count": 5,
      "metadata": {
        "id": "Ft9PIX5UuZKO",
        "colab": {
          "base_uri": "https://localhost:8080/"
        },
        "outputId": "bc4c15b7-280f-43b0-f2a0-cc2314ce262b"
      },
      "outputs": [
        {
          "output_type": "stream",
          "name": "stdout",
          "text": [
            "pengsoo\n"
          ]
        }
      ],
      "source": [
        "# add 함수를 호출하여 인수로 문자열 \"peng\"과 \"soo\"를 입력\n",
        "print(add('peng', 'soo'))"
      ]
    },
    {
      "cell_type": "code",
      "execution_count": 6,
      "metadata": {
        "id": "9yLs3KoIuZKP"
      },
      "outputs": [],
      "source": [
        "# say_hello 함수 정의\n",
        "# 매개변수 name과 msg를 입력으로 받기\n",
        "# \"hello,\" 와 name, msg 를 출력\n",
        "def say_hello(name, msg):\n",
        "    print('hello', name, msg)"
      ]
    },
    {
      "cell_type": "code",
      "execution_count": 7,
      "metadata": {
        "id": "KyjjRnT_uZKP",
        "colab": {
          "base_uri": "https://localhost:8080/"
        },
        "outputId": "b9f6696b-46d7-46e2-d7a7-d982490c2b76"
      },
      "outputs": [
        {
          "output_type": "stream",
          "name": "stdout",
          "text": [
            "hello Pengsoo Peng-ha\n"
          ]
        }
      ],
      "source": [
        "# say_hello 함수를 호출하여 인수로 문자열 \"Pengsoo\"와 \"Peng-ha\"를 입력\n",
        "say_hello('Pengsoo', 'Peng-ha')"
      ]
    },
    {
      "cell_type": "markdown",
      "metadata": {
        "id": "3q6yWYaWuZKP"
      },
      "source": [
        "- #### 매개변수(parameter)\n",
        "  - 함수에 입력으로 전달된 값을 받는 변수\n",
        "  - 인수 (argument) : 함수를 호출할 때 전달하는 입력값"
      ]
    },
    {
      "cell_type": "code",
      "execution_count": 8,
      "metadata": {
        "id": "PZNQ-rzEuZKQ"
      },
      "outputs": [],
      "source": [
        "# 매개변수가 없는 함수\n",
        "# test 함수 정의\n",
        "def test():\n",
        "    print('hello, Pengsoo')\n",
        "    print('Peng-ha')\n",
        "    return 'bye'"
      ]
    },
    {
      "cell_type": "code",
      "execution_count": 9,
      "metadata": {
        "id": "uUnLfrYeuZKQ",
        "colab": {
          "base_uri": "https://localhost:8080/"
        },
        "outputId": "6c47449c-2b84-470d-ef9a-3a49ac4c315e"
      },
      "outputs": [
        {
          "output_type": "stream",
          "name": "stdout",
          "text": [
            "hello, Pengsoo\n",
            "Peng-ha\n",
            "bye\n"
          ]
        }
      ],
      "source": [
        "# test 함수 호출하여 a 변수에 결과 저장\n",
        "a = test()\n",
        "print(a)"
      ]
    },
    {
      "cell_type": "markdown",
      "metadata": {
        "id": "Dk1vreT7uZKS"
      },
      "source": [
        "- ##### 기본 매개변수 (default parameter)\n",
        "  - 매개변수의 값이 입력되지 않으면 디폴트 값으로 자동 입력\n",
        "  - 매개변수가 여러 개인 경우 뒤의 매개변수부터 디폴트 값을 가질 수 있음"
      ]
    },
    {
      "cell_type": "code",
      "execution_count": 10,
      "metadata": {
        "id": "_1ooliNsuZKS"
      },
      "outputs": [],
      "source": [
        "# add 함수 정의\n",
        "# 매개변수 x와 y, z를 입력으로 받기\n",
        "# x + y + z 코드를 계산하여 출력\n",
        "def add(x, y, z):\n",
        "    result = x+y+z\n",
        "    return result"
      ]
    },
    {
      "cell_type": "code",
      "execution_count": 11,
      "metadata": {
        "id": "ZVqNXg81uZKS",
        "colab": {
          "base_uri": "https://localhost:8080/"
        },
        "outputId": "7ee3e510-a141-4a8b-fb19-4243e8518380"
      },
      "outputs": [
        {
          "output_type": "stream",
          "name": "stdout",
          "text": [
            "60\n"
          ]
        }
      ],
      "source": [
        "# add 함수를 호출하여 인수로 10, 20, 30 입력\n",
        "# a값에 함수의 결과를 출력하여 저장\n",
        "a = add(10, 20, 30)\n",
        "\n",
        "print(a)"
      ]
    },
    {
      "cell_type": "code",
      "execution_count": 12,
      "metadata": {
        "id": "9j3i6AsyuZKS"
      },
      "outputs": [],
      "source": [
        "# z는 디폴트 매개변수로 입력이 없다면 디폴트 값인 50으로 자동 입력\n",
        "def add(x, y, z=50):\n",
        "    result = x + y + z\n",
        "    return result"
      ]
    },
    {
      "cell_type": "code",
      "execution_count": 13,
      "metadata": {
        "id": "K2lKl35zuZKT",
        "colab": {
          "base_uri": "https://localhost:8080/"
        },
        "outputId": "e7e24b3f-7b4a-4c53-96a6-193e5fd53fed"
      },
      "outputs": [
        {
          "output_type": "stream",
          "name": "stdout",
          "text": [
            "80\n"
          ]
        }
      ],
      "source": [
        "# add 함수를 호출하여 인수로 10, 20만 입력\n",
        "# a값에 함수의 결과를 출력하여 저장\n",
        "# z 매개변수에 입력이 없다면 디폴트 값인 50으로 자동 입력\n",
        "a = add(10, 20)\n",
        "\n",
        "print(a)"
      ]
    },
    {
      "cell_type": "code",
      "execution_count": 14,
      "metadata": {
        "id": "RWBH_iSJuZKT"
      },
      "outputs": [],
      "source": [
        "# z는 디폴트 매개변수로 입력이 없다면 디폴트 값인 50으로 자동 입력\n",
        "# y는 디폴트 매개변수로 입력이 없다면 디폴트 값인 100으로 자동 입력\n",
        "def add(x, y = 100, z = 50):\n",
        "    return x + y + z"
      ]
    },
    {
      "cell_type": "code",
      "execution_count": 15,
      "metadata": {
        "id": "k-BfUF4IuZKT",
        "colab": {
          "base_uri": "https://localhost:8080/"
        },
        "outputId": "fab22100-0129-4c8c-be47-8209176f38c6"
      },
      "outputs": [
        {
          "output_type": "stream",
          "name": "stdout",
          "text": [
            "160\n"
          ]
        }
      ],
      "source": [
        "# add 함수를 호출하여 인수로 10, 만 입력\n",
        "# a값에 함수의 결과를 출력하여 저장\n",
        "# z 매개변수에 입력이 없다면 디폴트 값인 50으로 자동 입력\n",
        "# y 매개변수에 입력이 없다면 디폴트 값인 100으로 자동 입력\n",
        "a = add(10)\n",
        "print(a)"
      ]
    },
    {
      "cell_type": "code",
      "execution_count": 16,
      "metadata": {
        "id": "o4iatnpxuZKT",
        "colab": {
          "base_uri": "https://localhost:8080/"
        },
        "outputId": "6c154639-cc02-48f2-b241-0c0824884879"
      },
      "outputs": [
        {
          "output_type": "stream",
          "name": "stdout",
          "text": [
            "6\n"
          ]
        }
      ],
      "source": [
        "# add 함수를 호출하여 인수로 1, 2, 3 입력\n",
        "# x 매개변수에 1이 입력, y 매개변수에 2가 입력, z 매개변수에 3 이 입력\n",
        "print(add(1, 2, 3))"
      ]
    },
    {
      "cell_type": "code",
      "execution_count": 17,
      "metadata": {
        "id": "BEEo-Q4iuZKT",
        "colab": {
          "base_uri": "https://localhost:8080/"
        },
        "outputId": "c086d09f-2739-42eb-a849-046a9fc3dde0"
      },
      "outputs": [
        {
          "output_type": "stream",
          "name": "stdout",
          "text": [
            "1 2 3\n",
            "1,2,3!4 5 6\n"
          ]
        }
      ],
      "source": [
        "# print() : sep, end 등 여러 기본 파라미터를 가짐\n",
        "# sep : 구분자 지정, 기본값은 ' ' (띄어쓰기; 공백)\n",
        "# end : 마지막에 붙는 문자열, 기본값은 줄바꿈 \\n\n",
        "print(1, 2, 3)\n",
        "print(1, 2, 3, sep=',', end = '!')\n",
        "print(4, 5, 6)"
      ]
    },
    {
      "cell_type": "markdown",
      "source": [
        "- ##### 가변 매개변수\n",
        "  - 원하는 만큼의 인자를 받을 수 있는 함수를 가변 매개변수를 사용한다고 표현\n",
        "  - \\* 매개변수 : 가변 매개변수는 매개변수 앞에 *를 붙임\n"
      ],
      "metadata": {
        "id": "-0lu4kw_8gMg"
      }
    },
    {
      "cell_type": "code",
      "metadata": {
        "id": "_pEtWMjAFqrG"
      },
      "source": [
        "# values라는 가변 매개변수\n",
        "# menu 함수를 통해 카페 메뉴 출력\n",
        "# 가변 매개변수는 리스트처럼 사용\n",
        "def menu(*values):\n",
        "    print(\"상명 카페의 메뉴는?\")\n",
        "\n",
        "    for value in values:\n",
        "        print(value)"
      ],
      "execution_count": 18,
      "outputs": []
    },
    {
      "cell_type": "code",
      "metadata": {
        "id": "KCbznyRYHPTH",
        "colab": {
          "base_uri": "https://localhost:8080/"
        },
        "outputId": "b66e6fd7-6e10-4576-c877-849706bd8ec2"
      },
      "source": [
        "# 정의한 menu 함수 호출\n",
        "# 인수로 4가지 메뉴 입력\n",
        "menu('아메리카노', '카페모카', '버블티')"
      ],
      "execution_count": 19,
      "outputs": [
        {
          "output_type": "stream",
          "name": "stdout",
          "text": [
            "상명 카페의 메뉴는?\n",
            "아메리카노\n",
            "카페모카\n",
            "버블티\n"
          ]
        }
      ]
    },
    {
      "cell_type": "markdown",
      "source": [
        "- ##### 키워드 매개변수\n",
        "  - 매개변수의 이름을 지정해서 입력하여 함수 호출\n",
        "  - 키워드 매개변수를 넘겨줄 때 매개변수의 순서와 상관없이 나열 가능"
      ],
      "metadata": {
        "id": "BiJgXYTn_8YZ"
      }
    },
    {
      "cell_type": "code",
      "metadata": {
        "id": "V6M_6zFWK0DN"
      },
      "source": [
        "# add 함수 정의\n",
        "# 매개변수 x와 y, 그리고 z는 디폴트 매개변수\n",
        "# x + y + z 코드를 계산하여 출력\n",
        "def add(x=1, y=2, z=3):\n",
        "    return x+y+z"
      ],
      "execution_count": 20,
      "outputs": []
    },
    {
      "cell_type": "code",
      "metadata": {
        "id": "6f32eUcELME0",
        "colab": {
          "base_uri": "https://localhost:8080/"
        },
        "outputId": "16c33bde-7150-433d-b070-c740d326b47f"
      },
      "source": [
        "# 키워드 매개변수를 사용하여 add 함수 호출\n",
        "# 키워드 매개변수를 넘겨줄 때 매개변수의 순서와 상관없이 나열 가능\n",
        "# 키워드 매개변수는 x, y, z\n",
        "add(y=5, x=1, z=5)"
      ],
      "execution_count": 21,
      "outputs": [
        {
          "output_type": "execute_result",
          "data": {
            "text/plain": [
              "11"
            ]
          },
          "metadata": {},
          "execution_count": 21
        }
      ]
    },
    {
      "cell_type": "markdown",
      "metadata": {
        "id": "GggC3VshuZKb"
      },
      "source": [
        "- #### return\n",
        "  - 함수를 호출한 곳으로 결과 값 반환"
      ]
    },
    {
      "cell_type": "markdown",
      "metadata": {
        "id": "USiH9spQZTwl"
      },
      "source": [
        "- ##### 한 개의 리턴 값"
      ]
    },
    {
      "cell_type": "code",
      "metadata": {
        "id": "sWjFm_cdYndV",
        "colab": {
          "base_uri": "https://localhost:8080/"
        },
        "outputId": "a2ae3e6b-e340-4fe5-e801-e9affc04046e"
      },
      "source": [
        "# returnTest 함수 정의하고 함수를 호출하여 return 값 확인\n",
        "def returnTest():\n",
        "    return '반환 값'\n",
        "\n",
        "value = returnTest()\n",
        "print(value)"
      ],
      "execution_count": 22,
      "outputs": [
        {
          "output_type": "stream",
          "name": "stdout",
          "text": [
            "반환 값\n"
          ]
        }
      ]
    },
    {
      "cell_type": "markdown",
      "metadata": {
        "id": "hMuOvt89Zd0d"
      },
      "source": [
        "- ##### 두 개의 리턴 값"
      ]
    },
    {
      "cell_type": "code",
      "metadata": {
        "id": "9ELWE_8KZurU",
        "colab": {
          "base_uri": "https://localhost:8080/"
        },
        "outputId": "42e8e1a0-120f-430a-d129-1e671a7b6f67"
      },
      "source": [
        "# returnTest 함수 정의하고 함수를 호출하여 return 값 확인\n",
        "# 반환되는 두 개의 값을 차례대로 value1, value2에 저장하여 출력\n",
        "def returnTest():\n",
        "    a = 3\n",
        "    b = 4\n",
        "    return a, b\n",
        "\n",
        "value1, value2 = returnTest()\n",
        "print(value1, value2)"
      ],
      "execution_count": 23,
      "outputs": [
        {
          "output_type": "stream",
          "name": "stdout",
          "text": [
            "3 4\n"
          ]
        }
      ]
    },
    {
      "cell_type": "markdown",
      "source": [
        "- ##### 리턴 값이 없는 경우"
      ],
      "metadata": {
        "id": "f-LmCP95FMzl"
      }
    },
    {
      "cell_type": "code",
      "execution_count": 24,
      "metadata": {
        "id": "orod5kDpuZKe"
      },
      "outputs": [],
      "source": [
        "# return 만 존재하면 None 반환\n",
        "# func 함수 정의하고 함수를 호출하여 return 값 확인\n",
        "def func(x, y):\n",
        "    if x > 50:\n",
        "        return x + y\n",
        "\n",
        "    return"
      ]
    },
    {
      "cell_type": "code",
      "execution_count": 25,
      "metadata": {
        "id": "i71S6-FSuZKe",
        "colab": {
          "base_uri": "https://localhost:8080/"
        },
        "outputId": "79eb6cdb-1ea1-443d-b0f0-f58411a5d2f9"
      },
      "outputs": [
        {
          "output_type": "stream",
          "name": "stdout",
          "text": [
            "None\n"
          ]
        }
      ],
      "source": [
        "print(func(10, 20))"
      ]
    },
    {
      "cell_type": "code",
      "execution_count": 26,
      "metadata": {
        "id": "ylNLl6QbuZKf",
        "colab": {
          "base_uri": "https://localhost:8080/"
        },
        "outputId": "0398a30c-9416-4361-9957-0f68434c140a"
      },
      "outputs": [
        {
          "output_type": "stream",
          "name": "stdout",
          "text": [
            "120\n"
          ]
        }
      ],
      "source": [
        "print(func(100, 20))"
      ]
    },
    {
      "cell_type": "code",
      "execution_count": 27,
      "metadata": {
        "id": "t5ElAjSeuZKf"
      },
      "outputs": [],
      "source": [
        "# return이 없는 경우, 기본적으로 함수 코드 블록이 종료되면 종료로 간주. 이때도 None 반환\n",
        "def func(x, y):\n",
        "    if x > 50:\n",
        "        return x + y"
      ]
    },
    {
      "cell_type": "code",
      "execution_count": 28,
      "metadata": {
        "id": "UzcOD6WuuZKg"
      },
      "outputs": [],
      "source": [
        "func(10, 20)"
      ]
    },
    {
      "cell_type": "code",
      "execution_count": 29,
      "metadata": {
        "id": "m8eikD-NuZKf",
        "colab": {
          "base_uri": "https://localhost:8080/"
        },
        "outputId": "680e9fab-4528-4d77-f0f0-97fba561ab72"
      },
      "outputs": [
        {
          "output_type": "stream",
          "name": "stdout",
          "text": [
            "None\n"
          ]
        }
      ],
      "source": [
        "print(func(10, 20))"
      ]
    },
    {
      "cell_type": "markdown",
      "metadata": {
        "id": "q1LAyzYPuZKj"
      },
      "source": [
        "- #### lamda 함수\n",
        "  - 코드 상에서 한번만 사용되는 기능이 있을 때, 굳이 함수로 만들지 않고 1회성으로 만들어서 쓸 때 사용"
      ]
    },
    {
      "cell_type": "code",
      "execution_count": 30,
      "metadata": {
        "id": "4yC82vchuZKj"
      },
      "outputs": [],
      "source": [
        "# add 함수 정의\n",
        "def add(x, y):\n",
        "    return x + y"
      ]
    },
    {
      "cell_type": "code",
      "execution_count": 31,
      "metadata": {
        "id": "gGZOkdyYuZKk",
        "colab": {
          "base_uri": "https://localhost:8080/"
        },
        "outputId": "52f11640-66f6-4cee-dbeb-20a38480b02c"
      },
      "outputs": [
        {
          "output_type": "execute_result",
          "data": {
            "text/plain": [
              "30"
            ]
          },
          "metadata": {},
          "execution_count": 31
        }
      ],
      "source": [
        "add(10, 20)"
      ]
    },
    {
      "cell_type": "code",
      "execution_count": 32,
      "metadata": {
        "id": "-yKuNFuiuZKk",
        "colab": {
          "base_uri": "https://localhost:8080/"
        },
        "outputId": "a67c2c90-8c1e-4102-8c49-f91708ceea01"
      },
      "outputs": [
        {
          "output_type": "execute_result",
          "data": {
            "text/plain": [
              "function"
            ]
          },
          "metadata": {},
          "execution_count": 32
        }
      ],
      "source": [
        "# lambda 함수로 add 함수 정의\n",
        "add2 = lambda x, y : x + y\n",
        "\n",
        "type(add2)"
      ]
    },
    {
      "cell_type": "code",
      "execution_count": 33,
      "metadata": {
        "id": "bolYWy_0uZKk",
        "colab": {
          "base_uri": "https://localhost:8080/"
        },
        "outputId": "d3e94837-ad3d-4e84-8fcd-53a15b140749"
      },
      "outputs": [
        {
          "output_type": "execute_result",
          "data": {
            "text/plain": [
              "3"
            ]
          },
          "metadata": {},
          "execution_count": 33
        }
      ],
      "source": [
        "add2(1, 2)"
      ]
    },
    {
      "cell_type": "markdown",
      "metadata": {
        "id": "bxd6uzoIuZKk"
      },
      "source": [
        "### 함수 연습문제"
      ]
    },
    {
      "cell_type": "markdown",
      "source": [
        "- #### 연습문제 1\n",
        "\n",
        "* 디폴트 매개변수\n",
        "\n"
      ],
      "metadata": {
        "id": "sIsOVUzT-pyv"
      }
    },
    {
      "cell_type": "code",
      "source": [
        "# 1) multiplication 함수 정의\n",
        "#    - 매개변수 a, b 중에서 b는 2로 디폴트 매개변수로 정의\n",
        "#    - a * b로 계산하여 출력\n"
      ],
      "metadata": {
        "id": "zt1BQIUoHHGJ"
      },
      "execution_count": null,
      "outputs": []
    },
    {
      "cell_type": "code",
      "source": [
        "# 2) multiplication 함수를 호출하여 인수로 3과 6 입력하여 c 변수에 저장하여 출력\n",
        "# b 매개변수에 값을 입력하면 a=3, b=6 그대로 입력되어 함수 결과 추출\n"
      ],
      "metadata": {
        "id": "pKPptuG9IFrY"
      },
      "execution_count": null,
      "outputs": []
    },
    {
      "cell_type": "code",
      "source": [
        "# 3) multiplication 함수를 호출하여 인수로 3 입력하여 c 변수에 저장하여 출력\n",
        "# b 매개변수에 입력이 없다면 디폴트 값으로 b=2 자동 입력되어 함수 결과 추출\n"
      ],
      "metadata": {
        "id": "LMVwUgH2IvP3"
      },
      "execution_count": null,
      "outputs": []
    },
    {
      "cell_type": "markdown",
      "source": [
        "- #### 연습문제 2\n",
        "\n",
        "* 가변 매개변수\n",
        "\n"
      ],
      "metadata": {
        "id": "HsnfRKMSJBZF"
      }
    },
    {
      "cell_type": "code",
      "source": [
        "# 1) 바구니에 든 과일을 출력하는 basket 함수 정의\n",
        "#    - fruits는 가변 매개변수명\n",
        "#    - 함수의 첫 줄은 \"바구니에 든 과일은? \" 문자열 출력\n",
        "#    - fruits 매개변수에 값으로 가져온 인수들을 하나씩 출력하는 반복문 구현\n",
        "\n",
        "# 가변 매개변수\n",
        "#   - 원하는 만큼의 인자를 받을 수 있는 함수를 가변 매개변수를 사용한다고 표현\n",
        "#   - *매개변수 : 가변 매개변수는 매개변수 앞에 *를 붙임\n",
        "#   - 리스트처럼 사용 가능\n"
      ],
      "metadata": {
        "id": "s4dcCMYNJGBl"
      },
      "execution_count": null,
      "outputs": []
    },
    {
      "cell_type": "code",
      "source": [
        "# 2) basket 함수 호출\n",
        "#    - 인수로 'apple', 'strawberry', 'melon' 입력\n"
      ],
      "metadata": {
        "id": "XcWoTBITLsCR"
      },
      "execution_count": null,
      "outputs": []
    },
    {
      "cell_type": "markdown",
      "source": [
        "- #### 연습문제 3\n"
      ],
      "metadata": {
        "id": "hVcFePK0MH1l"
      }
    },
    {
      "cell_type": "code",
      "source": [
        "# 1) multiplication 함수 정의\n",
        "#    - 매개변수 a, b, c는 각각 1, 2, 3 값을 디폴트 매개변수 설정\n",
        "#    - a * b * c로 계산하여 출력\n"
      ],
      "metadata": {
        "id": "qQrmg0hNMMuz"
      },
      "execution_count": null,
      "outputs": []
    },
    {
      "cell_type": "code",
      "source": [
        "# 2) b=5, a=3, c=2 순서로 키워드 매개변수 특징을 이용하여 multiplication 함수 호출\n",
        "# 키워드 매개변수\n",
        "#   - 매개변수의 이름을 지정해서 입력하여 함수 호출\n",
        "#   - 키워드 매개변수를 넘겨줄 때 매개변수의 순서와 상관없이 나열 가능\n"
      ],
      "metadata": {
        "id": "FXWfJ7DfMqmx"
      },
      "execution_count": null,
      "outputs": []
    },
    {
      "cell_type": "markdown",
      "metadata": {
        "id": "-q3YMvxCuZK6"
      },
      "source": [
        "### 모듈"
      ]
    },
    {
      "cell_type": "markdown",
      "metadata": {
        "id": "A41GIHYauZK6"
      },
      "source": [
        "- #### import\n",
        "  - import는 모듈 전체를 가져올 때 사용"
      ]
    },
    {
      "cell_type": "code",
      "execution_count": 34,
      "metadata": {
        "id": "zJqDiUEquZK6"
      },
      "outputs": [],
      "source": [
        "# 파이썬 math 모듈은 수학 함수가 담겨있음\n",
        "import math"
      ]
    },
    {
      "cell_type": "code",
      "execution_count": 35,
      "metadata": {
        "id": "DFnrAZWjuZK7",
        "colab": {
          "base_uri": "https://localhost:8080/"
        },
        "outputId": "5f4f1c8d-fa49-42c9-edfa-8a3f95060aa7"
      },
      "outputs": [
        {
          "output_type": "execute_result",
          "data": {
            "text/plain": [
              "3.141592653589793"
            ]
          },
          "metadata": {},
          "execution_count": 35
        }
      ],
      "source": [
        "# 모듈을 사용할 때는 모듈 뒤에 도트(.) 입력하고 원하는 변수나 함수를 입력\n",
        "math.pi"
      ]
    },
    {
      "cell_type": "code",
      "execution_count": 36,
      "metadata": {
        "id": "e9kRr-oquZK7",
        "colab": {
          "base_uri": "https://localhost:8080/"
        },
        "outputId": "f3941b13-cbe2-4e57-a9c9-1663258cefff"
      },
      "outputs": [
        {
          "output_type": "execute_result",
          "data": {
            "text/plain": [
              "2.718281828459045"
            ]
          },
          "metadata": {},
          "execution_count": 36
        }
      ],
      "source": [
        "math.e"
      ]
    },
    {
      "cell_type": "markdown",
      "metadata": {
        "id": "ANZsZcWquZK8"
      },
      "source": [
        "- #### from import"
      ]
    },
    {
      "cell_type": "code",
      "execution_count": 37,
      "metadata": {
        "id": "HXwtnXCNuZK8"
      },
      "outputs": [],
      "source": [
        "from math import pi"
      ]
    },
    {
      "cell_type": "code",
      "execution_count": 38,
      "metadata": {
        "id": "5FfsMoeLuZK8",
        "colab": {
          "base_uri": "https://localhost:8080/"
        },
        "outputId": "85226136-7d87-43ce-94b1-ef3ea46b483a"
      },
      "outputs": [
        {
          "output_type": "execute_result",
          "data": {
            "text/plain": [
              "3.141592653589793"
            ]
          },
          "metadata": {},
          "execution_count": 38
        }
      ],
      "source": [
        "pi"
      ]
    },
    {
      "cell_type": "code",
      "source": [
        "# floor(내림), ceil(올림) 함수만 선택\n",
        "# 모듈을 사용할 때는 원하는 변수나 함수만 입력\n",
        "from math import floor, ceil\n",
        "\n",
        "print(floor(1.2))\n",
        "print(ceil(1.2))"
      ],
      "metadata": {
        "id": "AKJB_CP1MQyc",
        "colab": {
          "base_uri": "https://localhost:8080/"
        },
        "outputId": "503dadc7-2187-439f-f1ae-c4ca546c8459"
      },
      "execution_count": 42,
      "outputs": [
        {
          "output_type": "stream",
          "name": "stdout",
          "text": [
            "1\n",
            "2\n"
          ]
        }
      ]
    },
    {
      "cell_type": "markdown",
      "metadata": {
        "id": "1trKkX7PuZK9"
      },
      "source": [
        "- #### import as"
      ]
    },
    {
      "cell_type": "code",
      "execution_count": 39,
      "metadata": {
        "id": "iD0x26zAuZK9"
      },
      "outputs": [],
      "source": [
        "# 모듈을 사용할 때는 모듈 별칭 뒤에 도트(.) 입력하고 원하는 변수나 함수를 입력\n",
        "import math as m"
      ]
    },
    {
      "cell_type": "code",
      "execution_count": 40,
      "metadata": {
        "id": "7c0h3XlZuZK9",
        "colab": {
          "base_uri": "https://localhost:8080/"
        },
        "outputId": "fc9a2b2d-021b-4cb0-add8-6d85bc000131"
      },
      "outputs": [
        {
          "output_type": "execute_result",
          "data": {
            "text/plain": [
              "3.141592653589793"
            ]
          },
          "metadata": {},
          "execution_count": 40
        }
      ],
      "source": [
        "m.pi"
      ]
    },
    {
      "cell_type": "code",
      "source": [
        "m.e"
      ],
      "metadata": {
        "id": "ymUKJaY1NPCK",
        "colab": {
          "base_uri": "https://localhost:8080/"
        },
        "outputId": "aff6148b-396e-44b2-a311-c1f4d478774e"
      },
      "execution_count": 41,
      "outputs": [
        {
          "output_type": "execute_result",
          "data": {
            "text/plain": [
              "2.718281828459045"
            ]
          },
          "metadata": {},
          "execution_count": 41
        }
      ]
    },
    {
      "cell_type": "markdown",
      "metadata": {
        "id": "ynCwVUYFuZK-"
      },
      "source": [
        "- #### dir()"
      ]
    },
    {
      "cell_type": "code",
      "execution_count": 43,
      "metadata": {
        "id": "53ejGidvuZK-",
        "colab": {
          "base_uri": "https://localhost:8080/"
        },
        "outputId": "9550a093-136f-4f70-fc4f-5c94ab2f89b5"
      },
      "outputs": [
        {
          "output_type": "execute_result",
          "data": {
            "text/plain": [
              "['__doc__',\n",
              " '__loader__',\n",
              " '__name__',\n",
              " '__package__',\n",
              " '__spec__',\n",
              " 'acos',\n",
              " 'acosh',\n",
              " 'asin',\n",
              " 'asinh',\n",
              " 'atan',\n",
              " 'atan2',\n",
              " 'atanh',\n",
              " 'ceil',\n",
              " 'comb',\n",
              " 'copysign',\n",
              " 'cos',\n",
              " 'cosh',\n",
              " 'degrees',\n",
              " 'dist',\n",
              " 'e',\n",
              " 'erf',\n",
              " 'erfc',\n",
              " 'exp',\n",
              " 'expm1',\n",
              " 'fabs',\n",
              " 'factorial',\n",
              " 'floor',\n",
              " 'fmod',\n",
              " 'frexp',\n",
              " 'fsum',\n",
              " 'gamma',\n",
              " 'gcd',\n",
              " 'hypot',\n",
              " 'inf',\n",
              " 'isclose',\n",
              " 'isfinite',\n",
              " 'isinf',\n",
              " 'isnan',\n",
              " 'isqrt',\n",
              " 'lcm',\n",
              " 'ldexp',\n",
              " 'lgamma',\n",
              " 'log',\n",
              " 'log10',\n",
              " 'log1p',\n",
              " 'log2',\n",
              " 'modf',\n",
              " 'nan',\n",
              " 'nextafter',\n",
              " 'perm',\n",
              " 'pi',\n",
              " 'pow',\n",
              " 'prod',\n",
              " 'radians',\n",
              " 'remainder',\n",
              " 'sin',\n",
              " 'sinh',\n",
              " 'sqrt',\n",
              " 'tan',\n",
              " 'tanh',\n",
              " 'tau',\n",
              " 'trunc',\n",
              " 'ulp']"
            ]
          },
          "metadata": {},
          "execution_count": 43
        }
      ],
      "source": [
        "dir(math)"
      ]
    },
    {
      "cell_type": "markdown",
      "source": [
        "- #### 모듈 사용"
      ],
      "metadata": {
        "id": "7Fe7rtkAfp5e"
      }
    },
    {
      "cell_type": "code",
      "source": [
        "# sys : 파이썬에 대한 정보를 갖는 모듈\n",
        "# 파이썬 버전, 모듈 목록, 위치 등 확인 가능\n",
        "import sys\n",
        "\n",
        "print(sys.version)"
      ],
      "metadata": {
        "id": "3-bnNIGrfoOn",
        "colab": {
          "base_uri": "https://localhost:8080/"
        },
        "outputId": "e1119118-a1e2-4b6d-8632-ee84405f71a9"
      },
      "execution_count": 44,
      "outputs": [
        {
          "output_type": "stream",
          "name": "stdout",
          "text": [
            "3.10.12 (main, Jun  7 2023, 12:45:35) [GCC 9.4.0]\n"
          ]
        }
      ]
    },
    {
      "cell_type": "code",
      "source": [
        "sys.modules"
      ],
      "metadata": {
        "id": "aAWfPiaqf29v"
      },
      "execution_count": null,
      "outputs": []
    },
    {
      "cell_type": "code",
      "source": [
        "sys.path"
      ],
      "metadata": {
        "id": "T3QDaiAOgBxY",
        "colab": {
          "base_uri": "https://localhost:8080/"
        },
        "outputId": "5d1310b5-c2f9-4a76-bd6e-ed02e8e1a589"
      },
      "execution_count": 46,
      "outputs": [
        {
          "output_type": "execute_result",
          "data": {
            "text/plain": [
              "['/content',\n",
              " '/env/python',\n",
              " '/usr/lib/python310.zip',\n",
              " '/usr/lib/python3.10',\n",
              " '/usr/lib/python3.10/lib-dynload',\n",
              " '',\n",
              " '/usr/local/lib/python3.10/dist-packages',\n",
              " '/usr/lib/python3/dist-packages',\n",
              " '/usr/local/lib/python3.10/dist-packages/IPython/extensions',\n",
              " '/root/.ipython']"
            ]
          },
          "metadata": {},
          "execution_count": 46
        }
      ]
    },
    {
      "cell_type": "code",
      "source": [
        "# keyword : 파이썬 언어의 키워드 정보 확인\n",
        "# kwlist를 이용하면 모든 키워드 리스트 출력\n",
        "import keyword\n",
        "\n",
        "print(keyword.kwlist)"
      ],
      "metadata": {
        "id": "j2Po4BLbgSq6",
        "colab": {
          "base_uri": "https://localhost:8080/"
        },
        "outputId": "3ce3fd3b-f8f3-4857-c6a0-3b4a00cd4114"
      },
      "execution_count": 47,
      "outputs": [
        {
          "output_type": "stream",
          "name": "stdout",
          "text": [
            "['False', 'None', 'True', 'and', 'as', 'assert', 'async', 'await', 'break', 'class', 'continue', 'def', 'del', 'elif', 'else', 'except', 'finally', 'for', 'from', 'global', 'if', 'import', 'in', 'is', 'lambda', 'nonlocal', 'not', 'or', 'pass', 'raise', 'return', 'try', 'while', 'with', 'yield']\n"
          ]
        }
      ]
    },
    {
      "cell_type": "code",
      "source": [
        "# random : 난수 발생 모듈\n",
        "# randint(a, b) : a 이상 b이하의 범위 내 랜덤정수를 반환(b를 포함)\n",
        "import random\n",
        "\n",
        "print(random.randint(1, 10))"
      ],
      "metadata": {
        "id": "KC-4PZ1qgmaV",
        "colab": {
          "base_uri": "https://localhost:8080/"
        },
        "outputId": "28b67d12-78a3-4f97-a27e-f501629186d0"
      },
      "execution_count": 49,
      "outputs": [
        {
          "output_type": "stream",
          "name": "stdout",
          "text": [
            "8\n"
          ]
        }
      ]
    },
    {
      "cell_type": "markdown",
      "metadata": {
        "id": "4OGEUk4LuZK_"
      },
      "source": [
        "- #### 모듈 만들기\n",
        "  - module_test.py\n",
        "    - ```\n",
        "def calc(x, y):\n",
        "        add = x + y\n",
        "        sub = x - y\n",
        "        mult = x * y\n",
        "        div = x/y\n",
        "        return add, sub, mult, div\n",
        "```\n",
        "\n",
        "  - main.py\n",
        "    - ```\n",
        "import module_test\n",
        "result = module_test.calc(10, 100)\n",
        "print(result)\n",
        "```"
      ]
    },
    {
      "cell_type": "code",
      "source": [],
      "metadata": {
        "id": "4uDBqVY0f7pV"
      },
      "execution_count": null,
      "outputs": []
    },
    {
      "cell_type": "code",
      "execution_count": null,
      "metadata": {
        "id": "deafazIXuZK_"
      },
      "outputs": [],
      "source": []
    },
    {
      "cell_type": "code",
      "source": [],
      "metadata": {
        "id": "zvG3C_LzYWNZ"
      },
      "execution_count": null,
      "outputs": []
    },
    {
      "cell_type": "markdown",
      "source": [
        "- #### 모듈 실행\n",
        "  - ! python 키워드 사용\n",
        "  - py 파일이 있는 경로 입력"
      ],
      "metadata": {
        "id": "qMF_nXj8XFSj"
      }
    },
    {
      "cell_type": "code",
      "execution_count": null,
      "metadata": {
        "id": "82W4VmlSuZLA"
      },
      "outputs": [],
      "source": [
        "# main.py 파일 실행\n",
        "# 10과 100의 사칙연산 결과 출력\n"
      ]
    },
    {
      "cell_type": "markdown",
      "source": [
        "### 모듈 연습문제"
      ],
      "metadata": {
        "id": "c-9pibIqbUAK"
      }
    },
    {
      "cell_type": "markdown",
      "source": [
        "- #### 연습문제 1"
      ],
      "metadata": {
        "id": "-vm1KyqMbYcW"
      }
    },
    {
      "cell_type": "code",
      "source": [
        "# 1) math 모듈에서 factorial을 import 사용하여 3! 출력\n",
        "# import는 모듈 전체를 가져올 때 사용\n",
        "# 모듈을 사용할 때는 모듈 뒤에 도트(.) 입력하고 원하는 변수나 함수를 입력\n",
        "# 파이썬 math 모듈은 수학 함수가 담겨있음\n"
      ],
      "metadata": {
        "id": "vHkuDBIycR7H"
      },
      "execution_count": null,
      "outputs": []
    },
    {
      "cell_type": "code",
      "source": [
        "# 2) math 모듈에서 factorial을 import와 from 사용하여 3! 출력\n",
        "# from은 모듈 내에서 필요한 것만 골라서 가져올 때 사용\n",
        "# 모듈을 사용할 때는 원하는 변수나 함수만 입력\n",
        "# 파이썬 math 모듈은 수학 함수가 담겨있음\n"
      ],
      "metadata": {
        "id": "uvgR2N1Cd2l-"
      },
      "execution_count": null,
      "outputs": []
    },
    {
      "cell_type": "markdown",
      "source": [
        "- #### 연습문제 2\n",
        "  - 모듈 생성\n",
        "\n"
      ],
      "metadata": {
        "id": "T8CEH-BsXFv8"
      }
    },
    {
      "cell_type": "markdown",
      "source": [
        "- ##### 폴더 만들기\n",
        "  - 구글 코랩의 왼쪽에서 파일 이모티콘 눌러서 새폴더 만들기\n",
        "  - 'moduleFolder' 이름의 새폴더 생성"
      ],
      "metadata": {
        "id": "aSOKT6eNX5IT"
      }
    },
    {
      "cell_type": "markdown",
      "source": [
        "- ##### 모듈.py 파일 만들기\n",
        "  - moduleFolder 폴더 안에 새파일 만들기\n",
        "  - 'moduleEx.py' 이름의 새파일 생성\n",
        "  - 'moduleEx.py' 파일 안에 코드 추가\n",
        "    - multiplication( ) 함수 구현\n",
        "    - ```\n",
        "  def multiplication(x, y, z):\n",
        "          return x * y * z\n",
        "```"
      ],
      "metadata": {
        "id": "HAJ3Ds3vYb04"
      }
    },
    {
      "cell_type": "markdown",
      "source": [
        "- ##### 메인.py 파일 만들기\n",
        "  - moduleFolder 폴더 안에 새파일 만들기\n",
        "  - 'main.py' 이름의 새파일 생성\n",
        "  - 'main.py' 파일 안에 코드 추가\n",
        "    - 'moduleEx' 모듈 불러오기\n",
        "    - result 변수에 moduleEx에서 구현한 multiplication 함수 불러오기\n",
        "    - result 출력\n",
        "    - ```\n",
        "import moduleEx\n",
        "result = moduleEx.multiplication(1, 2, 3)\n",
        "print(result)\n",
        "```\n",
        "\n"
      ],
      "metadata": {
        "id": "coS8ZhzoZXRP"
      }
    },
    {
      "cell_type": "markdown",
      "source": [
        "- ##### 구글 코랩 노트북에서 메인.py 파일 실행\n",
        "  - ! python 키워드 사용\n",
        "  - .py 파일이 있는 경로 입력"
      ],
      "metadata": {
        "id": "pSk83HM2aVfJ"
      }
    },
    {
      "cell_type": "code",
      "source": [
        "# main.py 파일 실행\n",
        "# 1 * 2 * 3의 결과 값인 6 출력\n"
      ],
      "metadata": {
        "id": "mYtsMB2TagRD"
      },
      "execution_count": null,
      "outputs": []
    }
  ],
  "metadata": {
    "kernelspec": {
      "display_name": "Python 3",
      "language": "python",
      "name": "python3"
    },
    "language_info": {
      "codemirror_mode": {
        "name": "ipython",
        "version": 3
      },
      "file_extension": ".py",
      "mimetype": "text/x-python",
      "name": "python",
      "nbconvert_exporter": "python",
      "pygments_lexer": "ipython3",
      "version": "3.7.6"
    },
    "colab": {
      "provenance": [],
      "include_colab_link": true
    }
  },
  "nbformat": 4,
  "nbformat_minor": 0
}