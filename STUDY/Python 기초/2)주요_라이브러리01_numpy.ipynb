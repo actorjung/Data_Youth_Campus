{
  "cells": [
    {
      "cell_type": "markdown",
      "metadata": {
        "id": "view-in-github",
        "colab_type": "text"
      },
      "source": [
        "<a href=\"https://colab.research.google.com/github/morateng/2023_Data_Campus/blob/main/2)%EC%A3%BC%EC%9A%94_%EB%9D%BC%EC%9D%B4%EB%B8%8C%EB%9F%AC%EB%A6%AC01_numpy.ipynb\" target=\"_parent\"><img src=\"https://colab.research.google.com/assets/colab-badge.svg\" alt=\"Open In Colab\"/></a>"
      ]
    },
    {
      "cell_type": "markdown",
      "metadata": {
        "id": "oljPqsBulkqc"
      },
      "source": [
        "## NumPy"
      ]
    },
    {
      "cell_type": "code",
      "execution_count": 1,
      "metadata": {
        "id": "vthlkkrElkqg"
      },
      "outputs": [],
      "source": [
        "import numpy as np"
      ]
    },
    {
      "cell_type": "markdown",
      "metadata": {
        "id": "1C3lqZWKlkqh"
      },
      "source": [
        "- ### ndarray 생성(1)"
      ]
    },
    {
      "cell_type": "markdown",
      "metadata": {
        "id": "5RSeCsdBlkqh"
      },
      "source": [
        "- #### np.array() 함수"
      ]
    },
    {
      "cell_type": "code",
      "execution_count": 3,
      "metadata": {
        "id": "RjCgsFgQlkqi",
        "colab": {
          "base_uri": "https://localhost:8080/"
        },
        "outputId": "c9789301-64be-4771-eafb-6c9f3d7626bb"
      },
      "outputs": [
        {
          "output_type": "stream",
          "name": "stdout",
          "text": [
            "[1 2 3 4]\n",
            "[[1 3 5]\n",
            " [2 4 6]]\n"
          ]
        },
        {
          "output_type": "execute_result",
          "data": {
            "text/plain": [
              "(numpy.ndarray, (2, 3), dtype('int64'))"
            ]
          },
          "metadata": {},
          "execution_count": 3
        }
      ],
      "source": [
        "x = np.array([1, 2, 3, 4])\n",
        "print(x)\n",
        "\n",
        "y = np.array([[1, 3, 5], [2, 4, 6]])\n",
        "print(y)\n",
        "\n",
        "type(y), y.shape, y.dtype"
      ]
    },
    {
      "cell_type": "markdown",
      "metadata": {
        "id": "LINoY-4nlkqi"
      },
      "source": [
        "- #### np.arange() 함수"
      ]
    },
    {
      "cell_type": "code",
      "execution_count": 4,
      "metadata": {
        "id": "8lSWtNz7lkqi",
        "colab": {
          "base_uri": "https://localhost:8080/"
        },
        "outputId": "44d78223-1ebf-4310-b064-76364cc0b0c7"
      },
      "outputs": [
        {
          "output_type": "execute_result",
          "data": {
            "text/plain": [
              "array([0, 1, 2, 3, 4, 5, 6, 7, 8, 9])"
            ]
          },
          "metadata": {},
          "execution_count": 4
        }
      ],
      "source": [
        "np.arange(10)"
      ]
    },
    {
      "cell_type": "markdown",
      "metadata": {
        "id": "dKdNwhJNlkqj"
      },
      "source": [
        "- #### np.ones() 함수\n",
        "- #### np.zeros() 함수"
      ]
    },
    {
      "cell_type": "code",
      "execution_count": 6,
      "metadata": {
        "id": "Ldifz1Uklkqj",
        "colab": {
          "base_uri": "https://localhost:8080/"
        },
        "outputId": "76956ebd-7340-442b-edcc-69b018eec551"
      },
      "outputs": [
        {
          "output_type": "execute_result",
          "data": {
            "text/plain": [
              "array([[1., 1., 1., 1., 1.],\n",
              "       [1., 1., 1., 1., 1.],\n",
              "       [1., 1., 1., 1., 1.],\n",
              "       [1., 1., 1., 1., 1.]])"
            ]
          },
          "metadata": {},
          "execution_count": 6
        }
      ],
      "source": [
        "np.ones((4, 5))"
      ]
    },
    {
      "cell_type": "code",
      "source": [
        "np.zeros((2, 3, 4, 5))"
      ],
      "metadata": {
        "colab": {
          "base_uri": "https://localhost:8080/"
        },
        "id": "iV4KKu1fteM2",
        "outputId": "123ed25f-1e42-4460-98d7-3a2dc348fff2"
      },
      "execution_count": 7,
      "outputs": [
        {
          "output_type": "execute_result",
          "data": {
            "text/plain": [
              "array([[[[0., 0., 0., 0., 0.],\n",
              "         [0., 0., 0., 0., 0.],\n",
              "         [0., 0., 0., 0., 0.],\n",
              "         [0., 0., 0., 0., 0.]],\n",
              "\n",
              "        [[0., 0., 0., 0., 0.],\n",
              "         [0., 0., 0., 0., 0.],\n",
              "         [0., 0., 0., 0., 0.],\n",
              "         [0., 0., 0., 0., 0.]],\n",
              "\n",
              "        [[0., 0., 0., 0., 0.],\n",
              "         [0., 0., 0., 0., 0.],\n",
              "         [0., 0., 0., 0., 0.],\n",
              "         [0., 0., 0., 0., 0.]]],\n",
              "\n",
              "\n",
              "       [[[0., 0., 0., 0., 0.],\n",
              "         [0., 0., 0., 0., 0.],\n",
              "         [0., 0., 0., 0., 0.],\n",
              "         [0., 0., 0., 0., 0.]],\n",
              "\n",
              "        [[0., 0., 0., 0., 0.],\n",
              "         [0., 0., 0., 0., 0.],\n",
              "         [0., 0., 0., 0., 0.],\n",
              "         [0., 0., 0., 0., 0.]],\n",
              "\n",
              "        [[0., 0., 0., 0., 0.],\n",
              "         [0., 0., 0., 0., 0.],\n",
              "         [0., 0., 0., 0., 0.],\n",
              "         [0., 0., 0., 0., 0.]]]])"
            ]
          },
          "metadata": {},
          "execution_count": 7
        }
      ]
    },
    {
      "cell_type": "markdown",
      "metadata": {
        "id": "PXVQ-f0Olkqj"
      },
      "source": [
        "- #### np.empty() 함수\n",
        "- #### np.full() 함수"
      ]
    },
    {
      "cell_type": "code",
      "execution_count": 8,
      "metadata": {
        "id": "_TxTQRDGlkqk",
        "colab": {
          "base_uri": "https://localhost:8080/"
        },
        "outputId": "bda557ed-4158-463f-cd37-58d7102546d0"
      },
      "outputs": [
        {
          "output_type": "execute_result",
          "data": {
            "text/plain": [
              "array([[51358576,        0,        0,        0],\n",
              "       [       0,        0,        0,        0],\n",
              "       [       0,        0,        0,        0]])"
            ]
          },
          "metadata": {},
          "execution_count": 8
        }
      ],
      "source": [
        "np.empty((3, 4), dtype=int)"
      ]
    },
    {
      "cell_type": "code",
      "source": [
        "np.full((2, 3, 4), 5)"
      ],
      "metadata": {
        "colab": {
          "base_uri": "https://localhost:8080/"
        },
        "id": "4xb5Tz-ittXX",
        "outputId": "4bc1d854-6e2c-4874-e3f0-47cadac1656d"
      },
      "execution_count": 9,
      "outputs": [
        {
          "output_type": "execute_result",
          "data": {
            "text/plain": [
              "array([[[5, 5, 5, 5],\n",
              "        [5, 5, 5, 5],\n",
              "        [5, 5, 5, 5]],\n",
              "\n",
              "       [[5, 5, 5, 5],\n",
              "        [5, 5, 5, 5],\n",
              "        [5, 5, 5, 5]]])"
            ]
          },
          "metadata": {},
          "execution_count": 9
        }
      ]
    },
    {
      "cell_type": "markdown",
      "metadata": {
        "id": "V_zfKrT-lkqk"
      },
      "source": [
        "- #### np.eyes() 함수\n",
        "- #### np.identity() 함수"
      ]
    },
    {
      "cell_type": "code",
      "execution_count": 10,
      "metadata": {
        "id": "fnCmTEhdlkqk",
        "colab": {
          "base_uri": "https://localhost:8080/"
        },
        "outputId": "b89bcaa7-3702-4941-a0ad-9fdc84cef6fd"
      },
      "outputs": [
        {
          "output_type": "execute_result",
          "data": {
            "text/plain": [
              "array([[1., 0., 0.],\n",
              "       [0., 1., 0.],\n",
              "       [0., 0., 1.]])"
            ]
          },
          "metadata": {},
          "execution_count": 10
        }
      ],
      "source": [
        "np.eye(3)"
      ]
    },
    {
      "cell_type": "code",
      "source": [
        "np.identity(3)"
      ],
      "metadata": {
        "colab": {
          "base_uri": "https://localhost:8080/"
        },
        "id": "pupmwgmIt15s",
        "outputId": "0d12aec7-376d-45d8-fd06-034d8535bb96"
      },
      "execution_count": 11,
      "outputs": [
        {
          "output_type": "execute_result",
          "data": {
            "text/plain": [
              "array([[1., 0., 0.],\n",
              "       [0., 1., 0.],\n",
              "       [0., 0., 1.]])"
            ]
          },
          "metadata": {},
          "execution_count": 11
        }
      ]
    },
    {
      "cell_type": "markdown",
      "metadata": {
        "id": "SiNaxHqGlkql"
      },
      "source": [
        "- #### np.linespace() 함수"
      ]
    },
    {
      "cell_type": "code",
      "execution_count": 13,
      "metadata": {
        "id": "o1uhe3Molkql",
        "colab": {
          "base_uri": "https://localhost:8080/"
        },
        "outputId": "1c5fdfdc-b1d8-49f4-e758-9448d4d1ed36"
      },
      "outputs": [
        {
          "output_type": "execute_result",
          "data": {
            "text/plain": [
              "array([ 1., 10.])"
            ]
          },
          "metadata": {},
          "execution_count": 13
        }
      ],
      "source": [
        "np.linspace(1, 10, 2)"
      ]
    },
    {
      "cell_type": "code",
      "source": [
        "np.linspace(1, 10, 5)"
      ],
      "metadata": {
        "colab": {
          "base_uri": "https://localhost:8080/"
        },
        "id": "3eMUDfLruIA_",
        "outputId": "d6069bd1-efb7-4812-ecb5-8b7f84375077"
      },
      "execution_count": 14,
      "outputs": [
        {
          "output_type": "execute_result",
          "data": {
            "text/plain": [
              "array([ 1.  ,  3.25,  5.5 ,  7.75, 10.  ])"
            ]
          },
          "metadata": {},
          "execution_count": 14
        }
      ]
    },
    {
      "cell_type": "markdown",
      "metadata": {
        "id": "YTrpqKS8lkqm"
      },
      "source": [
        "- ### ndarray 생성(2)\n",
        "    - numpy의 서브모듈 random 사용"
      ]
    },
    {
      "cell_type": "code",
      "execution_count": 15,
      "metadata": {
        "id": "SByU1B4Dlkqm"
      },
      "outputs": [],
      "source": [
        "import numpy as np"
      ]
    },
    {
      "cell_type": "markdown",
      "metadata": {
        "id": "aMIckpfMlkqm"
      },
      "source": [
        "- #### rand() 함수"
      ]
    },
    {
      "cell_type": "code",
      "execution_count": 16,
      "metadata": {
        "id": "cPk-1_Izlkqm",
        "colab": {
          "base_uri": "https://localhost:8080/"
        },
        "outputId": "1f341199-090c-4e8c-dd34-c20841fddb77"
      },
      "outputs": [
        {
          "output_type": "execute_result",
          "data": {
            "text/plain": [
              "array([[[0.54183039, 0.95119917, 0.52318311, 0.64429999, 0.06513913],\n",
              "        [0.67841035, 0.74124382, 0.51978671, 0.90572355, 0.82738663],\n",
              "        [0.10567003, 0.80679984, 0.48240922, 0.17778067, 0.18347078],\n",
              "        [0.23901497, 0.98155309, 0.894304  , 0.39930677, 0.9708638 ]],\n",
              "\n",
              "       [[0.39512462, 0.63297123, 0.06371858, 0.14917275, 0.30607538],\n",
              "        [0.22608817, 0.15791081, 0.8700559 , 0.20550142, 0.54209122],\n",
              "        [0.08543231, 0.63729653, 0.21827834, 0.60841433, 0.93430656],\n",
              "        [0.5353026 , 0.64544754, 0.31622923, 0.11865543, 0.18608015]],\n",
              "\n",
              "       [[0.47032095, 0.12668408, 0.20076118, 0.07006373, 0.97202438],\n",
              "        [0.8031864 , 0.65208438, 0.11979898, 0.70254678, 0.1981671 ],\n",
              "        [0.82780894, 0.7951441 , 0.48461468, 0.63681677, 0.44536446],\n",
              "        [0.77664464, 0.6449447 , 0.0335941 , 0.61268331, 0.40473547]]])"
            ]
          },
          "metadata": {},
          "execution_count": 16
        }
      ],
      "source": [
        "np.random.rand(3, 4, 5)"
      ]
    },
    {
      "cell_type": "markdown",
      "metadata": {
        "id": "MYB0devUlkqm"
      },
      "source": [
        "- #### randint() 함수"
      ]
    },
    {
      "cell_type": "code",
      "execution_count": 19,
      "metadata": {
        "id": "ajan47qGlkqm",
        "colab": {
          "base_uri": "https://localhost:8080/"
        },
        "outputId": "52e1c03e-631d-4da8-e227-ca848df801a1"
      },
      "outputs": [
        {
          "output_type": "execute_result",
          "data": {
            "text/plain": [
              "array([12, 21, 18])"
            ]
          },
          "metadata": {},
          "execution_count": 19
        }
      ],
      "source": [
        "np.random.randint(1, 100, size=(3,))"
      ]
    },
    {
      "cell_type": "markdown",
      "metadata": {
        "id": "AijPiep4lkqm"
      },
      "source": [
        "- #### seed() 함수"
      ]
    },
    {
      "cell_type": "code",
      "execution_count": 21,
      "metadata": {
        "id": "_EtXDkqGlkqn",
        "colab": {
          "base_uri": "https://localhost:8080/"
        },
        "outputId": "b39cda7d-5920-4206-95d0-1be0f8e988b1"
      },
      "outputs": [
        {
          "output_type": "execute_result",
          "data": {
            "text/plain": [
              "array([[0.51729788, 0.9469626 , 0.76545976, 0.28239584],\n",
              "       [0.22104536, 0.68622209, 0.1671392 , 0.39244247],\n",
              "       [0.61805235, 0.41193009, 0.00246488, 0.88403218]])"
            ]
          },
          "metadata": {},
          "execution_count": 21
        }
      ],
      "source": [
        "np.random.seed(23)\n",
        "np.random.rand(3, 4)"
      ]
    },
    {
      "cell_type": "markdown",
      "metadata": {
        "id": "KY118uIrlkqn"
      },
      "source": [
        "- #### choice() 함수"
      ]
    },
    {
      "cell_type": "code",
      "execution_count": 22,
      "metadata": {
        "id": "FVhybqi5lkqo",
        "colab": {
          "base_uri": "https://localhost:8080/"
        },
        "outputId": "51bc44ed-f856-4484-e1c2-4b8ca426eb67"
      },
      "outputs": [
        {
          "output_type": "execute_result",
          "data": {
            "text/plain": [
              "array([[12, 21, 48, 41],\n",
              "       [79, 90, 62, 57],\n",
              "       [19, 33, 59, 39]])"
            ]
          },
          "metadata": {},
          "execution_count": 22
        }
      ],
      "source": [
        "np.random.choice(100, size=(3, 4))"
      ]
    },
    {
      "cell_type": "code",
      "source": [
        "x = np.array([1, 2, 5, 10, 84, 0.3])\n",
        "np.random.choice(x, size=(2, 2), replace=False)"
      ],
      "metadata": {
        "colab": {
          "base_uri": "https://localhost:8080/"
        },
        "id": "h_e9sXeWvCtl",
        "outputId": "c1513b31-430b-4bc2-a99c-e347958bc1c4"
      },
      "execution_count": 23,
      "outputs": [
        {
          "output_type": "execute_result",
          "data": {
            "text/plain": [
              "array([[ 5. , 10. ],\n",
              "       [ 1. ,  0.3]])"
            ]
          },
          "metadata": {},
          "execution_count": 23
        }
      ]
    },
    {
      "cell_type": "markdown",
      "metadata": {
        "id": "PXiJtkb9lkqo"
      },
      "source": [
        "### NumPy 연습문제 1"
      ]
    },
    {
      "cell_type": "markdown",
      "metadata": {
        "id": "UVfWy9xFlkqo"
      },
      "source": [
        "- #### 로또 번호 자동 생성기를 함수를 이용해 만드시오."
      ]
    },
    {
      "cell_type": "code",
      "execution_count": null,
      "metadata": {
        "id": "XlUb91x7lkqz"
      },
      "outputs": [],
      "source": []
    },
    {
      "cell_type": "markdown",
      "metadata": {
        "id": "d7Xa35WRlkqz"
      },
      "source": [
        "### 인덱싱 & 슬라이싱"
      ]
    },
    {
      "cell_type": "code",
      "execution_count": 24,
      "metadata": {
        "id": "1aj9WFMelkq0"
      },
      "outputs": [],
      "source": [
        "import numpy as np"
      ]
    },
    {
      "cell_type": "markdown",
      "metadata": {
        "id": "I14WEPnNlkq0"
      },
      "source": [
        "- #### 1차원 벡터"
      ]
    },
    {
      "cell_type": "code",
      "execution_count": 25,
      "metadata": {
        "id": "GbHM78Shlkq1",
        "colab": {
          "base_uri": "https://localhost:8080/"
        },
        "outputId": "0faa3bd4-4c08-4ef5-cd22-d4b57e09024d"
      },
      "outputs": [
        {
          "output_type": "stream",
          "name": "stdout",
          "text": [
            "[0 1 2 3 4]\n"
          ]
        }
      ],
      "source": [
        "x = np.arange(5)\n",
        "print(x)"
      ]
    },
    {
      "cell_type": "code",
      "source": [
        "x[1]"
      ],
      "metadata": {
        "colab": {
          "base_uri": "https://localhost:8080/"
        },
        "id": "TfZQZYJvvsRK",
        "outputId": "aca26963-e507-4487-ae20-e2fd74eea9a0"
      },
      "execution_count": 27,
      "outputs": [
        {
          "output_type": "execute_result",
          "data": {
            "text/plain": [
              "1"
            ]
          },
          "metadata": {},
          "execution_count": 27
        }
      ]
    },
    {
      "cell_type": "code",
      "source": [],
      "metadata": {
        "id": "RBGhhFqNvuGX"
      },
      "execution_count": 28,
      "outputs": []
    },
    {
      "cell_type": "markdown",
      "metadata": {
        "id": "rpbgeFFQlkq1"
      },
      "source": [
        "- #### 2차원 행렬"
      ]
    },
    {
      "cell_type": "code",
      "execution_count": 31,
      "metadata": {
        "id": "f-f6_MKelkq2",
        "colab": {
          "base_uri": "https://localhost:8080/"
        },
        "outputId": "8cadb091-1eab-41a3-ad94-d8c2f5732380"
      },
      "outputs": [
        {
          "output_type": "stream",
          "name": "stdout",
          "text": [
            "[[0 1 2]\n",
            " [3 4 5]]\n"
          ]
        }
      ],
      "source": [
        "x = np.arange(6).reshape(2, 3)\n",
        "print(x)"
      ]
    },
    {
      "cell_type": "code",
      "source": [
        "x[0]"
      ],
      "metadata": {
        "colab": {
          "base_uri": "https://localhost:8080/"
        },
        "id": "DL4c4hp3v1G9",
        "outputId": "c0797622-0876-4720-c54c-773fa88e64c2"
      },
      "execution_count": 32,
      "outputs": [
        {
          "output_type": "execute_result",
          "data": {
            "text/plain": [
              "array([0, 1, 2])"
            ]
          },
          "metadata": {},
          "execution_count": 32
        }
      ]
    },
    {
      "cell_type": "code",
      "source": [
        "x[1, -1]"
      ],
      "metadata": {
        "colab": {
          "base_uri": "https://localhost:8080/"
        },
        "id": "OHOxya5Gv7v_",
        "outputId": "31c34f5c-0042-484f-c753-cfc1086b20e7"
      },
      "execution_count": 33,
      "outputs": [
        {
          "output_type": "execute_result",
          "data": {
            "text/plain": [
              "5"
            ]
          },
          "metadata": {},
          "execution_count": 33
        }
      ]
    },
    {
      "cell_type": "code",
      "source": [
        "x[0, :2]"
      ],
      "metadata": {
        "colab": {
          "base_uri": "https://localhost:8080/"
        },
        "id": "sfyurSokwAKk",
        "outputId": "3f0e82a6-b67d-449b-e9c5-9dcdd158e6cf"
      },
      "execution_count": 34,
      "outputs": [
        {
          "output_type": "execute_result",
          "data": {
            "text/plain": [
              "array([0, 1])"
            ]
          },
          "metadata": {},
          "execution_count": 34
        }
      ]
    },
    {
      "cell_type": "code",
      "source": [
        "x[:1, :2]"
      ],
      "metadata": {
        "colab": {
          "base_uri": "https://localhost:8080/"
        },
        "id": "2EWx_C8NwDY6",
        "outputId": "7c8cca20-63c2-4b70-ec22-6266ca965f73"
      },
      "execution_count": 35,
      "outputs": [
        {
          "output_type": "execute_result",
          "data": {
            "text/plain": [
              "array([[0, 1]])"
            ]
          },
          "metadata": {},
          "execution_count": 35
        }
      ]
    },
    {
      "cell_type": "markdown",
      "metadata": {
        "id": "ElVNrYs4lkq3"
      },
      "source": [
        "- #### 3차원 텐서"
      ]
    },
    {
      "cell_type": "code",
      "execution_count": 36,
      "metadata": {
        "id": "4eolU89Wlkq4",
        "colab": {
          "base_uri": "https://localhost:8080/"
        },
        "outputId": "6b62956a-ea06-499d-db5e-b72000434934"
      },
      "outputs": [
        {
          "output_type": "stream",
          "name": "stdout",
          "text": [
            "[[[ 0  1  2  3]\n",
            "  [ 4  5  6  7]\n",
            "  [ 8  9 10 11]]\n",
            "\n",
            " [[12 13 14 15]\n",
            "  [16 17 18 19]\n",
            "  [20 21 22 23]]]\n"
          ]
        }
      ],
      "source": [
        "x = np.arange(24).reshape(2, 3, 4)\n",
        "print(x)"
      ]
    },
    {
      "cell_type": "code",
      "source": [
        "x[1]"
      ],
      "metadata": {
        "colab": {
          "base_uri": "https://localhost:8080/"
        },
        "id": "gWWywVWKwPpO",
        "outputId": "ac61899a-19bf-4e1e-cf76-b63937a32537"
      },
      "execution_count": 37,
      "outputs": [
        {
          "output_type": "execute_result",
          "data": {
            "text/plain": [
              "array([[12, 13, 14, 15],\n",
              "       [16, 17, 18, 19],\n",
              "       [20, 21, 22, 23]])"
            ]
          },
          "metadata": {},
          "execution_count": 37
        }
      ]
    },
    {
      "cell_type": "code",
      "source": [
        "x[:1, :2, :]"
      ],
      "metadata": {
        "colab": {
          "base_uri": "https://localhost:8080/"
        },
        "id": "Jd1fo_YSwSP5",
        "outputId": "606aada0-0d33-4790-bed7-dc941261cc89"
      },
      "execution_count": 38,
      "outputs": [
        {
          "output_type": "execute_result",
          "data": {
            "text/plain": [
              "array([[[0, 1, 2, 3],\n",
              "        [4, 5, 6, 7]]])"
            ]
          },
          "metadata": {},
          "execution_count": 38
        }
      ]
    },
    {
      "cell_type": "markdown",
      "metadata": {
        "id": "_3mE-szIlkq4"
      },
      "source": [
        "### 배열 형태 변경"
      ]
    },
    {
      "cell_type": "code",
      "execution_count": 39,
      "metadata": {
        "id": "GNpQ9lgOlkq4"
      },
      "outputs": [],
      "source": [
        "import numpy as np"
      ]
    },
    {
      "cell_type": "markdown",
      "metadata": {
        "id": "u4BuWRVNlkq5"
      },
      "source": [
        "- #### reshape() 함수"
      ]
    },
    {
      "cell_type": "code",
      "execution_count": 40,
      "metadata": {
        "id": "9e--Gta8lkq8",
        "colab": {
          "base_uri": "https://localhost:8080/"
        },
        "outputId": "be2236e3-87a4-4207-dcfa-8ceef49f08eb"
      },
      "outputs": [
        {
          "output_type": "stream",
          "name": "stdout",
          "text": [
            "[0 1 2 3 4 5 6 7 8 9]\n"
          ]
        }
      ],
      "source": [
        "x = np.arange(10)\n",
        "print(x)"
      ]
    },
    {
      "cell_type": "code",
      "source": [
        "print(x.shape)\n",
        "print(x.ndim)"
      ],
      "metadata": {
        "colab": {
          "base_uri": "https://localhost:8080/"
        },
        "id": "euRC_NSlw_wR",
        "outputId": "9f703f35-f362-45d2-ccc5-4330d6a0326f"
      },
      "execution_count": 41,
      "outputs": [
        {
          "output_type": "stream",
          "name": "stdout",
          "text": [
            "(10,)\n",
            "1\n"
          ]
        }
      ]
    },
    {
      "cell_type": "code",
      "source": [
        "y = np.arange(10).reshape(2, 5)\n",
        "print(y)\n",
        "print(y.shape)\n",
        "print(y.ndim)"
      ],
      "metadata": {
        "colab": {
          "base_uri": "https://localhost:8080/"
        },
        "id": "RiGu53uOxDLK",
        "outputId": "fdb231ec-b9af-4691-8745-67dbdda84859"
      },
      "execution_count": 42,
      "outputs": [
        {
          "output_type": "stream",
          "name": "stdout",
          "text": [
            "[[0 1 2 3 4]\n",
            " [5 6 7 8 9]]\n",
            "(2, 5)\n",
            "2\n"
          ]
        }
      ]
    },
    {
      "cell_type": "markdown",
      "metadata": {
        "id": "RCwXKzlUlkq8"
      },
      "source": [
        "- #### ravel"
      ]
    },
    {
      "cell_type": "code",
      "execution_count": 44,
      "metadata": {
        "id": "U1bXXczilkq-"
      },
      "outputs": [],
      "source": [
        "x =  np.arange(10).reshape(2, 5)"
      ]
    },
    {
      "cell_type": "code",
      "source": [
        "np.ravel(x)"
      ],
      "metadata": {
        "colab": {
          "base_uri": "https://localhost:8080/"
        },
        "id": "gbJx_3QmxWvA",
        "outputId": "5e6304f1-bdd0-43be-9f05-cc48e117806b"
      },
      "execution_count": 45,
      "outputs": [
        {
          "output_type": "execute_result",
          "data": {
            "text/plain": [
              "array([0, 1, 2, 3, 4, 5, 6, 7, 8, 9])"
            ]
          },
          "metadata": {},
          "execution_count": 45
        }
      ]
    },
    {
      "cell_type": "code",
      "source": [
        "np.ravel(x, order = 'F')"
      ],
      "metadata": {
        "colab": {
          "base_uri": "https://localhost:8080/"
        },
        "id": "30gGd0UkxZ3c",
        "outputId": "a73a044b-52bf-452d-dc3d-00af210c9a67"
      },
      "execution_count": 46,
      "outputs": [
        {
          "output_type": "execute_result",
          "data": {
            "text/plain": [
              "array([0, 5, 1, 6, 2, 7, 3, 8, 4, 9])"
            ]
          },
          "metadata": {},
          "execution_count": 46
        }
      ]
    },
    {
      "cell_type": "code",
      "source": [
        "temp = x.ravel()\n",
        "print(temp)"
      ],
      "metadata": {
        "colab": {
          "base_uri": "https://localhost:8080/"
        },
        "id": "gpdUMS__xfxy",
        "outputId": "e13b8896-4ecc-4322-f660-5fc82dfc684c"
      },
      "execution_count": 47,
      "outputs": [
        {
          "output_type": "stream",
          "name": "stdout",
          "text": [
            "[0 1 2 3 4 5 6 7 8 9]\n"
          ]
        }
      ]
    },
    {
      "cell_type": "code",
      "source": [
        "temp[0] = 100\n",
        "print(temp)\n",
        "print(x)"
      ],
      "metadata": {
        "colab": {
          "base_uri": "https://localhost:8080/"
        },
        "id": "EPBtL_7vxktf",
        "outputId": "54b85321-fd3b-4dc5-9a62-16f29bf959ae"
      },
      "execution_count": 48,
      "outputs": [
        {
          "output_type": "stream",
          "name": "stdout",
          "text": [
            "[100   1   2   3   4   5   6   7   8   9]\n",
            "[[100   1   2   3   4]\n",
            " [  5   6   7   8   9]]\n"
          ]
        }
      ]
    },
    {
      "cell_type": "markdown",
      "metadata": {
        "id": "lXs6zCZIlkq-"
      },
      "source": [
        "- #### flatten"
      ]
    },
    {
      "cell_type": "code",
      "execution_count": 49,
      "metadata": {
        "id": "7iqFf4Pilkq_",
        "colab": {
          "base_uri": "https://localhost:8080/"
        },
        "outputId": "c2ec888b-41c2-4641-e1b1-bbe28f92dc7c"
      },
      "outputs": [
        {
          "output_type": "stream",
          "name": "stdout",
          "text": [
            "[[0 1 2 3 4]\n",
            " [5 6 7 8 9]]\n"
          ]
        }
      ],
      "source": [
        "x = np.arange(10).reshape(2, 5)\n",
        "print(x)"
      ]
    },
    {
      "cell_type": "code",
      "source": [
        "a = x.flatten(order='F')\n",
        "print(a)"
      ],
      "metadata": {
        "colab": {
          "base_uri": "https://localhost:8080/"
        },
        "id": "-hAB7OhJxyOH",
        "outputId": "ab9fe81c-b37f-47e0-e6ee-89b9a2fddf76"
      },
      "execution_count": 50,
      "outputs": [
        {
          "output_type": "stream",
          "name": "stdout",
          "text": [
            "[0 5 1 6 2 7 3 8 4 9]\n"
          ]
        }
      ]
    },
    {
      "cell_type": "code",
      "source": [
        "print(x)"
      ],
      "metadata": {
        "colab": {
          "base_uri": "https://localhost:8080/"
        },
        "id": "Wt-pqyNTx6iV",
        "outputId": "bf729767-4e4d-43df-c3c3-b253b983ccd5"
      },
      "execution_count": 51,
      "outputs": [
        {
          "output_type": "stream",
          "name": "stdout",
          "text": [
            "[[0 1 2 3 4]\n",
            " [5 6 7 8 9]]\n"
          ]
        }
      ]
    },
    {
      "cell_type": "markdown",
      "metadata": {
        "id": "n2akpAgDlkq_"
      },
      "source": [
        "- ### 범용함수"
      ]
    },
    {
      "cell_type": "code",
      "execution_count": 52,
      "metadata": {
        "id": "Jkhoj1jJlkrA"
      },
      "outputs": [],
      "source": [
        "import numpy as np"
      ]
    },
    {
      "cell_type": "markdown",
      "metadata": {
        "id": "oNKoUZOElkrA"
      },
      "source": [
        "- #### 연산"
      ]
    },
    {
      "cell_type": "code",
      "execution_count": 53,
      "metadata": {
        "id": "vaXKD_9NlkrC",
        "colab": {
          "base_uri": "https://localhost:8080/"
        },
        "outputId": "9b33f2e6-4a75-4a93-c32d-d4c2ea06d9f5"
      },
      "outputs": [
        {
          "output_type": "stream",
          "name": "stdout",
          "text": [
            "[[ 0  1  2  3  4]\n",
            " [ 5  6  7  8  9]\n",
            " [10 11 12 13 14]]\n",
            "[[ 8 10 20 28  7]\n",
            " [29 22 45 24 44]\n",
            " [13 32 21 46 27]]\n"
          ]
        }
      ],
      "source": [
        "np.random.seed(103)\n",
        "x = np.arange(15).reshape(3, 5)\n",
        "y = np.random.randint(1,50, size=(3, 5))\n",
        "print(x)\n",
        "print(y)"
      ]
    },
    {
      "cell_type": "code",
      "source": [
        "np.add(x, y)"
      ],
      "metadata": {
        "colab": {
          "base_uri": "https://localhost:8080/"
        },
        "id": "rVy2IPY2yaL8",
        "outputId": "4429463e-62f0-44f1-93c0-33572b008831"
      },
      "execution_count": 54,
      "outputs": [
        {
          "output_type": "execute_result",
          "data": {
            "text/plain": [
              "array([[ 8, 11, 22, 31, 11],\n",
              "       [34, 28, 52, 32, 53],\n",
              "       [23, 43, 33, 59, 41]])"
            ]
          },
          "metadata": {},
          "execution_count": 54
        }
      ]
    },
    {
      "cell_type": "code",
      "source": [
        "x + y"
      ],
      "metadata": {
        "colab": {
          "base_uri": "https://localhost:8080/"
        },
        "id": "9obczs43ydLV",
        "outputId": "a23c7967-4137-447f-e0fe-b2fa74127de8"
      },
      "execution_count": 55,
      "outputs": [
        {
          "output_type": "execute_result",
          "data": {
            "text/plain": [
              "array([[ 8, 11, 22, 31, 11],\n",
              "       [34, 28, 52, 32, 53],\n",
              "       [23, 43, 33, 59, 41]])"
            ]
          },
          "metadata": {},
          "execution_count": 55
        }
      ]
    },
    {
      "cell_type": "code",
      "source": [
        "np.subtract(x, y)"
      ],
      "metadata": {
        "colab": {
          "base_uri": "https://localhost:8080/"
        },
        "id": "USlP7Dl3yfxD",
        "outputId": "ef6d055d-a99d-41ef-86b7-891495598bbc"
      },
      "execution_count": 56,
      "outputs": [
        {
          "output_type": "execute_result",
          "data": {
            "text/plain": [
              "array([[ -8,  -9, -18, -25,  -3],\n",
              "       [-24, -16, -38, -16, -35],\n",
              "       [ -3, -21,  -9, -33, -13]])"
            ]
          },
          "metadata": {},
          "execution_count": 56
        }
      ]
    },
    {
      "cell_type": "code",
      "source": [
        "np.multiply(x ,y)"
      ],
      "metadata": {
        "colab": {
          "base_uri": "https://localhost:8080/"
        },
        "id": "x7wvZxIMyj8o",
        "outputId": "59b3dcfd-190c-42c2-8a85-8f2ed790c89a"
      },
      "execution_count": 57,
      "outputs": [
        {
          "output_type": "execute_result",
          "data": {
            "text/plain": [
              "array([[  0,  10,  40,  84,  28],\n",
              "       [145, 132, 315, 192, 396],\n",
              "       [130, 352, 252, 598, 378]])"
            ]
          },
          "metadata": {},
          "execution_count": 57
        }
      ]
    },
    {
      "cell_type": "code",
      "source": [
        "np.divide(x, y)"
      ],
      "metadata": {
        "colab": {
          "base_uri": "https://localhost:8080/"
        },
        "id": "zEAEqXLyyocH",
        "outputId": "2f98d082-f70e-46c3-e99f-d4af6eed6dbd"
      },
      "execution_count": 58,
      "outputs": [
        {
          "output_type": "execute_result",
          "data": {
            "text/plain": [
              "array([[0.        , 0.1       , 0.1       , 0.10714286, 0.57142857],\n",
              "       [0.17241379, 0.27272727, 0.15555556, 0.33333333, 0.20454545],\n",
              "       [0.76923077, 0.34375   , 0.57142857, 0.2826087 , 0.51851852]])"
            ]
          },
          "metadata": {},
          "execution_count": 58
        }
      ]
    },
    {
      "cell_type": "markdown",
      "metadata": {
        "id": "o-PJ_ESHlkrC"
      },
      "source": [
        "- #### 통계함수"
      ]
    },
    {
      "cell_type": "code",
      "execution_count": 59,
      "metadata": {
        "id": "bJwo_35ylkrE",
        "colab": {
          "base_uri": "https://localhost:8080/"
        },
        "outputId": "b6c21ce1-6cb6-4bd8-a722-9c6faf121404"
      },
      "outputs": [
        {
          "output_type": "stream",
          "name": "stdout",
          "text": [
            "[[ 8 10 20 28  7]\n",
            " [29 22 45 24 44]\n",
            " [13 32 21 46 27]]\n"
          ]
        }
      ],
      "source": [
        "print(y)"
      ]
    },
    {
      "cell_type": "code",
      "source": [
        "np.sum(y)"
      ],
      "metadata": {
        "colab": {
          "base_uri": "https://localhost:8080/"
        },
        "id": "m0gwQB5gy0Qq",
        "outputId": "de079a45-aac6-402a-b77e-78f16ec0fb9c"
      },
      "execution_count": 60,
      "outputs": [
        {
          "output_type": "execute_result",
          "data": {
            "text/plain": [
              "376"
            ]
          },
          "metadata": {},
          "execution_count": 60
        }
      ]
    },
    {
      "cell_type": "code",
      "source": [
        "np.mean(y)"
      ],
      "metadata": {
        "colab": {
          "base_uri": "https://localhost:8080/"
        },
        "id": "oG9DZBSAy2hG",
        "outputId": "24371e78-3bc1-4e05-e509-6922b1986093"
      },
      "execution_count": 61,
      "outputs": [
        {
          "output_type": "execute_result",
          "data": {
            "text/plain": [
              "25.066666666666666"
            ]
          },
          "metadata": {},
          "execution_count": 61
        }
      ]
    },
    {
      "cell_type": "code",
      "source": [
        "y.mean()"
      ],
      "metadata": {
        "colab": {
          "base_uri": "https://localhost:8080/"
        },
        "id": "JZT8jxNKy4v1",
        "outputId": "cc0f99cd-2396-47f5-e48c-753f42b548c5"
      },
      "execution_count": 62,
      "outputs": [
        {
          "output_type": "execute_result",
          "data": {
            "text/plain": [
              "25.066666666666666"
            ]
          },
          "metadata": {},
          "execution_count": 62
        }
      ]
    },
    {
      "cell_type": "code",
      "source": [
        "np.max(y), np.min(y)"
      ],
      "metadata": {
        "colab": {
          "base_uri": "https://localhost:8080/"
        },
        "id": "zSpwff5uy8zG",
        "outputId": "afa28732-d2e8-4649-c9df-33f8dcbf27a0"
      },
      "execution_count": 63,
      "outputs": [
        {
          "output_type": "execute_result",
          "data": {
            "text/plain": [
              "(46, 7)"
            ]
          },
          "metadata": {},
          "execution_count": 63
        }
      ]
    },
    {
      "cell_type": "code",
      "source": [
        "np.argmax(y)"
      ],
      "metadata": {
        "colab": {
          "base_uri": "https://localhost:8080/"
        },
        "id": "NL4OWROey_5W",
        "outputId": "b5afc502-6dd5-4a3b-f45f-1926ad0d21c8"
      },
      "execution_count": 64,
      "outputs": [
        {
          "output_type": "execute_result",
          "data": {
            "text/plain": [
              "13"
            ]
          },
          "metadata": {},
          "execution_count": 64
        }
      ]
    },
    {
      "cell_type": "code",
      "source": [
        "np.var(y)"
      ],
      "metadata": {
        "colab": {
          "base_uri": "https://localhost:8080/"
        },
        "id": "hE7ciexJzH-y",
        "outputId": "e5d75030-fa70-4095-a5b1-a4e0500b5fb7"
      },
      "execution_count": 65,
      "outputs": [
        {
          "output_type": "execute_result",
          "data": {
            "text/plain": [
              "154.19555555555556"
            ]
          },
          "metadata": {},
          "execution_count": 65
        }
      ]
    },
    {
      "cell_type": "markdown",
      "metadata": {
        "id": "m9sX2LwvlkrE"
      },
      "source": [
        "- ### axis(축) 이해하기"
      ]
    },
    {
      "cell_type": "code",
      "execution_count": null,
      "metadata": {
        "id": "ehkSRe18lkrE"
      },
      "outputs": [],
      "source": []
    },
    {
      "cell_type": "markdown",
      "metadata": {
        "id": "tyqhUdiglkrE"
      },
      "source": [
        "- #### 1차원 벡터"
      ]
    },
    {
      "cell_type": "code",
      "execution_count": 66,
      "metadata": {
        "id": "mkDP1wYHlkrF",
        "colab": {
          "base_uri": "https://localhost:8080/"
        },
        "outputId": "a3abd4c1-b784-4ce2-a8bc-9d16452d50ba"
      },
      "outputs": [
        {
          "output_type": "stream",
          "name": "stdout",
          "text": [
            "[0 1 2 3 4 5 6 7 8 9]\n"
          ]
        }
      ],
      "source": [
        "x = np.arange(10)\n",
        "print(x)"
      ]
    },
    {
      "cell_type": "code",
      "source": [
        "np.sum(x, axis=0)"
      ],
      "metadata": {
        "colab": {
          "base_uri": "https://localhost:8080/"
        },
        "id": "61hxW5FYzV97",
        "outputId": "872092e4-d96b-4731-f02a-f7ba3c72d046"
      },
      "execution_count": 67,
      "outputs": [
        {
          "output_type": "execute_result",
          "data": {
            "text/plain": [
              "45"
            ]
          },
          "metadata": {},
          "execution_count": 67
        }
      ]
    },
    {
      "cell_type": "code",
      "source": [
        "np.sum(x)"
      ],
      "metadata": {
        "colab": {
          "base_uri": "https://localhost:8080/"
        },
        "id": "KiUWSW1Iza7V",
        "outputId": "05d3486a-9a7d-47c8-9825-67d35b673255"
      },
      "execution_count": 68,
      "outputs": [
        {
          "output_type": "execute_result",
          "data": {
            "text/plain": [
              "45"
            ]
          },
          "metadata": {},
          "execution_count": 68
        }
      ]
    },
    {
      "cell_type": "code",
      "source": [
        "# np.sum(x, axis=1)"
      ],
      "metadata": {
        "id": "wUqrgLvrzdAQ"
      },
      "execution_count": 70,
      "outputs": []
    },
    {
      "cell_type": "markdown",
      "metadata": {
        "id": "25rtZuW-lkrF"
      },
      "source": [
        "- #### 2차원 행렬"
      ]
    },
    {
      "cell_type": "code",
      "execution_count": 71,
      "metadata": {
        "id": "on1ICIbTlkrG",
        "colab": {
          "base_uri": "https://localhost:8080/"
        },
        "outputId": "f28a6097-5d75-4e4e-aee7-243f1b978163"
      },
      "outputs": [
        {
          "output_type": "stream",
          "name": "stdout",
          "text": [
            "[[0 1 2 3 4]\n",
            " [5 6 7 8 9]]\n"
          ]
        }
      ],
      "source": [
        "y = x.reshape(2, 5)\n",
        "print(y)"
      ]
    },
    {
      "cell_type": "code",
      "source": [
        "np.sum(y)"
      ],
      "metadata": {
        "colab": {
          "base_uri": "https://localhost:8080/"
        },
        "id": "aIEIdpUIzpKa",
        "outputId": "2563d3b3-ef01-4eec-f7a1-77d3c566ed70"
      },
      "execution_count": 72,
      "outputs": [
        {
          "output_type": "execute_result",
          "data": {
            "text/plain": [
              "45"
            ]
          },
          "metadata": {},
          "execution_count": 72
        }
      ]
    },
    {
      "cell_type": "code",
      "source": [
        "np.sum(y, axis=0)"
      ],
      "metadata": {
        "colab": {
          "base_uri": "https://localhost:8080/"
        },
        "id": "tjXyEyJ7zrAH",
        "outputId": "afdaf776-ecf4-461f-a0de-1ec1abd94b16"
      },
      "execution_count": 73,
      "outputs": [
        {
          "output_type": "execute_result",
          "data": {
            "text/plain": [
              "array([ 5,  7,  9, 11, 13])"
            ]
          },
          "metadata": {},
          "execution_count": 73
        }
      ]
    },
    {
      "cell_type": "code",
      "source": [
        "np.sum(y, axis=1)"
      ],
      "metadata": {
        "colab": {
          "base_uri": "https://localhost:8080/"
        },
        "id": "mNO7rsmezt4w",
        "outputId": "143c5322-b066-4b94-924d-897e1bfae160"
      },
      "execution_count": 74,
      "outputs": [
        {
          "output_type": "execute_result",
          "data": {
            "text/plain": [
              "array([10, 35])"
            ]
          },
          "metadata": {},
          "execution_count": 74
        }
      ]
    },
    {
      "cell_type": "markdown",
      "metadata": {
        "id": "MW9S9fwslkrG"
      },
      "source": [
        "- #### 3차원 텐서"
      ]
    },
    {
      "cell_type": "code",
      "execution_count": 75,
      "metadata": {
        "id": "yH1zSVGwlkrI",
        "colab": {
          "base_uri": "https://localhost:8080/"
        },
        "outputId": "9c12de00-a20e-4f7d-841c-1400f1fa1ada"
      },
      "outputs": [
        {
          "output_type": "stream",
          "name": "stdout",
          "text": [
            "[[[ 0  1  2  3]\n",
            "  [ 4  5  6  7]\n",
            "  [ 8  9 10 11]]\n",
            "\n",
            " [[12 13 14 15]\n",
            "  [16 17 18 19]\n",
            "  [20 21 22 23]]]\n"
          ]
        }
      ],
      "source": [
        "z = np.arange(24).reshape(2,3,4)\n",
        "print(z)"
      ]
    },
    {
      "cell_type": "code",
      "source": [
        "np.sum(z)"
      ],
      "metadata": {
        "colab": {
          "base_uri": "https://localhost:8080/"
        },
        "id": "B96pLJtYz40N",
        "outputId": "4b78520b-1c6b-4e8b-dbc0-6e26c9ea2cd0"
      },
      "execution_count": 76,
      "outputs": [
        {
          "output_type": "execute_result",
          "data": {
            "text/plain": [
              "276"
            ]
          },
          "metadata": {},
          "execution_count": 76
        }
      ]
    },
    {
      "cell_type": "code",
      "source": [
        "np.sum(z, axis=0)"
      ],
      "metadata": {
        "colab": {
          "base_uri": "https://localhost:8080/"
        },
        "id": "zrPNHIt3z6lp",
        "outputId": "25274e83-617a-4ee0-81df-95830263f59f"
      },
      "execution_count": 77,
      "outputs": [
        {
          "output_type": "execute_result",
          "data": {
            "text/plain": [
              "array([[12, 14, 16, 18],\n",
              "       [20, 22, 24, 26],\n",
              "       [28, 30, 32, 34]])"
            ]
          },
          "metadata": {},
          "execution_count": 77
        }
      ]
    },
    {
      "cell_type": "code",
      "source": [
        "np.sum(z, axis=1)"
      ],
      "metadata": {
        "colab": {
          "base_uri": "https://localhost:8080/"
        },
        "id": "Vcf2aRN_0Axw",
        "outputId": "6811c07d-f6d1-4596-f755-331f684780e8"
      },
      "execution_count": 79,
      "outputs": [
        {
          "output_type": "execute_result",
          "data": {
            "text/plain": [
              "array([[12, 15, 18, 21],\n",
              "       [48, 51, 54, 57]])"
            ]
          },
          "metadata": {},
          "execution_count": 79
        }
      ]
    },
    {
      "cell_type": "code",
      "source": [
        "np.sum(z, axis=2)"
      ],
      "metadata": {
        "colab": {
          "base_uri": "https://localhost:8080/"
        },
        "id": "dEnT9QBl0Ilk",
        "outputId": "787b54e5-7686-465c-ec67-f5d25b51bc93"
      },
      "execution_count": 80,
      "outputs": [
        {
          "output_type": "execute_result",
          "data": {
            "text/plain": [
              "array([[ 6, 22, 38],\n",
              "       [54, 70, 86]])"
            ]
          },
          "metadata": {},
          "execution_count": 80
        }
      ]
    },
    {
      "cell_type": "markdown",
      "metadata": {
        "id": "vQ_lJlsjlkrI"
      },
      "source": [
        "- #### axis 가 튜플인 경우"
      ]
    },
    {
      "cell_type": "code",
      "execution_count": 81,
      "metadata": {
        "id": "CXi_NXiJlkrI",
        "colab": {
          "base_uri": "https://localhost:8080/"
        },
        "outputId": "11700868-e06d-44b2-b786-56afec6c17da"
      },
      "outputs": [
        {
          "output_type": "execute_result",
          "data": {
            "text/plain": [
              "array([ 60,  92, 124])"
            ]
          },
          "metadata": {},
          "execution_count": 81
        }
      ],
      "source": [
        "np.sum(z, axis=(0, 2))"
      ]
    },
    {
      "cell_type": "markdown",
      "metadata": {
        "id": "HdCA6BvRlkrJ"
      },
      "source": [
        "- ### 논리값을 이용한 인덱싱"
      ]
    },
    {
      "cell_type": "code",
      "execution_count": 82,
      "metadata": {
        "id": "3bHx7Cy-lkrJ",
        "colab": {
          "base_uri": "https://localhost:8080/"
        },
        "outputId": "764b1d25-6cb0-44b7-c910-c975b0695600"
      },
      "outputs": [
        {
          "output_type": "stream",
          "name": "stdout",
          "text": [
            "[71 14 34 11 21 73 30 82 98 55]\n"
          ]
        }
      ],
      "source": [
        "x = np.random.randint(1, 100, size=10)\n",
        "print(x)"
      ]
    },
    {
      "cell_type": "code",
      "source": [
        "even_num = x % 2 == 0\n",
        "print(even_num)"
      ],
      "metadata": {
        "colab": {
          "base_uri": "https://localhost:8080/"
        },
        "id": "-IeI9rQM0qBP",
        "outputId": "a11a49ca-bd60-43f7-c2ff-8cc6842c1eca"
      },
      "execution_count": 83,
      "outputs": [
        {
          "output_type": "stream",
          "name": "stdout",
          "text": [
            "[False  True  True False False False  True  True  True False]\n"
          ]
        }
      ]
    },
    {
      "cell_type": "code",
      "source": [
        "x[even_num]"
      ],
      "metadata": {
        "colab": {
          "base_uri": "https://localhost:8080/"
        },
        "id": "njzRy5yx0vZD",
        "outputId": "8200dba6-df47-424b-c4ad-b41ec7898d50"
      },
      "execution_count": 84,
      "outputs": [
        {
          "output_type": "execute_result",
          "data": {
            "text/plain": [
              "array([14, 34, 30, 82, 98])"
            ]
          },
          "metadata": {},
          "execution_count": 84
        }
      ]
    },
    {
      "cell_type": "markdown",
      "metadata": {
        "id": "O2Tx3sJ7lkrL"
      },
      "source": [
        "### NumPy 연습문제 2"
      ]
    },
    {
      "cell_type": "code",
      "execution_count": null,
      "metadata": {
        "id": "lbxWgRBKlkrL"
      },
      "outputs": [],
      "source": []
    },
    {
      "cell_type": "markdown",
      "metadata": {
        "id": "yn5AWcT9lkrL"
      },
      "source": [
        "- #### $x > 30$ 인 원소 필터링"
      ]
    },
    {
      "cell_type": "code",
      "execution_count": 85,
      "metadata": {
        "id": "Evp68pUPlkrM",
        "colab": {
          "base_uri": "https://localhost:8080/"
        },
        "outputId": "b5778be6-3264-4fed-dfe9-fde5615e2f7d"
      },
      "outputs": [
        {
          "output_type": "stream",
          "name": "stdout",
          "text": [
            "[ True False  True False False  True False  True  True  True]\n"
          ]
        }
      ],
      "source": [
        "prac1  = x > 30\n",
        "print(prac1)"
      ]
    },
    {
      "cell_type": "markdown",
      "metadata": {
        "id": "9_m6ZnX2lkrM"
      },
      "source": [
        "- #### 짝수이고, $x < 50$ 인 원소 필터링"
      ]
    },
    {
      "cell_type": "code",
      "execution_count": 87,
      "metadata": {
        "id": "S_b9GjJSlkrM",
        "colab": {
          "base_uri": "https://localhost:8080/"
        },
        "outputId": "f955d703-5d11-4e9a-8634-f411a7b8c014"
      },
      "outputs": [
        {
          "output_type": "stream",
          "name": "stdout",
          "text": [
            "[False  True  True False False False  True False False False]\n"
          ]
        },
        {
          "output_type": "execute_result",
          "data": {
            "text/plain": [
              "array([14, 34, 30])"
            ]
          },
          "metadata": {},
          "execution_count": 87
        }
      ],
      "source": [
        "prac2 = (x % 2 == 0) & (x < 50)\n",
        "print(prac2)\n",
        "x[prac2]"
      ]
    },
    {
      "cell_type": "markdown",
      "metadata": {
        "id": "atMOQdBSlkrN"
      },
      "source": [
        "- #### $x < 50$ 이거나 $x > 80$인 원소 필터링"
      ]
    },
    {
      "cell_type": "code",
      "execution_count": 89,
      "metadata": {
        "id": "fodumV6GlkrO",
        "colab": {
          "base_uri": "https://localhost:8080/"
        },
        "outputId": "71812446-bdce-4eb3-a2df-8f879b30d2c4"
      },
      "outputs": [
        {
          "output_type": "execute_result",
          "data": {
            "text/plain": [
              "array([14, 34, 11, 21, 30, 82, 98])"
            ]
          },
          "metadata": {},
          "execution_count": 89
        }
      ],
      "source": [
        "prac3 = (x < 50) | (x > 80)\n",
        "x[prac3]"
      ]
    },
    {
      "cell_type": "markdown",
      "metadata": {
        "id": "cSQphy4llkrO"
      },
      "source": [
        "- ### csv 파일 불러오기"
      ]
    },
    {
      "cell_type": "code",
      "execution_count": null,
      "metadata": {
        "id": "gLYCnLSDlkrO"
      },
      "outputs": [],
      "source": []
    },
    {
      "cell_type": "markdown",
      "metadata": {
        "id": "2ggta-wclkrO"
      },
      "source": [
        "### NumPy 연습문제 3"
      ]
    },
    {
      "cell_type": "markdown",
      "metadata": {
        "id": "6yBvrVMLlkrP"
      },
      "source": [
        "- #### redwine 의 변수(열, column)별 평균값을 구하시오."
      ]
    },
    {
      "cell_type": "code",
      "execution_count": null,
      "metadata": {
        "id": "4p-Im3ghlkrP"
      },
      "outputs": [],
      "source": []
    },
    {
      "cell_type": "markdown",
      "metadata": {
        "id": "aU-n44MClkrP"
      },
      "source": [
        "- #### redwine 의 alcohol 평균값만 구하시오."
      ]
    },
    {
      "cell_type": "code",
      "execution_count": null,
      "metadata": {
        "id": "j8iEckkVlkrQ"
      },
      "outputs": [],
      "source": []
    },
    {
      "cell_type": "markdown",
      "metadata": {
        "id": "L5RzViCclkrQ"
      },
      "source": [
        "- #### alcohol이 9.5 이상인 와인은 몇 개인지 구하시오."
      ]
    },
    {
      "cell_type": "code",
      "execution_count": null,
      "metadata": {
        "id": "SaNAVC_YlkrQ"
      },
      "outputs": [],
      "source": []
    },
    {
      "cell_type": "markdown",
      "metadata": {
        "id": "TJqXlFetlkrR"
      },
      "source": [
        "- #### alcohol이 9.5 이상인 와인의 평균 alchol 값은 얼마인지 구하시오."
      ]
    },
    {
      "cell_type": "code",
      "execution_count": null,
      "metadata": {
        "id": "Sjm2nZLClkrR"
      },
      "outputs": [],
      "source": []
    },
    {
      "cell_type": "markdown",
      "metadata": {
        "id": "TG0-iqEUlkrR"
      },
      "source": [
        "### matplotlip으로 그래프 그리기(시각화)"
      ]
    },
    {
      "cell_type": "markdown",
      "metadata": {
        "id": "3cwGIiTNlkrT"
      },
      "source": [
        "- #### plot() 함수"
      ]
    },
    {
      "cell_type": "code",
      "source": [
        "import numpy as np\n",
        "import matplotlib.pyplot as plt\n",
        "%matplotlib inline"
      ],
      "metadata": {
        "id": "I566PeIxt2qX"
      },
      "execution_count": 2,
      "outputs": []
    },
    {
      "cell_type": "code",
      "source": [
        "np.random.seed(103)\n",
        "x = np.linspace(0, 10, 11)\n",
        "y = x*2 + np.random.rand(11)\n",
        "\n",
        "print(x)\n",
        "print(y)"
      ],
      "metadata": {
        "colab": {
          "base_uri": "https://localhost:8080/"
        },
        "id": "Yxv-kv1m5tlh",
        "outputId": "64b96a2d-1bc9-4dc3-c463-2f9b109467ee"
      },
      "execution_count": 4,
      "outputs": [
        {
          "output_type": "stream",
          "name": "stdout",
          "text": [
            "[ 0.  1.  2.  3.  4.  5.  6.  7.  8.  9. 10.]\n",
            "[ 0.43211121  2.17421526  4.17094369  6.82763225  8.58717126 10.45935375\n",
            " 12.82268476 14.82154811 16.30712025 18.20089438 20.40323246]\n"
          ]
        }
      ]
    },
    {
      "cell_type": "code",
      "source": [
        "plt.plot(x, y)\n",
        "plt.show()"
      ],
      "metadata": {
        "colab": {
          "base_uri": "https://localhost:8080/",
          "height": 430
        },
        "id": "SrHVKLXN544i",
        "outputId": "5fae0a9f-f541-44e1-837d-178893cd79c4"
      },
      "execution_count": 5,
      "outputs": [
        {
          "output_type": "display_data",
          "data": {
            "text/plain": [
              "<Figure size 640x480 with 1 Axes>"
            ],
            "image/png": "[encoded data removed]"
          },
          "metadata": {}
        }
      ]
    },
    {
      "cell_type": "markdown",
      "metadata": {
        "id": "3FRdzRaMlkrU"
      },
      "source": [
        "- #### scatter() 함수"
      ]
    },
    {
      "cell_type": "code",
      "execution_count": 6,
      "metadata": {
        "id": "L0ODw9GylkrU",
        "colab": {
          "base_uri": "https://localhost:8080/",
          "height": 430
        },
        "outputId": "f0673866-06b3-4489-93f1-d8a63d461376"
      },
      "outputs": [
        {
          "output_type": "display_data",
          "data": {
            "text/plain": [
              "<Figure size 640x480 with 1 Axes>"
            ],
            "image/png": "[encoded data removed]"
          },
          "metadata": {}
        }
      ],
      "source": [
        "plt.scatter(x, y)\n",
        "plt.show()"
      ]
    },
    {
      "cell_type": "markdown",
      "metadata": {
        "id": "ysySPk8MlkrU"
      },
      "source": [
        "- #### xlabel(), ylabel(), title(), grid(), xlim(), ylim()"
      ]
    },
    {
      "cell_type": "markdown",
      "source": [
        "- ##### matplotlip 한글 깨짐 현상 해결\n",
        "  - 다음 코드를 셀에 복사해 실행\n",
        "    - ```\n",
        "!sudo apt-get install -y fonts-nanum > /dev/null 2>&1\n",
        "!sudo fc-cache -fv > /dev/null 2>&1\n",
        "!rm ~/.cache/matplotlib -rf > /dev/null 2>&1\n",
        "```\n",
        "    - ```\n",
        "plt.rcParams['font.family'] = 'NanumBarunGothic' # 나눔바른고딕 적용하기\n",
        "```\n",
        "  - 실행 후 [런타임 > 런타임 다시 시작]"
      ],
      "metadata": {
        "id": "wG6zLMVMtZax"
      }
    },
    {
      "cell_type": "code",
      "execution_count": 96,
      "metadata": {
        "id": "2Ar87MCAlkrV",
        "colab": {
          "base_uri": "https://localhost:8080/"
        },
        "outputId": "6bc4b558-31e6-4ab8-e6a3-489f7dc2848c"
      },
      "outputs": [
        {
          "output_type": "stream",
          "name": "stdout",
          "text": [
            "^C\n"
          ]
        }
      ],
      "source": [
        "!sudo apt-get install -y fonts-nanum > /dev/null 2>&1\n",
        "!sudo fc-cache -fv > /dev/null 2>&1\n",
        "!rm ~/.cache/matplotlib -rf > /dev/null 2>&1"
      ]
    },
    {
      "cell_type": "code",
      "source": [
        "plt.rcParams['font.family'] = 'NanumBarunGothic' # 나눔바른고딕 적용하기"
      ],
      "metadata": {
        "id": "yOfdTI6e6p7Z"
      },
      "execution_count": 97,
      "outputs": []
    },
    {
      "cell_type": "code",
      "source": [
        "plt.xlabel(\"x label\")\n",
        "plt.ylabel(\"y label\")\n",
        "plt.title('x-y title')\n",
        "plt.plot(x, y)\n",
        "plt.show()"
      ],
      "metadata": {
        "colab": {
          "base_uri": "https://localhost:8080/",
          "height": 472
        },
        "id": "Wj-JpUej63vH",
        "outputId": "b6707849-0952-4a8d-d170-762ed5a9e219"
      },
      "execution_count": 8,
      "outputs": [
        {
          "output_type": "display_data",
          "data": {
            "text/plain": [
              "<Figure size 640x480 with 1 Axes>"
            ],
            "image/png": "[encoded data removed]"
          },
          "metadata": {}
        }
      ]
    },
    {
      "cell_type": "code",
      "source": [
        "plt.xlabel('x label')\n",
        "plt.ylabel(\"y label\")\n",
        "plt.title('x-y title')\n",
        "plt.grid(True)\n",
        "plt.plot(x, y)\n",
        "plt.show()"
      ],
      "metadata": {
        "colab": {
          "base_uri": "https://localhost:8080/",
          "height": 472
        },
        "id": "UXP-ByLC7O44",
        "outputId": "07303a61-c2a2-41b9-8c18-b4a2da22e841"
      },
      "execution_count": 11,
      "outputs": [
        {
          "output_type": "display_data",
          "data": {
            "text/plain": [
              "<Figure size 640x480 with 1 Axes>"
            ],
            "image/png": "[encoded data removed]"
          },
          "metadata": {}
        }
      ]
    },
    {
      "cell_type": "markdown",
      "metadata": {
        "id": "YwDBm-xllkrV"
      },
      "source": [
        "- #### hist() 함수"
      ]
    },
    {
      "cell_type": "code",
      "execution_count": 12,
      "metadata": {
        "id": "Zm13rbZvlkrW",
        "colab": {
          "base_uri": "https://localhost:8080/"
        },
        "outputId": "ad3fa0ce-c8f0-4236-c820-3801f5a0f792"
      },
      "outputs": [
        {
          "output_type": "stream",
          "name": "stdout",
          "text": [
            "[ 8 74 20 92 58 71 29 22 24 56 13 96 85 46 91 71 14 34 11 21 73 30 82 98\n",
            " 55  1 75 70 52 41 88 30  7 40 15 12 18 30 95 88 73 32 84 86  2 89 18 78\n",
            " 96 21 25 42 70 54 54 17 15 79 95 30 87 34 39 92 36 69 21 83 45 63 93 27\n",
            " 51 57 33  2 99 97 30  3 89 16 62 93 61 87 73 68 61 58  1 48 83 23 55 96\n",
            " 80  6 35 41]\n"
          ]
        }
      ],
      "source": [
        "np.random.seed(103)\n",
        "data = np.random.randint(1, 100, size=100)\n",
        "print(data)"
      ]
    },
    {
      "cell_type": "code",
      "source": [
        "plt.hist(data, bins=10, alpha=0.3)\n",
        "plt.grid(True)"
      ],
      "metadata": {
        "colab": {
          "base_uri": "https://localhost:8080/",
          "height": 430
        },
        "id": "qZMjbMCe7nFP",
        "outputId": "b6bb5c17-cd6f-4960-a43a-f5fe0a8afa78"
      },
      "execution_count": 13,
      "outputs": [
        {
          "output_type": "display_data",
          "data": {
            "text/plain": [
              "<Figure size 640x480 with 1 Axes>"
            ],
            "image/png": "[encoded data removed]"
          },
          "metadata": {}
        }
      ]
    },
    {
      "cell_type": "markdown",
      "metadata": {
        "id": "HW7Pt8cPlkrX"
      },
      "source": [
        "- #### plot() 함수의 파라미터"
      ]
    },
    {
      "cell_type": "code",
      "execution_count": 14,
      "metadata": {
        "id": "KVfXE6uQlkra",
        "colab": {
          "base_uri": "https://localhost:8080/"
        },
        "outputId": "0933ff63-275d-410f-9383-17d65befc3b1"
      },
      "outputs": [
        {
          "output_type": "stream",
          "name": "stdout",
          "text": [
            "[ 0.  1.  2.  3.  4.  5.  6.  7.  8.  9. 10.]\n",
            "[ 0.43211121  2.17421526  4.17094369  6.82763225  8.58717126 10.45935375\n",
            " 12.82268476 14.82154811 16.30712025 18.20089438 20.40323246]\n"
          ]
        }
      ],
      "source": [
        "np.random.seed(103)\n",
        "x = np.linspace(0, 10, 11)\n",
        "y = x*2 + np.random.rand(11)\n",
        "\n",
        "print(x)\n",
        "print(y)"
      ]
    },
    {
      "cell_type": "code",
      "source": [
        "plt.plot(x, y, 'r')"
      ],
      "metadata": {
        "colab": {
          "base_uri": "https://localhost:8080/",
          "height": 448
        },
        "id": "LXKZbty972Tz",
        "outputId": "8910413e-ada1-4c35-8b3e-d1043053fb56"
      },
      "execution_count": 15,
      "outputs": [
        {
          "output_type": "execute_result",
          "data": {
            "text/plain": [
              "[<matplotlib.lines.Line2D at 0x7f4dc08879d0>]"
            ]
          },
          "metadata": {},
          "execution_count": 15
        },
        {
          "output_type": "display_data",
          "data": {
            "text/plain": [
              "<Figure size 640x480 with 1 Axes>"
            ],
            "image/png": "[encoded data removed]"
          },
          "metadata": {}
        }
      ]
    },
    {
      "cell_type": "code",
      "source": [
        "plt.plot(x, y, 'red', linewidth=5)"
      ],
      "metadata": {
        "colab": {
          "base_uri": "https://localhost:8080/",
          "height": 448
        },
        "id": "RwSAHTKO74zH",
        "outputId": "bea1f12e-04c0-41aa-ab82-4e5ba706240f"
      },
      "execution_count": 16,
      "outputs": [
        {
          "output_type": "execute_result",
          "data": {
            "text/plain": [
              "[<matplotlib.lines.Line2D at 0x7f4dc0854fd0>]"
            ]
          },
          "metadata": {},
          "execution_count": 16
        },
        {
          "output_type": "display_data",
          "data": {
            "text/plain": [
              "<Figure size 640x480 with 1 Axes>"
            ],
            "image/png": "[encoded data removed]"
          },
          "metadata": {}
        }
      ]
    },
    {
      "cell_type": "code",
      "source": [
        "plt.plot(x, y, '--')"
      ],
      "metadata": {
        "colab": {
          "base_uri": "https://localhost:8080/",
          "height": 448
        },
        "id": "OUWZG5nl79xD",
        "outputId": "554fa69b-08e2-438e-8681-2f55bf6260e7"
      },
      "execution_count": 17,
      "outputs": [
        {
          "output_type": "execute_result",
          "data": {
            "text/plain": [
              "[<matplotlib.lines.Line2D at 0x7f4dc0445000>]"
            ]
          },
          "metadata": {},
          "execution_count": 17
        },
        {
          "output_type": "display_data",
          "data": {
            "text/plain": [
              "<Figure size 640x480 with 1 Axes>"
            ],
            "image/png": "[encoded data removed]"
          },
          "metadata": {}
        }
      ]
    },
    {
      "cell_type": "code",
      "source": [
        "plt.plot(x, y, '^')"
      ],
      "metadata": {
        "colab": {
          "base_uri": "https://localhost:8080/",
          "height": 448
        },
        "id": "4psM9wzM8CGE",
        "outputId": "f2418ec7-f125-4e3f-d730-eacf4169de42"
      },
      "execution_count": 18,
      "outputs": [
        {
          "output_type": "execute_result",
          "data": {
            "text/plain": [
              "[<matplotlib.lines.Line2D at 0x7f4dc03ed4b0>]"
            ]
          },
          "metadata": {},
          "execution_count": 18
        },
        {
          "output_type": "display_data",
          "data": {
            "text/plain": [
              "<Figure size 640x480 with 1 Axes>"
            ],
            "image/png": "[encoded data removed]"
          },
          "metadata": {}
        }
      ]
    },
    {
      "cell_type": "code",
      "source": [
        "plt.plot(x, y, color = 'gray',\n",
        "         linestyle='-', markerfacecolor='blue',\n",
        "         markersize=15)"
      ],
      "metadata": {
        "colab": {
          "base_uri": "https://localhost:8080/",
          "height": 448
        },
        "id": "jXIs6iSI8F1W",
        "outputId": "f052419f-f714-4ede-eb32-d058080fb151"
      },
      "execution_count": 21,
      "outputs": [
        {
          "output_type": "execute_result",
          "data": {
            "text/plain": [
              "[<matplotlib.lines.Line2D at 0x7f4dc06c0040>]"
            ]
          },
          "metadata": {},
          "execution_count": 21
        },
        {
          "output_type": "display_data",
          "data": {
            "text/plain": [
              "<Figure size 640x480 with 1 Axes>"
            ],
            "image/png": "[encoded data removed]"
          },
          "metadata": {}
        }
      ]
    },
    {
      "cell_type": "code",
      "source": [],
      "metadata": {
        "id": "FMeyykqG8atB"
      },
      "execution_count": null,
      "outputs": []
    },
    {
      "cell_type": "markdown",
      "metadata": {
        "id": "S5WTxcsklkra"
      },
      "source": [
        "- #### wine_red.csv 활용"
      ]
    },
    {
      "cell_type": "code",
      "execution_count": null,
      "metadata": {
        "collapsed": true,
        "id": "_SbwQF-Qlkra"
      },
      "outputs": [],
      "source": []
    }
  ],
  "metadata": {
    "kernelspec": {
      "display_name": "Python 3",
      "language": "python",
      "name": "python3"
    },
    "language_info": {
      "codemirror_mode": {
        "name": "ipython",
        "version": 3
      },
      "file_extension": ".py",
      "mimetype": "text/x-python",
      "name": "python",
      "nbconvert_exporter": "python",
      "pygments_lexer": "ipython3",
      "version": "3.7.6"
    },
    "colab": {
      "provenance": [],
      "include_colab_link": true
    }
  },
  "nbformat": 4,
  "nbformat_minor": 0
}