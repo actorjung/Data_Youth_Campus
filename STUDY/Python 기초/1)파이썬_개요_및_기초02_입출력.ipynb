{
  "cells": [
    {
      "cell_type": "markdown",
      "metadata": {
        "id": "view-in-github",
        "colab_type": "text"
      },
      "source": [
        "<a href=\"https://colab.research.google.com/github/morateng/2023_Data_Campus/blob/main/1)%ED%8C%8C%EC%9D%B4%EC%8D%AC_%EA%B0%9C%EC%9A%94_%EB%B0%8F_%EA%B8%B0%EC%B4%8802_%EC%9E%85%EC%B6%9C%EB%A0%A5.ipynb\" target=\"_parent\"><img src=\"https://colab.research.google.com/assets/colab-badge.svg\" alt=\"Open In Colab\"/></a>"
      ]
    },
    {
      "cell_type": "markdown",
      "source": [
        "## 입력과 출력"
      ],
      "metadata": {
        "id": "t--W7Xs0mor5"
      }
    },
    {
      "cell_type": "markdown",
      "metadata": {
        "id": "m2MrySF2xYA3"
      },
      "source": [
        "### 사용자 입력(input())\n",
        "  - 사용자로부터 데이터를 입력 받을 때 사용"
      ]
    },
    {
      "cell_type": "markdown",
      "metadata": {
        "id": "rtFfZOrNxYA8"
      },
      "source": [
        "- #### 사용자 입력 받기\n",
        "  - input() 함수 괄호 안에 입력한 내용을 '프롬프트 문자열'이라고 부름\n",
        "  - 사용자로부터 입력을 요구하는 내용 적기"
      ]
    },
    {
      "cell_type": "code",
      "source": [
        "# input() 함수 안에 사용자에게 요구하는 내용 적기\n",
        "input('이름을 입력하세요 : ')"
      ],
      "metadata": {
        "id": "eQlRzk-2gfTv",
        "colab": {
          "base_uri": "https://localhost:8080/",
          "height": 54
        },
        "outputId": "f3925893-d382-424a-f638-dc0845e80bfb"
      },
      "execution_count": 1,
      "outputs": [
        {
          "name": "stdout",
          "output_type": "stream",
          "text": [
            "이름을 입력하세요 : 강재훈\n"
          ]
        },
        {
          "output_type": "execute_result",
          "data": {
            "text/plain": [
              "'강재훈'"
            ],
            "application/vnd.google.colaboratory.intrinsic+json": {
              "type": "string"
            }
          },
          "metadata": {},
          "execution_count": 1
        }
      ]
    },
    {
      "cell_type": "markdown",
      "metadata": {
        "id": "nbZiAAO8xYA_"
      },
      "source": [
        "- #### 변수 대입\n",
        "  - input() 함수의 결과 값을 변수에 대입\n",
        "  - input() 함수는 사용자가 무엇을 입력해도 결과는 무조건 문자열 자료형\n"
      ]
    },
    {
      "cell_type": "code",
      "source": [
        "# input() 함수의 결과 값을 name 이라는 변수에 대입\n",
        "# name은 문자열로 입력을 받아서 데이터 타입은 문자열\n",
        "name = input('이름을 입력하세요: ')\n",
        "print(type(name))"
      ],
      "metadata": {
        "id": "MclUwbmwggF3",
        "colab": {
          "base_uri": "https://localhost:8080/"
        },
        "outputId": "9f408313-c164-4573-e172-2b5e45231b44"
      },
      "execution_count": 2,
      "outputs": [
        {
          "output_type": "stream",
          "name": "stdout",
          "text": [
            "이름을 입력하세요: 강재훈\n",
            "<class 'str'>\n"
          ]
        }
      ]
    },
    {
      "cell_type": "code",
      "source": [
        "# input() 함수의 결과 값을 number 이라는 변수에 대입\n",
        "# number에 숫자를 넣었지만 input() 함수는 사용자가 무엇을 입력해도 결과는 무조건 문자열 자료형\n",
        "number = input('숫자 입력: ')\n",
        "\n",
        "print(type(number))"
      ],
      "metadata": {
        "id": "wP6kMF5YgiOS",
        "colab": {
          "base_uri": "https://localhost:8080/"
        },
        "outputId": "3a710deb-70b8-45d4-a533-7db08e28ed06"
      },
      "execution_count": 3,
      "outputs": [
        {
          "output_type": "stream",
          "name": "stdout",
          "text": [
            "숫자 입력: 10\n",
            "<class 'str'>\n"
          ]
        }
      ]
    },
    {
      "cell_type": "markdown",
      "source": [
        "- #### 숫자로 변환\n",
        "  - int() : 숫자(정수)로 변환\n",
        "  - float() : 숫자(실수)로 변환"
      ],
      "metadata": {
        "id": "g_Se5Aqshh2e"
      }
    },
    {
      "cell_type": "code",
      "source": [
        "# input() 함수의 결과는 항상 문자열 자료형\n",
        "# int() 함수를 이용하여 숫자로 변환\n",
        "# string1, string2 변수의 타입은 문자열 자료형\n",
        "# int1, int2 변수의 타입은 숫자 자료형\n",
        "string1 = input('첫번째 숫자: ')\n",
        "int1 = int(string1)\n",
        "\n",
        "string2 = input('두번째 숫자: ')\n",
        "int2 = int(string2)"
      ],
      "metadata": {
        "id": "wIOCPaP0h_Nd",
        "colab": {
          "base_uri": "https://localhost:8080/"
        },
        "outputId": "58f8cec4-deeb-4dae-e067-b9e7c7bf179d"
      },
      "execution_count": 4,
      "outputs": [
        {
          "name": "stdout",
          "output_type": "stream",
          "text": [
            "첫번째 숫자: 1\n",
            "두번째 숫자: 2\n"
          ]
        }
      ]
    },
    {
      "cell_type": "code",
      "source": [
        "# 문자열 덧셈이라서 12(숫자가 아닌 문자열)출력\n",
        "print(string1 + string2)"
      ],
      "metadata": {
        "id": "jvMpM2kwiPLj",
        "colab": {
          "base_uri": "https://localhost:8080/"
        },
        "outputId": "3957a843-1ce0-42e6-92dd-3e050187a6ef"
      },
      "execution_count": 5,
      "outputs": [
        {
          "output_type": "stream",
          "name": "stdout",
          "text": [
            "12\n"
          ]
        }
      ]
    },
    {
      "cell_type": "code",
      "source": [
        "# 숫자 덧셈이라서 1+2인 3(숫자) 출력\n",
        "print(int1 + int2)"
      ],
      "metadata": {
        "id": "cy5-QrOjiQrR",
        "colab": {
          "base_uri": "https://localhost:8080/"
        },
        "outputId": "768bfbe3-c5e2-410f-e77b-ba11754f7f3f"
      },
      "execution_count": 6,
      "outputs": [
        {
          "output_type": "stream",
          "name": "stdout",
          "text": [
            "3\n"
          ]
        }
      ]
    },
    {
      "cell_type": "markdown",
      "source": [
        "- #### 문자열로 변환(str())"
      ],
      "metadata": {
        "id": "BzE2x6ufhy8X"
      }
    },
    {
      "cell_type": "code",
      "source": [
        "# str() 함수를 이용하여 문자열로 변환\n",
        "int1 =123\n",
        "print(int1)\n",
        "print(type(int1))\n",
        "\n",
        "str1 = str(int1)\n",
        "print(str1)\n",
        "print(type(str1))"
      ],
      "metadata": {
        "id": "5igVCtsEhyD4",
        "colab": {
          "base_uri": "https://localhost:8080/"
        },
        "outputId": "c3699359-9d93-4be8-8140-80b0f10d53e0"
      },
      "execution_count": 7,
      "outputs": [
        {
          "output_type": "stream",
          "name": "stdout",
          "text": [
            "123\n",
            "<class 'int'>\n",
            "123\n",
            "<class 'str'>\n"
          ]
        }
      ]
    },
    {
      "cell_type": "markdown",
      "source": [
        "### 출력(print())"
      ],
      "metadata": {
        "id": "2POS4YmokgpU"
      }
    },
    {
      "cell_type": "markdown",
      "source": [
        "- #### 큰 따옴표와 더하기"
      ],
      "metadata": {
        "id": "_CnztG5xlSBT"
      }
    },
    {
      "cell_type": "code",
      "source": [
        "# 큰 따옴표(\")로 둘러싸인 문자열은 + 연산과 동일\n",
        "# 큰 따옴표(\")로 둘러싸인 문자열\n",
        "# + 연산으로 사용한 문자열\n",
        "print(\"파이썬\" \"프로그래밍\" \"수업\")\n",
        "print(\"파이썬\"+\"프로그래밍\"+\"수업\")"
      ],
      "metadata": {
        "id": "UwSeJEeVkf1l",
        "colab": {
          "base_uri": "https://localhost:8080/"
        },
        "outputId": "7aec2ea8-a6a3-467a-feb1-5c736e4a0e7f"
      },
      "execution_count": 8,
      "outputs": [
        {
          "output_type": "stream",
          "name": "stdout",
          "text": [
            "파이썬프로그래밍수업\n",
            "파이썬프로그래밍수업\n"
          ]
        }
      ]
    },
    {
      "cell_type": "markdown",
      "source": [
        "- #### 콤마"
      ],
      "metadata": {
        "id": "wK29dooilWL3"
      }
    },
    {
      "cell_type": "code",
      "source": [
        "# 문자열 띄어쓰기는 콤마 사용\n",
        "print('파이썬', '프로그래밍', '수업')"
      ],
      "metadata": {
        "id": "6_pD2D-4lVcn",
        "colab": {
          "base_uri": "https://localhost:8080/"
        },
        "outputId": "ff9a77f7-3b0c-427d-b92f-aa4de8be18d3"
      },
      "execution_count": 9,
      "outputs": [
        {
          "output_type": "stream",
          "name": "stdout",
          "text": [
            "파이썬 프로그래밍 수업\n"
          ]
        }
      ]
    },
    {
      "cell_type": "markdown",
      "metadata": {
        "id": "moHnZo6pxYBB"
      },
      "source": [
        "## 파일 입출력"
      ]
    },
    {
      "cell_type": "markdown",
      "source": [
        "### 파일 열기(open())\n",
        "  - 파일 객체 = open(파일 경로, 파일 열기 모드)\n",
        "  - open() 함수의 매개변수\n",
        "    - 파일 경로(path)\n",
        "    - 파일 열기 모드(mode)"
      ],
      "metadata": {
        "id": "Rp6CAfmYm-NL"
      }
    },
    {
      "cell_type": "code",
      "source": [
        "# 파일 열기\n",
        "# 왼쪽 파일 메뉴에 \"python.txt\" 생성된 걸 확인\n",
        "# w : write 모드(쓰기 모드, 파일에 내용을 쓸 때 사용)\n",
        "myfile = open('python.txt', 'w')"
      ],
      "metadata": {
        "id": "c_xf_zM_m9kl"
      },
      "execution_count": 10,
      "outputs": []
    },
    {
      "cell_type": "markdown",
      "metadata": {
        "id": "ucFKqCCpxYBD"
      },
      "source": [
        "### 파일 쓰기(write())\n",
        "  - 파일객체.write(\"문자열\")"
      ]
    },
    {
      "cell_type": "code",
      "source": [
        "myfile.write('Programming')"
      ],
      "metadata": {
        "colab": {
          "base_uri": "https://localhost:8080/"
        },
        "id": "cjbpxVMQc9Yi",
        "outputId": "8701d4dd-857b-445c-9439-d5be6afddeac"
      },
      "execution_count": 11,
      "outputs": [
        {
          "output_type": "execute_result",
          "data": {
            "text/plain": [
              "11"
            ]
          },
          "metadata": {},
          "execution_count": 11
        }
      ]
    },
    {
      "cell_type": "markdown",
      "source": [
        "### 파일 닫기(close())"
      ],
      "metadata": {
        "id": "ZhQ5MX9rqrU0"
      }
    },
    {
      "cell_type": "code",
      "execution_count": 12,
      "metadata": {
        "id": "MOCgyqKXxYBD"
      },
      "outputs": [],
      "source": [
        "# 파일 열고 쓰고 닫기\n",
        "myfile.close()"
      ]
    },
    {
      "cell_type": "markdown",
      "source": [
        "### 파일 읽기(read)\n",
        "  - readline() : 텍스트 한 줄씩 읽어서 반환\n",
        "  - readlines() : 파일의 모든 줄을 읽어서 각각의 줄을 리스트로 반환\n",
        "  - strip() : 줄 바꿈(\\n) 문자 제거"
      ],
      "metadata": {
        "id": "qVgSLcScrxlA"
      }
    },
    {
      "cell_type": "code",
      "metadata": {
        "id": "nWLzgQZ1VCvz"
      },
      "source": [
        "# 2줄의 내용을 가진 파일 열고 쓰고 닫기\n",
        "myfile = open('python_read.txt', 'w')\n",
        "myfile.write('Programming\\n hello!')\n",
        "myfile.close()"
      ],
      "execution_count": 13,
      "outputs": []
    },
    {
      "cell_type": "code",
      "metadata": {
        "id": "aYyuaKi5enkx"
      },
      "source": [
        "# 만들어 놓은 Python_read.txt 파일을 읽기 모드로 열기\n",
        "read_file = open('python_read.txt', 'r')"
      ],
      "execution_count": 14,
      "outputs": []
    },
    {
      "cell_type": "code",
      "metadata": {
        "id": "jG2kNhQGf7JZ",
        "colab": {
          "base_uri": "https://localhost:8080/"
        },
        "outputId": "592f8567-f51d-4bba-84e9-a8db5cdd3e34"
      },
      "source": [
        "# readline() : 텍스트 한 줄씩 읽어서 반환\n",
        "# 한 줄 씩 읽어 출력할 때 줄 끝에 \\n 문자가 있다면 빈 줄도 같이 출력됨\n",
        "# 출력할 때마다 한 줄 씩 내려가서 출력됨\n",
        "# 한 번 실행하면 \"Programming! \\n\", 두 번 실행하면 \"Hello\" 출력\n",
        "text = read_file.readline()\n",
        "print(text)"
      ],
      "execution_count": 16,
      "outputs": [
        {
          "output_type": "stream",
          "name": "stdout",
          "text": [
            " hello!\n"
          ]
        }
      ]
    },
    {
      "cell_type": "code",
      "metadata": {
        "id": "w4YDKIW3hOMP"
      },
      "source": [
        "# 만들어 놓은 Python_read.txt 파일을 읽기 모드로 열기\n",
        "read_file = open('python_read.txt', 'r')"
      ],
      "execution_count": 17,
      "outputs": []
    },
    {
      "cell_type": "code",
      "metadata": {
        "id": "b4siO4_BfYug",
        "colab": {
          "base_uri": "https://localhost:8080/"
        },
        "outputId": "8a8676a6-3867-4a4e-d0da-b407ca63912a"
      },
      "source": [
        "# readlines() : 파일의 모든 줄을 읽어서 각각의 줄을 리스트로 반환\n",
        "all_text = read_file.readlines()\n",
        "print(all_text)"
      ],
      "execution_count": 18,
      "outputs": [
        {
          "output_type": "stream",
          "name": "stdout",
          "text": [
            "['Programming\\n', ' hello!']\n"
          ]
        }
      ]
    },
    {
      "cell_type": "code",
      "metadata": {
        "id": "NEEQK9X0hvtw"
      },
      "source": [
        "# 만들어 놓은 Python_read.txt 파일을 읽기 모드로 열기\n",
        "read_file = open('python_read.txt', 'r')"
      ],
      "execution_count": 20,
      "outputs": []
    },
    {
      "cell_type": "code",
      "metadata": {
        "id": "hzCFlvD2hrQo",
        "colab": {
          "base_uri": "https://localhost:8080/"
        },
        "outputId": "40815df9-fde3-4948-8947-3f8e27643608"
      },
      "source": [
        "# strip() : 줄 바꿈(\\n) 문자 제거\n",
        "text_strip = read_file.readline().strip()\n",
        "print(text_strip)"
      ],
      "execution_count": 24,
      "outputs": [
        {
          "output_type": "stream",
          "name": "stdout",
          "text": [
            "\n"
          ]
        }
      ]
    },
    {
      "cell_type": "code",
      "source": [],
      "metadata": {
        "id": "FaC2SuJUnrzR"
      },
      "execution_count": null,
      "outputs": []
    }
  ],
  "metadata": {
    "kernelspec": {
      "display_name": "Python 3",
      "language": "python",
      "name": "python3"
    },
    "language_info": {
      "codemirror_mode": {
        "name": "ipython",
        "version": 3
      },
      "file_extension": ".py",
      "mimetype": "text/x-python",
      "name": "python",
      "nbconvert_exporter": "python",
      "pygments_lexer": "ipython3",
      "version": "3.7.6"
    },
    "colab": {
      "provenance": [],
      "include_colab_link": true
    }
  },
  "nbformat": 4,
  "nbformat_minor": 0
}