{
  "cells": [
    {
      "cell_type": "markdown",
      "metadata": {
        "id": "view-in-github",
        "colab_type": "text"
      },
      "source": [
        "<a href=\"https://colab.research.google.com/github/morateng/2023_Data_Campus/blob/main/1)%ED%8C%8C%EC%9D%B4%EC%8D%AC_%EA%B0%9C%EC%9A%94_%EB%B0%8F_%EA%B8%B0%EC%B4%8801_%EB%B3%80%EC%88%98%EC%99%80_%EC%9E%90%EB%A3%8C%ED%98%95.ipynb\" target=\"_parent\"><img src=\"https://colab.research.google.com/assets/colab-badge.svg\" alt=\"Open In Colab\"/></a>"
      ]
    },
    {
      "cell_type": "markdown",
      "metadata": {
        "id": "m2MrySF2xYA3"
      },
      "source": [
        "## 변수의 이해\n",
        "  #### 변수: 데이터 또는 자료를 담을 수 있는 메모리의 저장장소"
      ]
    },
    {
      "cell_type": "markdown",
      "metadata": {
        "id": "rtFfZOrNxYA8"
      },
      "source": [
        "- #### 변수 선언\n",
        "  #### =(대입연산자)를 사용해서 왼쪽은 변수명, 오른족은 데이터가 위치함\n",
        "    - 하나의 변수에 하나의 값을 대입\n",
        "    - 두개의 변수에 같은 값을 대입\n",
        "    - 변수에 변수를 대입"
      ]
    },
    {
      "cell_type": "markdown",
      "metadata": {
        "id": "nbZiAAO8xYA_"
      },
      "source": [
        "- ##### 주석(comment)\n",
        "    - 코드에서 # 뒷 부분은 실행되지 않음\n",
        "    - Python이 코드를 실행하면서 #은 무시\n",
        "    - 사람이 보기 위한 용도로 사용"
      ]
    },
    {
      "cell_type": "code",
      "execution_count": 1,
      "metadata": {
        "id": "5WezFBZWxYA9"
      },
      "outputs": [],
      "source": [
        "# 변수 선언\n",
        "# 하나의 변수에 하나의 값을 대입\n",
        "a = 1\n",
        "b = 2"
      ]
    },
    {
      "cell_type": "code",
      "source": [
        "# 두개의 변수에 같은 값을 대입\n",
        "a = b = 1"
      ],
      "metadata": {
        "id": "L0kY9FLly9iQ"
      },
      "execution_count": 4,
      "outputs": []
    },
    {
      "cell_type": "code",
      "source": [
        "# 변수에 변수를 대입\n",
        "a = 1\n",
        "b = a  #1"
      ],
      "metadata": {
        "id": "naMD6VFoy9sM"
      },
      "execution_count": 5,
      "outputs": []
    },
    {
      "cell_type": "code",
      "source": [
        "# 변수 선언\n",
        "A = 2\n",
        "b = 10.2\n",
        "c = '사과'"
      ],
      "metadata": {
        "id": "PkZSDrnfzW4T"
      },
      "execution_count": 6,
      "outputs": []
    },
    {
      "cell_type": "markdown",
      "metadata": {
        "id": "moHnZo6pxYBB"
      },
      "source": [
        "- #### print() 함수\n",
        "    - sep : 구분자, 출력할 변수 사이에서 구별하는 역할\n",
        "    - end : 마지막에 출력할 문자열"
      ]
    },
    {
      "cell_type": "code",
      "execution_count": 7,
      "metadata": {
        "id": "NqK9bZBFxYBC",
        "colab": {
          "base_uri": "https://localhost:8080/"
        },
        "outputId": "ce8e1d44-2b10-4c3b-c7ae-05991fa6a226"
      },
      "outputs": [
        {
          "output_type": "stream",
          "name": "stdout",
          "text": [
            "2\n",
            "10.2\n",
            "사과\n"
          ]
        }
      ],
      "source": [
        "# 변수 출력\n",
        "print(A)\n",
        "print(b)\n",
        "print(c)"
      ]
    },
    {
      "cell_type": "code",
      "source": [
        "# 변수 출력 연습\n",
        "print(A, b, c)\n",
        "\n",
        "print(A, b, 50, 100, c)"
      ],
      "metadata": {
        "id": "ynAIDshfztID",
        "colab": {
          "base_uri": "https://localhost:8080/"
        },
        "outputId": "773f0d54-9c38-4f39-eec9-2e0dcdcd749e"
      },
      "execution_count": 8,
      "outputs": [
        {
          "output_type": "stream",
          "name": "stdout",
          "text": [
            "2 10.2 사과\n",
            "2 10.2 50 100 사과\n"
          ]
        }
      ]
    },
    {
      "cell_type": "code",
      "source": [
        "print(c, b, sep=',', end=\"%\\n\")\n",
        "\n",
        "print('hello', end = \"^^\")\n",
        "print(\"nice to meet you\")"
      ],
      "metadata": {
        "id": "KK8nZDiX0Gj8",
        "colab": {
          "base_uri": "https://localhost:8080/"
        },
        "outputId": "e177fd31-e7ae-4b78-fbf5-e97e2c05dbdc"
      },
      "execution_count": 13,
      "outputs": [
        {
          "output_type": "stream",
          "name": "stdout",
          "text": [
            "사과,10.2%\n",
            "hello^^nice to meet you\n"
          ]
        }
      ]
    },
    {
      "cell_type": "markdown",
      "metadata": {
        "id": "ucFKqCCpxYBD"
      },
      "source": [
        "- #### 변수 이름 규칙"
      ]
    },
    {
      "cell_type": "code",
      "execution_count": 14,
      "metadata": {
        "id": "MOCgyqKXxYBD"
      },
      "outputs": [],
      "source": [
        "test_data = 10"
      ]
    },
    {
      "cell_type": "code",
      "execution_count": 15,
      "metadata": {
        "id": "b0cHLu5fxYBE"
      },
      "outputs": [],
      "source": [
        "asdwfqed = 3"
      ]
    },
    {
      "cell_type": "code",
      "execution_count": 18,
      "metadata": {
        "id": "n-BXolECxYBF"
      },
      "outputs": [],
      "source": [
        "# class = 100  # 예약어 사용 X\n",
        "_class = 100\n",
        "Class = 100"
      ]
    },
    {
      "cell_type": "markdown",
      "metadata": {
        "id": "QZ5IbSWXxYBF"
      },
      "source": [
        "## 데이터 타입\n",
        "  #### 정수 (int), 실수 (float), 문자열 (str), 불리언 (boolean) 등이 있음"
      ]
    },
    {
      "cell_type": "markdown",
      "metadata": {
        "id": "9r5OPca3xYBF"
      },
      "source": [
        "- #### type() 함수\n",
        "    - 해당 변수, 데이터의 타입(type)을 알고자 할 때 사용"
      ]
    },
    {
      "cell_type": "code",
      "execution_count": 19,
      "metadata": {
        "id": "oVGYAKQCxYBG",
        "colab": {
          "base_uri": "https://localhost:8080/"
        },
        "outputId": "ca279ae0-bc69-42fc-9bf1-b8532e3d0bd0"
      },
      "outputs": [
        {
          "output_type": "stream",
          "name": "stdout",
          "text": [
            "<class 'int'>\n",
            "<class 'float'>\n",
            "<class 'str'>\n"
          ]
        }
      ],
      "source": [
        "# type() 함수\n",
        "a = 2\n",
        "b = 10.2\n",
        "c = '사과'\n",
        "\n",
        "print(type(a))\n",
        "print(type(b))\n",
        "print(type(c))"
      ]
    },
    {
      "cell_type": "markdown",
      "metadata": {
        "id": "Y_mgSacExYBG"
      },
      "source": [
        "- #### None\n",
        "    - 아무런 값을 갖지 않을 때 사용"
      ]
    },
    {
      "cell_type": "code",
      "execution_count": 21,
      "metadata": {
        "id": "gtqiHwzRxYBG",
        "colab": {
          "base_uri": "https://localhost:8080/"
        },
        "outputId": "5b8e0fcd-6a1a-437c-c52f-9436c0af768d"
      },
      "outputs": [
        {
          "output_type": "stream",
          "name": "stdout",
          "text": [
            "None\n",
            "<class 'NoneType'>\n"
          ]
        }
      ],
      "source": [
        "x = None\n",
        "print(x)\n",
        "print(type(x))"
      ]
    },
    {
      "cell_type": "markdown",
      "metadata": {
        "id": "yM0pll4MxYBH"
      },
      "source": [
        "### 숫자형 데이터 타입\n",
        "- #### 산술 연산자"
      ]
    },
    {
      "cell_type": "code",
      "execution_count": 22,
      "metadata": {
        "id": "zUa08hsjxYBH"
      },
      "outputs": [],
      "source": [
        "# a, b 변수 선언\n",
        "a = 7\n",
        "b = 4"
      ]
    },
    {
      "cell_type": "code",
      "source": [
        "# 사칙연산\n",
        "print(a + b)\n",
        "print(a - b)\n",
        "print(a * b)\n",
        "print(a / b)"
      ],
      "metadata": {
        "id": "rTQs3K864-mi",
        "colab": {
          "base_uri": "https://localhost:8080/"
        },
        "outputId": "0fa40491-ef70-4a42-8158-2f94ac257c7b"
      },
      "execution_count": 23,
      "outputs": [
        {
          "output_type": "stream",
          "name": "stdout",
          "text": [
            "11\n",
            "3\n",
            "28\n",
            "1.75\n"
          ]
        }
      ]
    },
    {
      "cell_type": "code",
      "source": [
        "# 제곱 연산\n",
        "print(a**b)"
      ],
      "metadata": {
        "id": "Wzj6Cf205DqQ",
        "colab": {
          "base_uri": "https://localhost:8080/"
        },
        "outputId": "c3925369-b569-45c1-cf19-8bcfed2b20fc"
      },
      "execution_count": 24,
      "outputs": [
        {
          "output_type": "stream",
          "name": "stdout",
          "text": [
            "2401\n"
          ]
        }
      ]
    },
    {
      "cell_type": "code",
      "source": [
        "# 몫, 나머지 연산\n",
        "print(a // b)\n",
        "print(a % b)"
      ],
      "metadata": {
        "id": "SBnvhfp55UYM",
        "colab": {
          "base_uri": "https://localhost:8080/"
        },
        "outputId": "abc92062-cb67-40b3-e2f6-77bff033829b"
      },
      "execution_count": 25,
      "outputs": [
        {
          "output_type": "stream",
          "name": "stdout",
          "text": [
            "1\n",
            "3\n"
          ]
        }
      ]
    },
    {
      "cell_type": "code",
      "source": [
        "# 정수형 변환\n",
        "print(int(-1.2))\n",
        "print(int(1.2))"
      ],
      "metadata": {
        "id": "90Hl0yBK5fS_",
        "colab": {
          "base_uri": "https://localhost:8080/"
        },
        "outputId": "fb59c757-532f-4b29-c1ae-f3c0787d8368"
      },
      "execution_count": 26,
      "outputs": [
        {
          "output_type": "stream",
          "name": "stdout",
          "text": [
            "-1\n",
            "1\n"
          ]
        }
      ]
    },
    {
      "cell_type": "code",
      "source": [
        "#실수형 변환\n",
        "print(5)\n",
        "print(float(5))"
      ],
      "metadata": {
        "id": "we3dDFcB5m9S",
        "colab": {
          "base_uri": "https://localhost:8080/"
        },
        "outputId": "3f88eaa6-4b07-4ecf-e969-8fd834c2777d"
      },
      "execution_count": 27,
      "outputs": [
        {
          "output_type": "stream",
          "name": "stdout",
          "text": [
            "5\n",
            "5.0\n"
          ]
        }
      ]
    },
    {
      "cell_type": "code",
      "source": [
        "# 절대값 출력\n",
        "print(abs(-6.2))"
      ],
      "metadata": {
        "id": "XCRTUu_Z4og1",
        "colab": {
          "base_uri": "https://localhost:8080/"
        },
        "outputId": "7c7662ea-75fa-4b2d-d7c6-a3ce3440e251"
      },
      "execution_count": 28,
      "outputs": [
        {
          "output_type": "stream",
          "name": "stdout",
          "text": [
            "6.2\n"
          ]
        }
      ]
    },
    {
      "cell_type": "code",
      "source": [
        "# 제곱 출력\n",
        "print(pow(4, 2))"
      ],
      "metadata": {
        "id": "a_-CFrKl6AKO",
        "colab": {
          "base_uri": "https://localhost:8080/"
        },
        "outputId": "01c1c84e-0434-4129-9894-e0d83c43f1b8"
      },
      "execution_count": 29,
      "outputs": [
        {
          "output_type": "stream",
          "name": "stdout",
          "text": [
            "16\n"
          ]
        }
      ]
    },
    {
      "cell_type": "markdown",
      "metadata": {
        "id": "MlL7G_4GxYBH"
      },
      "source": [
        "- #### 비교(관계) 연산자"
      ]
    },
    {
      "cell_type": "code",
      "execution_count": null,
      "metadata": {
        "id": "GeYs3ehPxYBI"
      },
      "outputs": [],
      "source": [
        "# a, b 변수 선언\n",
        "a = 7\n",
        "b = 4"
      ]
    },
    {
      "cell_type": "code",
      "source": [
        "# 같다, 다르다 비교\n",
        "print(a == b) # False\n",
        "print(a != b) # True"
      ],
      "metadata": {
        "id": "e3b2jOL382Lo",
        "colab": {
          "base_uri": "https://localhost:8080/"
        },
        "outputId": "d1fc7ec5-438a-455a-8f3b-5708dbc280cf"
      },
      "execution_count": 30,
      "outputs": [
        {
          "output_type": "stream",
          "name": "stdout",
          "text": [
            "False\n",
            "True\n"
          ]
        }
      ]
    },
    {
      "cell_type": "code",
      "source": [
        "# 크다, 작다 비교\n",
        "print(a>b)\n",
        "print(a<b)\n",
        "print(a>=b)\n",
        "print(a<=b)"
      ],
      "metadata": {
        "id": "uu8wpL1X87le",
        "colab": {
          "base_uri": "https://localhost:8080/"
        },
        "outputId": "d63783a4-780b-4e12-f79e-a35d7d4b929d"
      },
      "execution_count": 31,
      "outputs": [
        {
          "output_type": "stream",
          "name": "stdout",
          "text": [
            "True\n",
            "False\n",
            "True\n",
            "False\n"
          ]
        }
      ]
    },
    {
      "cell_type": "markdown",
      "metadata": {
        "id": "sYkP5AoIxYBI"
      },
      "source": [
        "### 문자형 데이터 타입"
      ]
    },
    {
      "cell_type": "code",
      "execution_count": 32,
      "metadata": {
        "id": "1Jfhl0zcxYBJ",
        "colab": {
          "base_uri": "https://localhost:8080/"
        },
        "outputId": "9e9130da-658b-4f6b-f232-c36e2905cdde"
      },
      "outputs": [
        {
          "output_type": "stream",
          "name": "stdout",
          "text": [
            "Giant Pengsoo\n",
            "Giant Pengsoo\n"
          ]
        }
      ],
      "source": [
        "# 큰따옴표, 작은따옴표를 이용해 문자열 만들기\n",
        "a = 'Giant Pengsoo'\n",
        "b = \"Giant Pengsoo\"\n",
        "\n",
        "print(a)\n",
        "print(b)"
      ]
    },
    {
      "cell_type": "code",
      "source": [
        "# 문자열 안에 작은따옴표 넣기\n",
        "a = \"I'm Pengsoo\"\n",
        "\n",
        "print(a)"
      ],
      "metadata": {
        "id": "2cGhNc4u9uSG",
        "colab": {
          "base_uri": "https://localhost:8080/"
        },
        "outputId": "20c880e8-f845-4632-d560-40eaadb8d1b5"
      },
      "execution_count": 33,
      "outputs": [
        {
          "output_type": "stream",
          "name": "stdout",
          "text": [
            "I'm Pengsoo\n"
          ]
        }
      ]
    },
    {
      "cell_type": "code",
      "execution_count": 34,
      "metadata": {
        "id": "3CDQ8eGjxYBJ",
        "colab": {
          "base_uri": "https://localhost:8080/"
        },
        "outputId": "695109e3-3528-4d96-9330-37bbc4f509c1"
      },
      "outputs": [
        {
          "output_type": "stream",
          "name": "stdout",
          "text": [
            "Giant Pengsoo,\n",
            "\n",
            "\n",
            "Peng-ha\n"
          ]
        }
      ],
      "source": [
        "# 여러줄 문자열 만들기\n",
        "c = \"\"\"Giant Pengsoo,\n",
        "\n",
        "\n",
        "Peng-ha\"\"\"\n",
        "\n",
        "print(c)"
      ]
    },
    {
      "cell_type": "code",
      "source": [
        "# 여러줄 문자열 만들기\n",
        "d = '''Giant Pengsoo,\n",
        "Peng-ha'''\n",
        "\n",
        "print(d)"
      ],
      "metadata": {
        "id": "NGHqHm_H-E4H",
        "colab": {
          "base_uri": "https://localhost:8080/"
        },
        "outputId": "4456076a-f1e5-4677-930d-fdd84c53bbf9"
      },
      "execution_count": 35,
      "outputs": [
        {
          "output_type": "stream",
          "name": "stdout",
          "text": [
            "Giant Pengsoo,\n",
            "Peng-ha\n"
          ]
        }
      ]
    },
    {
      "cell_type": "markdown",
      "metadata": {
        "id": "HFYWtTN9xYBK"
      },
      "source": [
        "- #### 이스케이프 문자"
      ]
    },
    {
      "cell_type": "code",
      "source": [
        "# 이스케이프 문자를 이용해 문자열 만들기\n",
        "# 이스케이프 문자 : 일부 문자의 의미를 달리하여 특정한 효과를 주는것\n",
        "\n",
        "print(\"Giant Pengsoo\\n\\n\")\n",
        "print(\"peng\\t-ha\")"
      ],
      "metadata": {
        "id": "dbVAUYlE-W6C",
        "colab": {
          "base_uri": "https://localhost:8080/"
        },
        "outputId": "17426cc1-8896-4e81-d4d7-1d385ba320dc"
      },
      "execution_count": 36,
      "outputs": [
        {
          "output_type": "stream",
          "name": "stdout",
          "text": [
            "Giant Pengsoo\n",
            "\n",
            "\n",
            "peng\t-ha\n"
          ]
        }
      ]
    },
    {
      "cell_type": "code",
      "execution_count": 37,
      "metadata": {
        "id": "HuXGRraXxYBK",
        "colab": {
          "base_uri": "https://localhost:8080/"
        },
        "outputId": "60558eda-9a47-4443-f63b-0f002d4fae70"
      },
      "outputs": [
        {
          "output_type": "stream",
          "name": "stdout",
          "text": [
            "Pengsoo는 'peng-ha' 인사를 한다\n"
          ]
        }
      ],
      "source": [
        "print('Pengsoo는 \\'peng-ha\\' 인사를 한다')"
      ]
    },
    {
      "cell_type": "markdown",
      "source": [
        "- #### 문자열 연산\n",
        "    - 문자열 연결 연산자 : +\n",
        "    - 문자열 반복 연산자 : *"
      ],
      "metadata": {
        "id": "86rMLVh7AFBt"
      }
    },
    {
      "cell_type": "code",
      "source": [
        "# + 문자열 연결 연산자\n",
        "a = \"파이썬\"\n",
        "b = \"개요 및 기초\"\n",
        "\n",
        "print(a+b)"
      ],
      "metadata": {
        "id": "SmY-usvgANNy",
        "colab": {
          "base_uri": "https://localhost:8080/"
        },
        "outputId": "3d57c4e0-1e31-4784-86f3-93ff291fdc69"
      },
      "execution_count": 38,
      "outputs": [
        {
          "output_type": "stream",
          "name": "stdout",
          "text": [
            "파이썬개요 및 기초\n"
          ]
        }
      ]
    },
    {
      "cell_type": "code",
      "source": [
        "# * 문자열 연결 연산자\n",
        "c = \"안녕\" * 3\n",
        "\n",
        "print(c)"
      ],
      "metadata": {
        "id": "3AuWH-fsAqg6",
        "colab": {
          "base_uri": "https://localhost:8080/"
        },
        "outputId": "5aaf5a4c-82f1-4c38-9edc-798cc112bab0"
      },
      "execution_count": 40,
      "outputs": [
        {
          "output_type": "stream",
          "name": "stdout",
          "text": [
            "안녕안녕안녕\n"
          ]
        }
      ]
    },
    {
      "cell_type": "code",
      "source": [
        "# 문자열 연습\n",
        "equal = \"=\" * 20\n",
        "sentence = equal + \"\\n파이썬 개요 및 기초\\n\" + equal\n",
        "\n",
        "print(sentence)"
      ],
      "metadata": {
        "id": "Br_3VJBGAb2O",
        "colab": {
          "base_uri": "https://localhost:8080/"
        },
        "outputId": "aa52e738-27d7-49b0-9392-a7b4b83a9bc0"
      },
      "execution_count": 42,
      "outputs": [
        {
          "output_type": "stream",
          "name": "stdout",
          "text": [
            "====================\n",
            "파이썬 개요 및 기초\n",
            "====================\n"
          ]
        }
      ]
    },
    {
      "cell_type": "markdown",
      "metadata": {
        "id": "jB-Fq4QqxYBL"
      },
      "source": [
        "- #### 문자열 인덱싱\n",
        "    - 문자열 내부의 문자 하나를 선택"
      ]
    },
    {
      "cell_type": "markdown",
      "source": [
        "![image.png](data:image/png;base64,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)"
      ],
      "metadata": {
        "id": "XgJ3wnfWCnJw"
      }
    },
    {
      "cell_type": "code",
      "execution_count": 43,
      "metadata": {
        "id": "xPeK5ijkxYBL",
        "colab": {
          "base_uri": "https://localhost:8080/"
        },
        "outputId": "464f0801-7832-4579-840a-5049e4a7ec91"
      },
      "outputs": [
        {
          "output_type": "execute_result",
          "data": {
            "text/plain": [
              "13"
            ]
          },
          "metadata": {},
          "execution_count": 43
        }
      ],
      "source": [
        "a = \"Giant Pengsoo\" # 길이 : 13\n",
        "len(a)"
      ]
    },
    {
      "cell_type": "code",
      "source": [
        "# 문자열[인덱스]로 호출\n",
        "# 순방향 인덱스 : 0 부터 시작\n",
        "# 역방향 인덱스 : -1 부터 시작\n",
        "\n",
        "print(a[0])\n",
        "print(a[1])\n",
        "print(a[12])\n",
        "print(a[-1])\n",
        "print(a[-13])"
      ],
      "metadata": {
        "id": "mjg3ScA7C2My",
        "colab": {
          "base_uri": "https://localhost:8080/"
        },
        "outputId": "db5138db-fa7e-4211-82d4-e9a6aa484c97"
      },
      "execution_count": 44,
      "outputs": [
        {
          "output_type": "stream",
          "name": "stdout",
          "text": [
            "G\n",
            "i\n",
            "o\n",
            "o\n",
            "G\n"
          ]
        }
      ]
    },
    {
      "cell_type": "code",
      "execution_count": 45,
      "metadata": {
        "id": "lTaTnaI1xYBM"
      },
      "outputs": [],
      "source": [
        "# print(a[-14]) 에러발생"
      ]
    },
    {
      "cell_type": "markdown",
      "metadata": {
        "id": "7oSnnUqPxYBN"
      },
      "source": [
        "- #### 슬라이싱\n",
        "    - 문자열의 특정 범위 선택"
      ]
    },
    {
      "cell_type": "code",
      "execution_count": 46,
      "metadata": {
        "id": "YhNW95QAxYBO"
      },
      "outputs": [],
      "source": [
        "a = \"Giant Pengsoo\""
      ]
    },
    {
      "cell_type": "code",
      "execution_count": 47,
      "metadata": {
        "id": "juepxuxhxYBO",
        "colab": {
          "base_uri": "https://localhost:8080/"
        },
        "outputId": "e5d7a110-41af-403c-ef14-662e7e0637c5"
      },
      "outputs": [
        {
          "output_type": "stream",
          "name": "stdout",
          "text": [
            "Gia\n",
            "Giant Pengso\n",
            "G\n",
            "Giant\n",
            "nt Pengsoo\n",
            "Giant Pengsoo\n"
          ]
        }
      ],
      "source": [
        "print(a[0:3])\n",
        "print(a[0:12])\n",
        "print(a[0:1])\n",
        "print(a[:5])\n",
        "print(a[3:])\n",
        "print(a[:])"
      ]
    },
    {
      "cell_type": "markdown",
      "source": [
        "- #### 포맷팅\n",
        "    - 문자열 안에 어떤 값을 삽입하는 방법"
      ],
      "metadata": {
        "id": "igciD69OEmLC"
      }
    },
    {
      "cell_type": "code",
      "source": [
        "# 한 개의 % 연산자 포맷팅\n",
        "# 숫자 대입은 %d\n",
        "\n",
        "sentence = \"나는 학교에 %d번 버스를 타고 다녀.\" % 7016\n",
        "\n",
        "print(sentence)"
      ],
      "metadata": {
        "id": "1ARovuIJEk1M",
        "colab": {
          "base_uri": "https://localhost:8080/"
        },
        "outputId": "d0757968-d101-4a1f-a0d1-1434f64bda56"
      },
      "execution_count": 48,
      "outputs": [
        {
          "output_type": "stream",
          "name": "stdout",
          "text": [
            "나는 학교에 7016번 버스를 타고 다녀.\n"
          ]
        }
      ]
    },
    {
      "cell_type": "code",
      "source": [
        "# 두 개 이상의 % 연산자 포맷팅\n",
        "# 숫자 나타내는 변수와 문자를 나타내는 변수 대입\n",
        "# 숫자 대입은 %d, 문자 대입은 %s\n",
        "a = 7016\n",
        "b = \"학교\"\n",
        "\n",
        "sentence = \"나는 %s에 %d번 버스를 타고 다녀.\" % (b, a)\n",
        "\n",
        "print(sentence)"
      ],
      "metadata": {
        "id": "JIi-LYQHFOK0",
        "colab": {
          "base_uri": "https://localhost:8080/"
        },
        "outputId": "a6d49112-c940-483d-a1f0-c5e9f793f7da"
      },
      "execution_count": 49,
      "outputs": [
        {
          "output_type": "stream",
          "name": "stdout",
          "text": [
            "나는 학교에 7016번 버스를 타고 다녀.\n"
          ]
        }
      ]
    },
    {
      "cell_type": "code",
      "source": [
        "# 한 개의 format() 함수 포맷팅\n",
        "# format 함수 안에 넣을 숫자 삽입\n",
        "\n",
        "print(\"나는 학교에 {}번 버스를 타고 다녀.\".format(7016))"
      ],
      "metadata": {
        "id": "VNe6QEdeGXQq",
        "colab": {
          "base_uri": "https://localhost:8080/"
        },
        "outputId": "f573bd95-6b14-4b3e-d202-eb419a1c8118"
      },
      "execution_count": 50,
      "outputs": [
        {
          "output_type": "stream",
          "name": "stdout",
          "text": [
            "나는 학교에 7016번 버스를 타고 다녀.\n"
          ]
        }
      ]
    },
    {
      "cell_type": "code",
      "source": [
        "# 두 개의 format() 함수 포맷팅\n",
        "\n",
        "a = 7016\n",
        "b = \"학교\"\n",
        "\n",
        "sentence = \"나는 {}에 {}번 버스를 타고 다녀.\".format(b, a)\n",
        "print(sentence)"
      ],
      "metadata": {
        "id": "iRKsqw4wG7rO",
        "colab": {
          "base_uri": "https://localhost:8080/"
        },
        "outputId": "7308083e-162a-4456-8ad3-a2385edd5e9f"
      },
      "execution_count": 51,
      "outputs": [
        {
          "output_type": "stream",
          "name": "stdout",
          "text": [
            "나는 학교에 7016번 버스를 타고 다녀.\n"
          ]
        }
      ]
    },
    {
      "cell_type": "code",
      "source": [
        "temp = 30\n",
        "rain = 20\n",
        "\n",
        "sentence = \"오늘 기온: {}도, 비올 확률: {}%\".format(temp, rain)\n",
        "print(sentence)"
      ],
      "metadata": {
        "id": "FOZf8yCSHhyJ",
        "colab": {
          "base_uri": "https://localhost:8080/"
        },
        "outputId": "d2eaa122-ba7d-4b8c-cfae-a07a026d3d44"
      },
      "execution_count": 52,
      "outputs": [
        {
          "output_type": "stream",
          "name": "stdout",
          "text": [
            "오늘 기온: 30도, 비올 확률: 20%\n"
          ]
        }
      ]
    },
    {
      "cell_type": "markdown",
      "metadata": {
        "id": "RPS5OqV9xYBP"
      },
      "source": [
        "- #### 문자열 함수\n",
        "    - len() : 문자열 길이 출력\n",
        "    - split() : 문자열 나누기\n",
        "    - count() : 문자 개수 세기\n",
        "    - replace() : 문자열 바꾸기\n",
        "    - find() : 위치 알려주기\n",
        "    - upper() : 소문자를 대문자로 바꾸기\n",
        "    - lower() : 대문자를 소문자로 바꾸기\n",
        "    - join() : 문자열 삽입"
      ]
    },
    {
      "cell_type": "code",
      "execution_count": 53,
      "metadata": {
        "id": "ddEqRBltxYBP"
      },
      "outputs": [],
      "source": [
        "#문장 선언\n",
        "a = \"Giant Pengsoo\""
      ]
    },
    {
      "cell_type": "code",
      "source": [
        "# len() : 문자열 길이 출력\n",
        "print(len(a))"
      ],
      "metadata": {
        "id": "e_CCPfyOJQ1E",
        "colab": {
          "base_uri": "https://localhost:8080/"
        },
        "outputId": "9d87852c-e7a2-43a4-811f-731c3449bd15"
      },
      "execution_count": 54,
      "outputs": [
        {
          "output_type": "stream",
          "name": "stdout",
          "text": [
            "13\n"
          ]
        }
      ]
    },
    {
      "cell_type": "code",
      "source": [
        "# split() : 문자열 나누기\n",
        "print(a.split())"
      ],
      "metadata": {
        "id": "qnfDkgb3JQ33",
        "colab": {
          "base_uri": "https://localhost:8080/"
        },
        "outputId": "695e65f9-b6fd-484f-9297-bc4854a6f77a"
      },
      "execution_count": 59,
      "outputs": [
        {
          "output_type": "stream",
          "name": "stdout",
          "text": [
            "['Giant', 'Pengsoo']\n"
          ]
        }
      ]
    },
    {
      "cell_type": "code",
      "source": [
        "# split() : 문자열 나누기\n",
        "# 'i'를 기준으로 문자열 나누기\n",
        "print(a.split('i'))"
      ],
      "metadata": {
        "id": "lFefEdsoJmGM",
        "colab": {
          "base_uri": "https://localhost:8080/"
        },
        "outputId": "e1b232fd-bc0e-41f9-d885-ca4e899c0f25"
      },
      "execution_count": 60,
      "outputs": [
        {
          "output_type": "stream",
          "name": "stdout",
          "text": [
            "['G', 'ant Pengsoo']\n"
          ]
        }
      ]
    },
    {
      "cell_type": "code",
      "source": [
        "# count() : 문자 개수 세기\n",
        "print(a.count('o'))"
      ],
      "metadata": {
        "id": "0xLD_UygJ4dg",
        "colab": {
          "base_uri": "https://localhost:8080/"
        },
        "outputId": "79a16fb3-54cf-4e9b-d14a-a8b17c1a3960"
      },
      "execution_count": 61,
      "outputs": [
        {
          "output_type": "stream",
          "name": "stdout",
          "text": [
            "2\n"
          ]
        }
      ]
    },
    {
      "cell_type": "code",
      "source": [
        "# replace() : 문자열 바꾸기\n",
        "print(a.replace(\"e\", \"i\"))"
      ],
      "metadata": {
        "id": "uXt88CwkJ4gv",
        "colab": {
          "base_uri": "https://localhost:8080/"
        },
        "outputId": "827e83f2-9f56-4cc4-fd8b-01a2bca52c73"
      },
      "execution_count": 62,
      "outputs": [
        {
          "output_type": "stream",
          "name": "stdout",
          "text": [
            "Giant Pingsoo\n"
          ]
        }
      ]
    },
    {
      "cell_type": "code",
      "source": [
        "# find() : 위치 알려주기\n",
        "print(a.find(\"e\"))"
      ],
      "metadata": {
        "id": "EIL4KFZNJRHC",
        "colab": {
          "base_uri": "https://localhost:8080/"
        },
        "outputId": "4ba169b7-d891-4924-ffdd-c2ec7f3521b4"
      },
      "execution_count": 63,
      "outputs": [
        {
          "output_type": "stream",
          "name": "stdout",
          "text": [
            "7\n"
          ]
        }
      ]
    },
    {
      "cell_type": "code",
      "source": [
        "# upper() : 소문자를 대문자로 바꾸기\n",
        "print(a.upper())"
      ],
      "metadata": {
        "id": "VLpooXvoKwuj",
        "colab": {
          "base_uri": "https://localhost:8080/"
        },
        "outputId": "14ef84c7-f315-42e8-86ad-cf20c234a250"
      },
      "execution_count": 64,
      "outputs": [
        {
          "output_type": "stream",
          "name": "stdout",
          "text": [
            "GIANT PENGSOO\n"
          ]
        }
      ]
    },
    {
      "cell_type": "code",
      "source": [
        "# lower() : 대문자를 소문자로 바꾸기\n",
        "print(a.lower())"
      ],
      "metadata": {
        "id": "ILhK69gmKwxQ",
        "colab": {
          "base_uri": "https://localhost:8080/"
        },
        "outputId": "394a3430-1eab-4aca-feb8-cc3deba4fb58"
      },
      "execution_count": 65,
      "outputs": [
        {
          "output_type": "stream",
          "name": "stdout",
          "text": [
            "giant pengsoo\n"
          ]
        }
      ]
    },
    {
      "cell_type": "code",
      "source": [
        "# join() : 문자열 삽입\n",
        "print(\".\".join(a))"
      ],
      "metadata": {
        "id": "xkj8oPntIypu",
        "colab": {
          "base_uri": "https://localhost:8080/"
        },
        "outputId": "9a4b5a22-0660-4b15-d571-264e9879d749"
      },
      "execution_count": 69,
      "outputs": [
        {
          "output_type": "stream",
          "name": "stdout",
          "text": [
            "G.i.a.n.t. .P.e.n.g.s.o.o\n"
          ]
        }
      ]
    },
    {
      "cell_type": "markdown",
      "metadata": {
        "id": "YtpI22RixYBY"
      },
      "source": [
        "### 리스트(list)\n",
        "#### 여러 형태의 데이터가 순서형으로 결합된 구조"
      ]
    },
    {
      "cell_type": "markdown",
      "metadata": {
        "id": "UVCs7y8bxYBY"
      },
      "source": [
        "- #### 리스트 생성"
      ]
    },
    {
      "cell_type": "code",
      "execution_count": 70,
      "metadata": {
        "id": "O-seD42mxYBY",
        "colab": {
          "base_uri": "https://localhost:8080/"
        },
        "outputId": "6a767c94-2f86-4300-e348-ce93d40cd4f9"
      },
      "outputs": [
        {
          "output_type": "stream",
          "name": "stdout",
          "text": [
            "[1, 2, 3, 4, 5]\n"
          ]
        },
        {
          "output_type": "execute_result",
          "data": {
            "text/plain": [
              "list"
            ]
          },
          "metadata": {},
          "execution_count": 70
        }
      ],
      "source": [
        "# []를 이용한 리스트 생성\n",
        "a = [1, 2, 3, 4, 5]\n",
        "print(a)\n",
        "type(a)"
      ]
    },
    {
      "cell_type": "code",
      "execution_count": 72,
      "metadata": {
        "id": "vd7HT9gExYBZ",
        "colab": {
          "base_uri": "https://localhost:8080/"
        },
        "outputId": "0a1a29ec-848d-48d2-9f1c-da757d417911"
      },
      "outputs": [
        {
          "output_type": "stream",
          "name": "stdout",
          "text": [
            "[1, 2, 'smu', 'kdata', [3, 4]]\n",
            "<class 'list'>\n"
          ]
        }
      ],
      "source": [
        "# []를 이용한 리스트 생성\n",
        "# 선언한 리스트를 출력하면 내부의 자료를 모두 출력\n",
        "myList = [1, 2, \"smu\", \"kdata\", [3, 4]]\n",
        "print(myList)\n",
        "print(type(myList))"
      ]
    },
    {
      "cell_type": "code",
      "execution_count": 73,
      "metadata": {
        "id": "_T6HATVexYBZ",
        "colab": {
          "base_uri": "https://localhost:8080/"
        },
        "outputId": "fbb476c7-1201-4ffd-c577-44e6c61a16a2"
      },
      "outputs": [
        {
          "output_type": "stream",
          "name": "stdout",
          "text": [
            "['T', 'h', 'i', 's', ' ', 'i', 's', ' ', 'P', 'e', 'n', 'g', 's', 'o', 'o']\n"
          ]
        }
      ],
      "source": [
        "# list()를 이용한 리스트 생성\n",
        "a = \"This is Pengsoo\"\n",
        "b = list(a)\n",
        "print(b)"
      ]
    },
    {
      "cell_type": "code",
      "execution_count": 74,
      "metadata": {
        "id": "eZzdxhdexYBZ",
        "colab": {
          "base_uri": "https://localhost:8080/"
        },
        "outputId": "bef116da-b60c-4ec1-908a-d74deebeac4c"
      },
      "outputs": [
        {
          "output_type": "stream",
          "name": "stdout",
          "text": [
            "['This', 'is', 'Pengsoo,', 'peng-ha']\n"
          ]
        }
      ],
      "source": [
        "# split() 함수를 이용한 리스트 생성\n",
        "a = \"This is Pengsoo, peng-ha\"\n",
        "b = a.split()\n",
        "print(b)"
      ]
    },
    {
      "cell_type": "code",
      "execution_count": 75,
      "metadata": {
        "id": "cxmnPCGWxYBA"
      },
      "outputs": [],
      "source": [
        "del a"
      ]
    },
    {
      "cell_type": "markdown",
      "metadata": {
        "id": "djPhmv2DxYBa"
      },
      "source": [
        "- #### 인덱싱\n",
        "    - 문자열의 인덱싱와 동일"
      ]
    },
    {
      "cell_type": "code",
      "execution_count": 76,
      "metadata": {
        "id": "T_WZhT77xYBa",
        "colab": {
          "base_uri": "https://localhost:8080/"
        },
        "outputId": "8152f17e-7d3d-4b08-cb75-5316b7f05be8"
      },
      "outputs": [
        {
          "output_type": "stream",
          "name": "stdout",
          "text": [
            "smu\n",
            "[3, 4]\n",
            "[3, 4]\n"
          ]
        }
      ],
      "source": [
        "myList = [1, 2, \"smu\", \"kdata\", [3, 4]]\n",
        "\n",
        "print(myList[2])\n",
        "print(myList[4])\n",
        "print(myList[-1])"
      ]
    },
    {
      "cell_type": "code",
      "execution_count": 77,
      "metadata": {
        "id": "xmy_z8H0xYBa",
        "colab": {
          "base_uri": "https://localhost:8080/"
        },
        "outputId": "c265aa4d-07ea-40f6-c66c-6fca28798446"
      },
      "outputs": [
        {
          "output_type": "stream",
          "name": "stdout",
          "text": [
            "[1, 2, 'smu', 10, [3, 4]]\n"
          ]
        }
      ],
      "source": [
        "myList[3] = 10\n",
        "print(myList)"
      ]
    },
    {
      "cell_type": "markdown",
      "metadata": {
        "id": "Tinv_MQRxYBb"
      },
      "source": [
        "- #### 슬라이싱\n",
        "    - 문자열의 슬라이싱와 동일"
      ]
    },
    {
      "cell_type": "code",
      "execution_count": 78,
      "metadata": {
        "id": "y5D4FRpCxYBb",
        "colab": {
          "base_uri": "https://localhost:8080/"
        },
        "outputId": "db26d553-49e7-456c-8afe-2edfe3a3bcc3"
      },
      "outputs": [
        {
          "output_type": "stream",
          "name": "stdout",
          "text": [
            "['smu', 'kdata']\n",
            "[1, 2, 'smu', 'kdata']\n",
            "['kdata', [3, 4]]\n",
            "[1, 2, 'smu', 'kdata', [3, 4]]\n"
          ]
        }
      ],
      "source": [
        "myList = [1, 2, \"smu\", \"kdata\", [3,4]]\n",
        "\n",
        "print(myList[2:4])\n",
        "print(myList[:4])\n",
        "print(myList[3:])\n",
        "print(myList[:])"
      ]
    },
    {
      "cell_type": "code",
      "source": [
        "print(myList[0:2:1])\n",
        "print(myList[1:5:2])"
      ],
      "metadata": {
        "id": "GxqmZqXMQTXv",
        "colab": {
          "base_uri": "https://localhost:8080/"
        },
        "outputId": "d4822246-2b1b-454b-ecce-9371cd265f4a"
      },
      "execution_count": 79,
      "outputs": [
        {
          "output_type": "stream",
          "name": "stdout",
          "text": [
            "[1, 2]\n",
            "[2, 'kdata']\n"
          ]
        }
      ]
    },
    {
      "cell_type": "markdown",
      "source": [
        "- #### 리스트 연산"
      ],
      "metadata": {
        "id": "Zrk4-hLIQucH"
      }
    },
    {
      "cell_type": "code",
      "source": [
        "# list1 2번 반복\n",
        "# list1과 list2 덧셈\n",
        "list1 = [1,2,3]\n",
        "list2 = [4,5,6]\n",
        "\n",
        "print(list1 * 2 + list2)"
      ],
      "metadata": {
        "id": "ZvfXcwINQrCC",
        "colab": {
          "base_uri": "https://localhost:8080/"
        },
        "outputId": "f7f3f2cd-a645-48ff-96d0-c4563c388c0c"
      },
      "execution_count": 80,
      "outputs": [
        {
          "output_type": "stream",
          "name": "stdout",
          "text": [
            "[1, 2, 3, 1, 2, 3, 4, 5, 6]\n"
          ]
        }
      ]
    },
    {
      "cell_type": "code",
      "source": [
        "# 연산 결과의 길이 구하기\n",
        "print(len(list1*2 + list2))"
      ],
      "metadata": {
        "id": "nK8l8i7YQ4xY",
        "colab": {
          "base_uri": "https://localhost:8080/"
        },
        "outputId": "84eb155a-9735-4025-f117-c9dbec7f872e"
      },
      "execution_count": 81,
      "outputs": [
        {
          "output_type": "stream",
          "name": "stdout",
          "text": [
            "9\n"
          ]
        }
      ]
    },
    {
      "cell_type": "markdown",
      "metadata": {
        "id": "R8U615LcxYBb"
      },
      "source": [
        "- #### 리스트 함수\n",
        "    - append() : 리스트 끝에 요소 추가\n",
        "    - extend() : 리스트 확장\n",
        "    - remove() : 리스트 요소 제거\n",
        "    - insert(a, b) : 리스트 요소 삽입, 리스트 a번째 위치에 b를 삽입\n",
        "    - pop() : 지우고자 하는 아이템을 반환 후 삭제\n",
        "    - index() : 찾고자 하는 값의 인덱스 반환\n",
        "    - in : 리스트 내에 해당 값이 존재하는지 확인, True/False 로 반환\n",
        "    - sort() : 리스트 정렬\n",
        "    - sorted() : 정렬된 리스트의 복사본 반환\n",
        "    - reverse() : 리스트 뒤집기\n",
        "    - count() : 리스트에 포함된 요소의 개수 세기"
      ]
    },
    {
      "cell_type": "code",
      "execution_count": 82,
      "metadata": {
        "id": "xCDg8oEVxYBb",
        "colab": {
          "base_uri": "https://localhost:8080/"
        },
        "outputId": "55997e3d-05b4-44de-ee6e-dec2354914c2"
      },
      "outputs": [
        {
          "output_type": "stream",
          "name": "stdout",
          "text": [
            "[1, 2, 3, 4, 5, 10]\n"
          ]
        }
      ],
      "source": [
        "# append() : 리스트 끝에 요소 추가\n",
        "a = [1, 2, 3, 4, 5]\n",
        "\n",
        "a.append(10)\n",
        "print(a)"
      ]
    },
    {
      "cell_type": "code",
      "execution_count": 84,
      "metadata": {
        "id": "6cQ6dtUaxYBc",
        "colab": {
          "base_uri": "https://localhost:8080/"
        },
        "outputId": "63a716ec-f0d5-45a6-e006-5c57ff392a59"
      },
      "outputs": [
        {
          "output_type": "stream",
          "name": "stdout",
          "text": [
            "[1, 2, 3, 4, 5, [6, 7, 8]]\n"
          ]
        }
      ],
      "source": [
        "# append() : 리스트 끝에 요소 추가\n",
        "a = [1,2,3,4,5]\n",
        "b = [6, 7, 8]\n",
        "a.append(b)\n",
        "print(a)"
      ]
    },
    {
      "cell_type": "code",
      "execution_count": 85,
      "metadata": {
        "id": "V1Jwizw5xYBc",
        "colab": {
          "base_uri": "https://localhost:8080/"
        },
        "outputId": "a8b5cb8c-f1da-4dc9-a5be-c830c5faeda8"
      },
      "outputs": [
        {
          "output_type": "stream",
          "name": "stdout",
          "text": [
            "[1, 2, 3, 4, 5, 6, 7, 8]\n"
          ]
        }
      ],
      "source": [
        "# extend() : 리스트 확장\n",
        "a = [1, 2, 3, 4, 5]\n",
        "b = [6, 7, 8]\n",
        "\n",
        "a.extend(b)\n",
        "print(a)"
      ]
    },
    {
      "cell_type": "code",
      "execution_count": 86,
      "metadata": {
        "id": "73_KwXpJxYBd",
        "colab": {
          "base_uri": "https://localhost:8080/"
        },
        "outputId": "b9085d56-dc0f-4d2c-d3ca-559e5766081f"
      },
      "outputs": [
        {
          "output_type": "stream",
          "name": "stdout",
          "text": [
            "[1, 3, 4, 5]\n"
          ]
        }
      ],
      "source": [
        "# remove() : 리스트 요소 제거\n",
        "a = [1,2,3,4,5]\n",
        "\n",
        "a.remove(2)\n",
        "print(a)"
      ]
    },
    {
      "cell_type": "code",
      "execution_count": 87,
      "metadata": {
        "id": "vs-tpf7exYBe",
        "colab": {
          "base_uri": "https://localhost:8080/"
        },
        "outputId": "cfe4ad7f-fe77-4a0c-e5b1-d6c2526651ad"
      },
      "outputs": [
        {
          "output_type": "stream",
          "name": "stdout",
          "text": [
            "[1, 5, 2, 3]\n"
          ]
        }
      ],
      "source": [
        "# insert(a, b) : 리스트 요소 삽입, 리스트 a번째 위치에 b를 삽입\n",
        "a = [1, 2, 3]\n",
        "\n",
        "a.insert(1,5)\n",
        "print(a)"
      ]
    },
    {
      "cell_type": "code",
      "execution_count": 88,
      "metadata": {
        "id": "BWLO-35FxYBf",
        "colab": {
          "base_uri": "https://localhost:8080/"
        },
        "outputId": "e73862fc-0a79-4a4c-9071-9ec813225aa8"
      },
      "outputs": [
        {
          "output_type": "stream",
          "name": "stdout",
          "text": [
            "5\n",
            "[1, 2, 3, 4]\n"
          ]
        }
      ],
      "source": [
        "# pop() : 지우고자 하는 아이템을 반환 후 삭제\n",
        "a = [1, 2, 3, 4, 5]\n",
        "\n",
        "print(a.pop())\n",
        "print(a)"
      ]
    },
    {
      "cell_type": "code",
      "execution_count": 90,
      "metadata": {
        "id": "apf2uEVaxYBh",
        "colab": {
          "base_uri": "https://localhost:8080/"
        },
        "outputId": "2176df8b-b288-47f8-8dec-56c29472e32c"
      },
      "outputs": [
        {
          "output_type": "stream",
          "name": "stdout",
          "text": [
            "5\n",
            "[1, 2, 3, 4]\n",
            "1\n",
            "[2, 3, 4]\n"
          ]
        }
      ],
      "source": [
        "# index() : 찾고자 하는 값의 인덱스 반환\n",
        "a = [1, 2, 3, 4, 5]\n",
        "\n",
        "print(a.pop())\n",
        "print(a)\n",
        "\n",
        "print(a.pop(0))\n",
        "print(a)"
      ]
    },
    {
      "cell_type": "code",
      "execution_count": 91,
      "metadata": {
        "id": "SJPFKFr2xYBh",
        "colab": {
          "base_uri": "https://localhost:8080/"
        },
        "outputId": "9af9e122-804d-4bac-eb78-52c4e04bfb87"
      },
      "outputs": [
        {
          "output_type": "stream",
          "name": "stdout",
          "text": [
            "True\n"
          ]
        }
      ],
      "source": [
        "# in : 리스트 내에 해당 값이 존재하는지 확인, True/False 로 반환\n",
        "a = [1,2,3,4,5]\n",
        "b = 4\n",
        "\n",
        "print(b in a)"
      ]
    },
    {
      "cell_type": "code",
      "source": [
        "# sort() : 리스트 정렬\n",
        "# 기본 오름차순 정렬\n",
        "a = [6, 3, 8, 2, 1, 3, 30, 21]\n",
        "\n",
        "a.sort()\n",
        "print(a)"
      ],
      "metadata": {
        "id": "x1hQe4ClUgnr",
        "colab": {
          "base_uri": "https://localhost:8080/"
        },
        "outputId": "ba5f61c4-c70a-401e-8d66-00d3f43e2d4c"
      },
      "execution_count": 92,
      "outputs": [
        {
          "output_type": "stream",
          "name": "stdout",
          "text": [
            "[1, 2, 3, 3, 6, 8, 21, 30]\n"
          ]
        }
      ]
    },
    {
      "cell_type": "code",
      "execution_count": 93,
      "metadata": {
        "id": "D7TcbvCfxYBi",
        "colab": {
          "base_uri": "https://localhost:8080/"
        },
        "outputId": "014b7240-9769-4dd8-cb42-22e13597ffe7"
      },
      "outputs": [
        {
          "output_type": "stream",
          "name": "stdout",
          "text": [
            "[30, 21, 8, 6, 3, 3, 2, 1]\n"
          ]
        }
      ],
      "source": [
        "# sort() : 리스트 정렬\n",
        "# reverse = True  옵션으로 내림차순 정렬\n",
        "a = [6, 3, 8, 2, 1, 3, 30, 21]\n",
        "\n",
        "a.sort(reverse = True)\n",
        "print(a)"
      ]
    },
    {
      "cell_type": "code",
      "execution_count": 94,
      "metadata": {
        "id": "_BBc64j0xYBi",
        "colab": {
          "base_uri": "https://localhost:8080/"
        },
        "outputId": "96d35611-1a64-4832-de3d-db31141f3b24"
      },
      "outputs": [
        {
          "output_type": "stream",
          "name": "stdout",
          "text": [
            "[6, 3, 8, 2, 1, 3, 30, 21]\n",
            "[1, 2, 3, 3, 6, 8, 21, 30]\n"
          ]
        }
      ],
      "source": [
        "# sorted() : 정렬된 리스트의 복사본 반환\n",
        "a = [6, 3, 8, 2, 1, 3, 30, 21]\n",
        "b = sorted(a)\n",
        "\n",
        "print(a)\n",
        "print(b)"
      ]
    },
    {
      "cell_type": "code",
      "source": [
        "# reverse() : 리스트 뒤집기\n",
        "a = [6, 3, 8, 2, 1, 3, 30, 21]\n",
        "\n",
        "a.reverse()\n",
        "print(a)"
      ],
      "metadata": {
        "id": "PnSmJDJ-VDNn",
        "colab": {
          "base_uri": "https://localhost:8080/"
        },
        "outputId": "27135379-f8be-4b14-be92-791846c78b88"
      },
      "execution_count": 95,
      "outputs": [
        {
          "output_type": "stream",
          "name": "stdout",
          "text": [
            "[21, 30, 3, 1, 2, 8, 3, 6]\n"
          ]
        }
      ]
    },
    {
      "cell_type": "code",
      "source": [
        "# count() : 리스트에 포함된 요소의 개수 세기\n",
        "a = [3,6,9,3,6,9,1,2,3]\n",
        "\n",
        "print(a.count(3))"
      ],
      "metadata": {
        "id": "8uLkUNJ8VDWf",
        "colab": {
          "base_uri": "https://localhost:8080/"
        },
        "outputId": "13310f06-6339-4fe8-902e-b30585585293"
      },
      "execution_count": 96,
      "outputs": [
        {
          "output_type": "stream",
          "name": "stdout",
          "text": [
            "3\n"
          ]
        }
      ]
    },
    {
      "cell_type": "markdown",
      "metadata": {
        "id": "QzBiRsFDxYBj"
      },
      "source": [
        "### 튜플(tuple)"
      ]
    },
    {
      "cell_type": "markdown",
      "metadata": {
        "id": "brav0rKAxYBj"
      },
      "source": [
        "- #### 튜플 생성"
      ]
    },
    {
      "cell_type": "code",
      "execution_count": 97,
      "metadata": {
        "id": "TXJZDGSIxYBj",
        "colab": {
          "base_uri": "https://localhost:8080/"
        },
        "outputId": "df2956cf-b26f-4c57-ca7e-f1b52ce0f947"
      },
      "outputs": [
        {
          "output_type": "stream",
          "name": "stdout",
          "text": [
            "<class 'list'>\n",
            "<class 'tuple'>\n"
          ]
        }
      ],
      "source": [
        "# 리스트와 튜플 타입 확인\n",
        "a = [1, 2, 3]\n",
        "b = (1, 2, 3)\n",
        "\n",
        "print(type(a))\n",
        "print(type(b))"
      ]
    },
    {
      "cell_type": "code",
      "source": [
        "# 괄호 있는 튜플\n",
        "# tuple1 : 한 개의 값을 가질 때는 마지막에 \", (쉼표)\"를 써줘야 함\n",
        "# float1 : 한 개의 요소지만 \", (쉼표)\" 안 써줘서 튜플로 생성이 안 됨\n",
        "\n",
        "tuple1 = (2.3,)\n",
        "float1 = (2.3)\n",
        "\n",
        "print(tuple1)\n",
        "print(float1)\n",
        "\n",
        "print(type(tuple1))\n",
        "print(type(float1))"
      ],
      "metadata": {
        "id": "RfZ285jhWPko",
        "colab": {
          "base_uri": "https://localhost:8080/"
        },
        "outputId": "8cd213b9-90d1-4e47-9259-edd194dc8d12"
      },
      "execution_count": 98,
      "outputs": [
        {
          "output_type": "stream",
          "name": "stdout",
          "text": [
            "(2.3,)\n",
            "2.3\n",
            "<class 'tuple'>\n",
            "<class 'float'>\n"
          ]
        }
      ]
    },
    {
      "cell_type": "code",
      "source": [
        "# 괄호 없는 튜플\n",
        "# tuple2 : 여러 개 요소인 튜플 생성\n",
        "tuple2 = 1, 2, 3, 4, 5\n",
        "\n",
        "print(tuple2)\n",
        "print(type(tuple2))"
      ],
      "metadata": {
        "id": "_do7LkKsXJc3",
        "colab": {
          "base_uri": "https://localhost:8080/"
        },
        "outputId": "08ba8798-d422-4ee0-eabf-1f7b45503c3a"
      },
      "execution_count": 99,
      "outputs": [
        {
          "output_type": "stream",
          "name": "stdout",
          "text": [
            "(1, 2, 3, 4, 5)\n",
            "<class 'tuple'>\n"
          ]
        }
      ]
    },
    {
      "cell_type": "code",
      "execution_count": 100,
      "metadata": {
        "id": "IMWD6kUexYBk",
        "colab": {
          "base_uri": "https://localhost:8080/"
        },
        "outputId": "0b473e82-a53a-4901-8464-065e76ed3529"
      },
      "outputs": [
        {
          "output_type": "stream",
          "name": "stdout",
          "text": [
            "100 200\n"
          ]
        }
      ],
      "source": [
        "# 튜플 unpacking\n",
        "a, b = 100, 200\n",
        "\n",
        "print(a, b)"
      ]
    },
    {
      "cell_type": "markdown",
      "source": [
        "- #### 인덱싱"
      ],
      "metadata": {
        "id": "5x2p438XXcu3"
      }
    },
    {
      "cell_type": "code",
      "source": [
        "# 인덱싱\n",
        "tuple1 = (10, 9, 8, 7, 6)\n",
        "\n",
        "print(tuple1[0])"
      ],
      "metadata": {
        "id": "scfKUGZAXhMC",
        "colab": {
          "base_uri": "https://localhost:8080/"
        },
        "outputId": "75f19c6a-840e-45e4-f361-7aad36549226"
      },
      "execution_count": 101,
      "outputs": [
        {
          "output_type": "stream",
          "name": "stdout",
          "text": [
            "10\n"
          ]
        }
      ]
    },
    {
      "cell_type": "markdown",
      "source": [
        "- #### 슬라이싱"
      ],
      "metadata": {
        "id": "xQlJnVsZYQiD"
      }
    },
    {
      "cell_type": "code",
      "source": [
        "# 슬라이싱\n",
        "tuple1[1:3]"
      ],
      "metadata": {
        "id": "yrMjSspHYQr9",
        "colab": {
          "base_uri": "https://localhost:8080/"
        },
        "outputId": "c910524e-dc19-4ec2-dceb-1ddd881be2e1"
      },
      "execution_count": 102,
      "outputs": [
        {
          "output_type": "execute_result",
          "data": {
            "text/plain": [
              "(9, 8)"
            ]
          },
          "metadata": {},
          "execution_count": 102
        }
      ]
    },
    {
      "cell_type": "markdown",
      "source": [
        "- #### 튜플 연산"
      ],
      "metadata": {
        "id": "XnWRzvKrY7tS"
      }
    },
    {
      "cell_type": "code",
      "source": [
        "# tuple1 2번 반복\n",
        "# tuple1과 tuple2 덧셈\n",
        "tuple1 = (1, 2, 3)\n",
        "tuple2 = (4, 5 ,6)\n",
        "\n",
        "print(tuple1 *2 + tuple2)"
      ],
      "metadata": {
        "id": "ez0BYXDVY68-",
        "colab": {
          "base_uri": "https://localhost:8080/"
        },
        "outputId": "b0ee3922-9191-433d-e0f8-678a8df6d273"
      },
      "execution_count": 103,
      "outputs": [
        {
          "output_type": "stream",
          "name": "stdout",
          "text": [
            "(1, 2, 3, 1, 2, 3, 4, 5, 6)\n"
          ]
        }
      ]
    },
    {
      "cell_type": "code",
      "source": [
        "# 연산 결과의 길이 구하기\n",
        "print(len(tuple1 * 2 + tuple2))"
      ],
      "metadata": {
        "id": "hExk9zpzZIxn",
        "colab": {
          "base_uri": "https://localhost:8080/"
        },
        "outputId": "c3d35424-1d7c-430d-b251-5d26c3b0af2a"
      },
      "execution_count": 104,
      "outputs": [
        {
          "output_type": "stream",
          "name": "stdout",
          "text": [
            "9\n"
          ]
        }
      ]
    },
    {
      "cell_type": "markdown",
      "metadata": {
        "id": "rqH_DBNtxYBl"
      },
      "source": [
        "### 딕셔너리(dictionary)\n",
        "#### 키(key)-값(value)을 갖는 데이터 구조"
      ]
    },
    {
      "cell_type": "markdown",
      "metadata": {
        "id": "2ASN7P1cxYBl"
      },
      "source": [
        "- #### 딕셔너리 생성"
      ]
    },
    {
      "cell_type": "code",
      "execution_count": 106,
      "metadata": {
        "id": "2DZogz_nxYBm",
        "colab": {
          "base_uri": "https://localhost:8080/"
        },
        "outputId": "58a4ad95-6680-45d6-c5bc-812e5bd8abd3"
      },
      "outputs": [
        {
          "output_type": "stream",
          "name": "stdout",
          "text": [
            "{'A': 'apple', 'B': 'banana', 'C': 'carrot'}\n",
            "<class 'dict'>\n"
          ]
        }
      ],
      "source": [
        "# 딕셔너리 생성\n",
        "dict1 = {\n",
        "    \"A\":\"apple\",\n",
        "    \"B\":\"banana\",\n",
        "    \"C\":\"carrot\"\n",
        "}\n",
        "print(dict1)\n",
        "print(type(dict1))"
      ]
    },
    {
      "cell_type": "code",
      "execution_count": 107,
      "metadata": {
        "id": "G6T2_QkcxYBn",
        "colab": {
          "base_uri": "https://localhost:8080/"
        },
        "outputId": "941ebfd6-c959-49d6-cf50-f222abfa379a"
      },
      "outputs": [
        {
          "output_type": "stream",
          "name": "stdout",
          "text": [
            "apple\n",
            "banana\n"
          ]
        }
      ],
      "source": [
        "# 딕셔너리 값 출력\n",
        "print(dict1[\"A\"])\n",
        "print(dict1[\"B\"])"
      ]
    },
    {
      "cell_type": "markdown",
      "source": [
        "- #### 항목 추가 및 변경"
      ],
      "metadata": {
        "id": "zXt1gu0JcWJ-"
      }
    },
    {
      "cell_type": "code",
      "source": [
        "# 딕셔너리 생성\n",
        "dict1 = {\n",
        "    \"A\":\"apple\",\n",
        "    \"B\":\"banana\",\n",
        "    \"C\":\"carrot\"\n",
        "}"
      ],
      "metadata": {
        "id": "XEYCaCl4cVuQ"
      },
      "execution_count": 109,
      "outputs": []
    },
    {
      "cell_type": "code",
      "execution_count": 110,
      "metadata": {
        "id": "G4JBlfgBxYBn",
        "colab": {
          "base_uri": "https://localhost:8080/"
        },
        "outputId": "145226cf-bc11-4088-bdbd-1a6b3f8d4526"
      },
      "outputs": [
        {
          "output_type": "stream",
          "name": "stdout",
          "text": [
            "{'A': 'apple', 'B': 'banana', 'C': 'carrot', 'M': 'mango'}\n"
          ]
        }
      ],
      "source": [
        "# 항목 추가\n",
        "dict1[\"M\"] = \"mango\"\n",
        "\n",
        "print(dict1)"
      ]
    },
    {
      "cell_type": "code",
      "execution_count": 111,
      "metadata": {
        "id": "LXSTU-3CxYBo",
        "colab": {
          "base_uri": "https://localhost:8080/"
        },
        "outputId": "412cb4fe-0d24-4ddf-aaa1-7bc06381147f"
      },
      "outputs": [
        {
          "output_type": "stream",
          "name": "stdout",
          "text": [
            "{'A': 'apple', 'B': 'blue', 'C': 'carrot', 'M': 'mango'}\n"
          ]
        }
      ],
      "source": [
        "# 항목 변경\n",
        "dict1[\"B\"] = \"blue\"\n",
        "\n",
        "print(dict1)"
      ]
    },
    {
      "cell_type": "markdown",
      "metadata": {
        "id": "X-SkGVjGxYBo"
      },
      "source": [
        "- #### 딕셔너리 함수\n",
        "    - keys() : key 리스트 만들기\n",
        "    - values() : value 리스트 만들기\n",
        "    - items() : key, value 쌍 얻기\n",
        "    - update() : 두 딕셔너리를 병합\n",
        "    - pop() : key 삭제\n",
        "    - del : key 삭제\n",
        "    - get() : key로 value 얻기\n",
        "    - in : 해당 key가 딕셔너리 안에 있는지 조사\n",
        "    - clear() : key:value 쌍 모두 지우기\n"
      ]
    },
    {
      "cell_type": "code",
      "execution_count": 112,
      "metadata": {
        "id": "yuI_OxkJxYBv",
        "colab": {
          "base_uri": "https://localhost:8080/"
        },
        "outputId": "88892146-b7d2-4e2d-ac41-e498def0280d"
      },
      "outputs": [
        {
          "output_type": "stream",
          "name": "stdout",
          "text": [
            "dict_keys(['a', 'b', 'c'])\n",
            "['a', 'b', 'c']\n"
          ]
        }
      ],
      "source": [
        "# keys() : key 리스트 만들기\n",
        "dict1 = {'a':1, 'b':2, 'c':3}\n",
        "\n",
        "print(dict1.keys())\n",
        "print(list(dict1.keys()))"
      ]
    },
    {
      "cell_type": "code",
      "execution_count": 113,
      "metadata": {
        "id": "HSRNNSEkxYBv",
        "colab": {
          "base_uri": "https://localhost:8080/"
        },
        "outputId": "ba383bce-1650-46ae-f453-310776e5c572"
      },
      "outputs": [
        {
          "output_type": "stream",
          "name": "stdout",
          "text": [
            "dict_values([1, 2, 3])\n",
            "[1, 2, 3]\n"
          ]
        }
      ],
      "source": [
        "# values() : value 리스트 만들기\n",
        "dict1 = {'a':1, 'b':2, 'c':3}\n",
        "\n",
        "print(dict1.values())\n",
        "print(list(dict1.values()))"
      ]
    },
    {
      "cell_type": "code",
      "source": [
        "# items() : key, value 쌍 얻기\n",
        "dict1 = {'a':1, 'b':2, 'c':3}\n",
        "\n",
        "print(dict1.items())\n",
        "print(list(dict1.items()))"
      ],
      "metadata": {
        "id": "Zxje9IT_fIqQ",
        "colab": {
          "base_uri": "https://localhost:8080/"
        },
        "outputId": "c0861682-9264-425b-ab18-d875b9a64bb6"
      },
      "execution_count": 114,
      "outputs": [
        {
          "output_type": "stream",
          "name": "stdout",
          "text": [
            "dict_items([('a', 1), ('b', 2), ('c', 3)])\n",
            "[('a', 1), ('b', 2), ('c', 3)]\n"
          ]
        }
      ]
    },
    {
      "cell_type": "code",
      "execution_count": 115,
      "metadata": {
        "id": "AZUe3yK2xYBo",
        "colab": {
          "base_uri": "https://localhost:8080/"
        },
        "outputId": "171c232b-a685-4ad2-fb82-42ac71ac9cfd"
      },
      "outputs": [
        {
          "output_type": "stream",
          "name": "stdout",
          "text": [
            "{'a': 2, 'b': 3, 'c': 4}\n"
          ]
        }
      ],
      "source": [
        "# update() : 두 딕셔너리를 병합\n",
        "dict1 = {'a':1, 'b':2, 'c':3}\n",
        "dict2 = {'a':2, 'b':3, 'c':4}\n",
        "\n",
        "dict1.update(dict2)\n",
        "print(dict1)"
      ]
    },
    {
      "cell_type": "code",
      "execution_count": 116,
      "metadata": {
        "id": "IkV9sAD-xYBp",
        "colab": {
          "base_uri": "https://localhost:8080/"
        },
        "outputId": "4655dad8-fca0-43f6-8c32-9a5f4c5b8eb9"
      },
      "outputs": [
        {
          "output_type": "stream",
          "name": "stdout",
          "text": [
            "{'a': 1, 'b': 2, 'c': 3}\n",
            "2\n",
            "{'a': 1, 'c': 3}\n"
          ]
        }
      ],
      "source": [
        "# pop() : key 삭제\n",
        "dict1 = {'a':1, 'b':2, 'c':3}\n",
        "print(dict1)\n",
        "\n",
        "print(dict1.pop('b'))\n",
        "print(dict1)"
      ]
    },
    {
      "cell_type": "code",
      "execution_count": 117,
      "metadata": {
        "id": "PlsMIz3LxYBq",
        "colab": {
          "base_uri": "https://localhost:8080/"
        },
        "outputId": "6d454a37-e159-4c79-987e-81d0d4b7d549"
      },
      "outputs": [
        {
          "output_type": "stream",
          "name": "stdout",
          "text": [
            "{'a': 1, 'b': 2, 'c': 3}\n",
            "{'a': 1, 'c': 3}\n"
          ]
        }
      ],
      "source": [
        "# del 키워드 : key 삭제\n",
        "dict1 = {'a':1, 'b':2, 'c':3}\n",
        "print(dict1)\n",
        "\n",
        "del dict1['b']\n",
        "print(dict1)"
      ]
    },
    {
      "cell_type": "code",
      "execution_count": 118,
      "metadata": {
        "id": "6WYJ1X87xYBr",
        "colab": {
          "base_uri": "https://localhost:8080/"
        },
        "outputId": "c4311ef2-dc88-49ed-de63-22900fe79576"
      },
      "outputs": [
        {
          "output_type": "stream",
          "name": "stdout",
          "text": [
            "100\n"
          ]
        }
      ],
      "source": [
        "print(a)"
      ]
    },
    {
      "cell_type": "code",
      "source": [
        "del a"
      ],
      "metadata": {
        "id": "ULdtRkxqhAP5"
      },
      "execution_count": 119,
      "outputs": []
    },
    {
      "cell_type": "code",
      "execution_count": 121,
      "metadata": {
        "id": "uuygBAuuxYBr"
      },
      "outputs": [],
      "source": [
        "# print(a) a는 정의되지 않았다"
      ]
    },
    {
      "cell_type": "code",
      "execution_count": 122,
      "metadata": {
        "id": "RRZXI3ZHxYBu",
        "colab": {
          "base_uri": "https://localhost:8080/"
        },
        "outputId": "fb24abef-7b4a-4d5e-d9c7-122f355b5eaf"
      },
      "outputs": [
        {
          "output_type": "stream",
          "name": "stdout",
          "text": [
            "1\n",
            "None\n"
          ]
        }
      ],
      "source": [
        "# get() : key로 value 얻기\n",
        "# key가 없는 경우 none 반환\n",
        "dict1 = {'a':1, 'b':2, 'c':3}\n",
        "\n",
        "print(dict1.get('a'))\n",
        "print(dict1.get('d'))"
      ]
    },
    {
      "cell_type": "code",
      "source": [
        "# 딕셔너리[key]로 value에 접근\n",
        "#key가 없는 경우 에러 발생\n"
      ],
      "metadata": {
        "id": "Wlhg6hadhbW9"
      },
      "execution_count": null,
      "outputs": []
    },
    {
      "cell_type": "code",
      "execution_count": 123,
      "metadata": {
        "id": "ZgsrozxNxYBt",
        "colab": {
          "base_uri": "https://localhost:8080/"
        },
        "outputId": "5121f99f-a812-447a-a389-4ca3a8dd3750"
      },
      "outputs": [
        {
          "output_type": "stream",
          "name": "stdout",
          "text": [
            "{'a': 1, 'b': 2, 'c': 3}\n",
            "True\n",
            "False\n"
          ]
        }
      ],
      "source": [
        "# in 키워드 : key 값 존재 확인\n",
        "dict1 = {'a':1, 'b':2, 'c':3}\n",
        "\n",
        "print(dict1)\n",
        "print('b' in dict1)\n",
        "print('f' in dict1)"
      ]
    },
    {
      "cell_type": "code",
      "source": [
        "list1 = [1, 3, 5, 7, 9, 11, 13]\n",
        "\n",
        "print(13 in list1)"
      ],
      "metadata": {
        "id": "aBe52ktFipro",
        "colab": {
          "base_uri": "https://localhost:8080/"
        },
        "outputId": "37152a67-77ab-433c-8c2d-dd3a9966e229"
      },
      "execution_count": 124,
      "outputs": [
        {
          "output_type": "stream",
          "name": "stdout",
          "text": [
            "True\n"
          ]
        }
      ]
    },
    {
      "cell_type": "code",
      "execution_count": 125,
      "metadata": {
        "id": "YOpqdOF-xYBs",
        "colab": {
          "base_uri": "https://localhost:8080/"
        },
        "outputId": "39c47efb-5734-446e-a00b-1feae20cf71b"
      },
      "outputs": [
        {
          "output_type": "stream",
          "name": "stdout",
          "text": [
            "{'a': 1, 'b': 2, 'c': 3}\n",
            "{}\n"
          ]
        }
      ],
      "source": [
        "# clear() : key:value 쌍 모두 지우기\n",
        "dict1 = {'a':1, 'b':2, 'c':3}\n",
        "print(dict1)\n",
        "\n",
        "dict1.clear()\n",
        "print(dict1)"
      ]
    },
    {
      "cell_type": "markdown",
      "metadata": {
        "id": "TpERiyPpxYBw"
      },
      "source": [
        "### 집합(set)\n",
        "#### 딕셔너리에서 key만 활용하는 데이터 구조로 순서에 의미가 없음"
      ]
    },
    {
      "cell_type": "markdown",
      "metadata": {
        "id": "THRZHIXWxYBw"
      },
      "source": [
        "- #### 집합 생성"
      ]
    },
    {
      "cell_type": "code",
      "execution_count": 126,
      "metadata": {
        "id": "xKpLW4fLxYBw",
        "colab": {
          "base_uri": "https://localhost:8080/"
        },
        "outputId": "e024faa7-7975-48e1-8bc3-22a79728496c"
      },
      "outputs": [
        {
          "output_type": "stream",
          "name": "stdout",
          "text": [
            "{1, 3, 5, 7, 9}\n",
            "<class 'set'>\n"
          ]
        }
      ],
      "source": [
        "# {} 이용 집합 생성\n",
        "set1 = {1, 1, 3, 5, 7, 7, 9}\n",
        "\n",
        "print(set1)\n",
        "print(type(set1))"
      ]
    },
    {
      "cell_type": "code",
      "execution_count": 128,
      "metadata": {
        "id": "X67UQqZixYBx"
      },
      "outputs": [],
      "source": [
        "# 순서에 의미가 없는 비순서 자료형 : 인덱싱 안됨\n",
        "# set1[0] 인덱싱 불가능"
      ]
    },
    {
      "cell_type": "code",
      "source": [
        "# set() 이용 집합 생성\n",
        "set1 = set([1, 1, 3, 5, 7, 7, 9])\n",
        "\n",
        "print(set1)\n",
        "print(type(set1))"
      ],
      "metadata": {
        "id": "DDFEF-O6kHG1",
        "colab": {
          "base_uri": "https://localhost:8080/"
        },
        "outputId": "751d3a64-a5e4-4939-dfee-44ecc39f60c1"
      },
      "execution_count": 129,
      "outputs": [
        {
          "output_type": "stream",
          "name": "stdout",
          "text": [
            "{1, 3, 5, 7, 9}\n",
            "<class 'set'>\n"
          ]
        }
      ]
    },
    {
      "cell_type": "code",
      "execution_count": 130,
      "metadata": {
        "id": "3sjjqzpBxYBy",
        "colab": {
          "base_uri": "https://localhost:8080/"
        },
        "outputId": "69d43f3e-4012-4312-9160-87724090bf98"
      },
      "outputs": [
        {
          "output_type": "stream",
          "name": "stdout",
          "text": [
            "{'s', 'e', 'n', 'o', 'g', 'p'}\n",
            "<class 'set'>\n"
          ]
        }
      ],
      "source": [
        "# 문자열 입력하여 집합 생성\n",
        "# 중복을 허용하지 않기 때문에 o가 하나만 출력\n",
        "# 비순서 자료형 : 인덱싱 지원 안 함\n",
        "set2 = set(\"pengsoo\")\n",
        "\n",
        "print(set2)\n",
        "print(type(set2))"
      ]
    },
    {
      "cell_type": "markdown",
      "metadata": {
        "id": "yLfcYeVdxYBy"
      },
      "source": [
        "- #### 집합 연산\n",
        "    - 합집합 : | , union()\n",
        "    - 교집합 : &, intersection()\n",
        "    - 차집합 : -, difference()\n"
      ]
    },
    {
      "cell_type": "code",
      "execution_count": 131,
      "metadata": {
        "id": "baDK5YE9xYBy"
      },
      "outputs": [],
      "source": [
        "# 집합 선언\n",
        "set1 = {1, 2, 3 ,4, 5}\n",
        "set2 = {1, 3, 5, 7, 9}"
      ]
    },
    {
      "cell_type": "code",
      "source": [
        "# 합집합 : | , union()\n",
        "print(set1 | set2)\n",
        "print(set1.union(set2))"
      ],
      "metadata": {
        "id": "eYOUclfXmEmf",
        "colab": {
          "base_uri": "https://localhost:8080/"
        },
        "outputId": "0a8ed8af-6987-4495-ad95-4abfc603f2d2"
      },
      "execution_count": 132,
      "outputs": [
        {
          "output_type": "stream",
          "name": "stdout",
          "text": [
            "{1, 2, 3, 4, 5, 7, 9}\n",
            "{1, 2, 3, 4, 5, 7, 9}\n"
          ]
        }
      ]
    },
    {
      "cell_type": "code",
      "execution_count": 133,
      "metadata": {
        "id": "xk-fEkOfxYBz",
        "colab": {
          "base_uri": "https://localhost:8080/"
        },
        "outputId": "3cd48b67-3c9e-48f0-96a5-621af6142679"
      },
      "outputs": [
        {
          "output_type": "stream",
          "name": "stdout",
          "text": [
            "{1, 3, 5}\n",
            "{1, 3, 5}\n"
          ]
        }
      ],
      "source": [
        "# 교집합 : &, intersection()\n",
        "print(set1 & set2)\n",
        "print(set1.intersection(set2))"
      ]
    },
    {
      "cell_type": "code",
      "source": [
        "# 차집합 : -, difference()\n",
        "print(set1 - set2)\n",
        "print(set1.difference(set2))"
      ],
      "metadata": {
        "id": "2v1_XaEomKMa",
        "colab": {
          "base_uri": "https://localhost:8080/"
        },
        "outputId": "09dc13cb-4d9c-45d8-d294-088ed6a06a13"
      },
      "execution_count": 134,
      "outputs": [
        {
          "output_type": "stream",
          "name": "stdout",
          "text": [
            "{2, 4}\n",
            "{2, 4}\n"
          ]
        }
      ]
    },
    {
      "cell_type": "markdown",
      "source": [
        "- #### 집합 함수\n",
        "    - add() : 한 개의 값 추가\n",
        "    - update() : 여러 개의 값 추가\n",
        "    - remove() : 특정 값 제거"
      ],
      "metadata": {
        "id": "v3xQTeZmnFIX"
      }
    },
    {
      "cell_type": "code",
      "source": [
        "# 집합 생성\n",
        "set1 = {1, 2, 3, 4, 5}"
      ],
      "metadata": {
        "id": "7g2kCalXnS7e"
      },
      "execution_count": 135,
      "outputs": []
    },
    {
      "cell_type": "code",
      "source": [
        "# add() : 한 개의 값 추가\n",
        "set1.add(6)\n",
        "\n",
        "print(set1)"
      ],
      "metadata": {
        "id": "zFNSNsf-mKSW",
        "colab": {
          "base_uri": "https://localhost:8080/"
        },
        "outputId": "b5913fbd-be57-485d-d06a-4fc06bf02ceb"
      },
      "execution_count": 137,
      "outputs": [
        {
          "output_type": "stream",
          "name": "stdout",
          "text": [
            "{1, 2, 3, 4, 5, 6}\n"
          ]
        }
      ]
    },
    {
      "cell_type": "code",
      "source": [
        "# update() : 여러 개의 값 추가\n",
        "set1.update([6, 7, 8, 9, 10])\n",
        "\n",
        "print(set1)"
      ],
      "metadata": {
        "id": "VhRPeWFSnaBx",
        "colab": {
          "base_uri": "https://localhost:8080/"
        },
        "outputId": "cab42289-2cfd-4544-d7d9-b156b71a54d8"
      },
      "execution_count": 138,
      "outputs": [
        {
          "output_type": "stream",
          "name": "stdout",
          "text": [
            "{1, 2, 3, 4, 5, 6, 7, 8, 9, 10}\n"
          ]
        }
      ]
    },
    {
      "cell_type": "code",
      "source": [
        "# remove() : 특정 값 제거\n",
        "set1.remove(3)\n",
        "\n",
        "print(set1)"
      ],
      "metadata": {
        "id": "KWCAOZLinf5K",
        "colab": {
          "base_uri": "https://localhost:8080/"
        },
        "outputId": "cf7e0119-e2cf-48f5-b908-60b8777c1de5"
      },
      "execution_count": 139,
      "outputs": [
        {
          "output_type": "stream",
          "name": "stdout",
          "text": [
            "{1, 2, 4, 5, 6, 7, 8, 9, 10}\n"
          ]
        }
      ]
    },
    {
      "cell_type": "code",
      "source": [],
      "metadata": {
        "id": "FaC2SuJUnrzR"
      },
      "execution_count": null,
      "outputs": []
    }
  ],
  "metadata": {
    "kernelspec": {
      "display_name": "Python 3",
      "language": "python",
      "name": "python3"
    },
    "language_info": {
      "codemirror_mode": {
        "name": "ipython",
        "version": 3
      },
      "file_extension": ".py",
      "mimetype": "text/x-python",
      "name": "python",
      "nbconvert_exporter": "python",
      "pygments_lexer": "ipython3",
      "version": "3.7.6"
    },
    "colab": {
      "provenance": [],
      "toc_visible": true,
      "include_colab_link": true
    }
  },
  "nbformat": 4,
  "nbformat_minor": 0
}